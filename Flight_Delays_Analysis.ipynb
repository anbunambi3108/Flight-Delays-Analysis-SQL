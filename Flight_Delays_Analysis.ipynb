{
 "cells": [
  {
   "cell_type": "code",
   "execution_count": 1,
   "metadata": {
    "colab": {
     "base_uri": "https://localhost:8080/"
    },
    "id": "RB16JxfpKRfq",
    "outputId": "3562e61f-1054-4dec-8d2d-f916258f2533"
   },
   "outputs": [],
   "source": [
    "# !pip install pandas sqlite3\n",
    "# !pip install seaborn   \n",
    "# !pip install plotly\n",
    "# !pip install pandas\n",
    "# !pip install matplotlib\n"
   ]
  },
  {
   "cell_type": "code",
   "execution_count": 2,
   "metadata": {
    "id": "ZJPWlYVSKqTR"
   },
   "outputs": [],
   "source": [
    "import pandas as pd\n",
    "import sqlite3\n",
    "import seaborn as sns\n",
    "import matplotlib.pyplot as plt\n",
    "import plotly.express as px\n",
    "\n",
    "sns.set(style=\"whitegrid\")  # cleaner visuals\n"
   ]
  },
  {
   "cell_type": "markdown",
   "metadata": {},
   "source": [
    "# Flight Delay Analysis: Identifying Root Causes from 3 Million US Flights"
   ]
  },
  {
   "cell_type": "markdown",
   "metadata": {},
   "source": [
    "#### Project Goal: What causes the most flight delays?"
   ]
  },
  {
   "cell_type": "markdown",
   "metadata": {},
   "source": [
    "This project analyzes over 3 million US domestic flights to uncover the top drivers of flight delays. Using SQL and Python, I examined trends across years, airports, airlines, and departure times. The analysis identifies peak delay periods, underperforming routes, and the impact of delay causes such as weather, air traffic, and airline issues. This actionable insight helps airlines and airports target improvements that can reduce disruptions."
   ]
  },
  {
   "cell_type": "code",
   "execution_count": 3,
   "metadata": {
    "colab": {
     "base_uri": "https://localhost:8080/",
     "height": 756
    },
    "id": "yHaB6FxuKtp1",
    "outputId": "578f209e-8458-482d-a031-ecf37bf36e05"
   },
   "outputs": [
    {
     "data": {
      "text/html": [
       "<div>\n",
       "<style scoped>\n",
       "    .dataframe tbody tr th:only-of-type {\n",
       "        vertical-align: middle;\n",
       "    }\n",
       "\n",
       "    .dataframe tbody tr th {\n",
       "        vertical-align: top;\n",
       "    }\n",
       "\n",
       "    .dataframe thead th {\n",
       "        text-align: right;\n",
       "    }\n",
       "</style>\n",
       "<table border=\"1\" class=\"dataframe\">\n",
       "  <thead>\n",
       "    <tr style=\"text-align: right;\">\n",
       "      <th></th>\n",
       "      <th>FL_DATE</th>\n",
       "      <th>AIRLINE</th>\n",
       "      <th>AIRLINE_DOT</th>\n",
       "      <th>AIRLINE_CODE</th>\n",
       "      <th>DOT_CODE</th>\n",
       "      <th>FL_NUMBER</th>\n",
       "      <th>ORIGIN</th>\n",
       "      <th>ORIGIN_CITY</th>\n",
       "      <th>DEST</th>\n",
       "      <th>DEST_CITY</th>\n",
       "      <th>...</th>\n",
       "      <th>DIVERTED</th>\n",
       "      <th>CRS_ELAPSED_TIME</th>\n",
       "      <th>ELAPSED_TIME</th>\n",
       "      <th>AIR_TIME</th>\n",
       "      <th>DISTANCE</th>\n",
       "      <th>DELAY_DUE_CARRIER</th>\n",
       "      <th>DELAY_DUE_WEATHER</th>\n",
       "      <th>DELAY_DUE_NAS</th>\n",
       "      <th>DELAY_DUE_SECURITY</th>\n",
       "      <th>DELAY_DUE_LATE_AIRCRAFT</th>\n",
       "    </tr>\n",
       "  </thead>\n",
       "  <tbody>\n",
       "    <tr>\n",
       "      <th>0</th>\n",
       "      <td>2019-01-09</td>\n",
       "      <td>United Air Lines Inc.</td>\n",
       "      <td>United Air Lines Inc.: UA</td>\n",
       "      <td>UA</td>\n",
       "      <td>19977</td>\n",
       "      <td>1562</td>\n",
       "      <td>FLL</td>\n",
       "      <td>Fort Lauderdale, FL</td>\n",
       "      <td>EWR</td>\n",
       "      <td>Newark, NJ</td>\n",
       "      <td>...</td>\n",
       "      <td>0.0</td>\n",
       "      <td>186.0</td>\n",
       "      <td>176.0</td>\n",
       "      <td>153.0</td>\n",
       "      <td>1065.0</td>\n",
       "      <td>NaN</td>\n",
       "      <td>NaN</td>\n",
       "      <td>NaN</td>\n",
       "      <td>NaN</td>\n",
       "      <td>NaN</td>\n",
       "    </tr>\n",
       "    <tr>\n",
       "      <th>1</th>\n",
       "      <td>2022-11-19</td>\n",
       "      <td>Delta Air Lines Inc.</td>\n",
       "      <td>Delta Air Lines Inc.: DL</td>\n",
       "      <td>DL</td>\n",
       "      <td>19790</td>\n",
       "      <td>1149</td>\n",
       "      <td>MSP</td>\n",
       "      <td>Minneapolis, MN</td>\n",
       "      <td>SEA</td>\n",
       "      <td>Seattle, WA</td>\n",
       "      <td>...</td>\n",
       "      <td>0.0</td>\n",
       "      <td>235.0</td>\n",
       "      <td>236.0</td>\n",
       "      <td>189.0</td>\n",
       "      <td>1399.0</td>\n",
       "      <td>NaN</td>\n",
       "      <td>NaN</td>\n",
       "      <td>NaN</td>\n",
       "      <td>NaN</td>\n",
       "      <td>NaN</td>\n",
       "    </tr>\n",
       "    <tr>\n",
       "      <th>2</th>\n",
       "      <td>2022-07-22</td>\n",
       "      <td>United Air Lines Inc.</td>\n",
       "      <td>United Air Lines Inc.: UA</td>\n",
       "      <td>UA</td>\n",
       "      <td>19977</td>\n",
       "      <td>459</td>\n",
       "      <td>DEN</td>\n",
       "      <td>Denver, CO</td>\n",
       "      <td>MSP</td>\n",
       "      <td>Minneapolis, MN</td>\n",
       "      <td>...</td>\n",
       "      <td>0.0</td>\n",
       "      <td>118.0</td>\n",
       "      <td>112.0</td>\n",
       "      <td>87.0</td>\n",
       "      <td>680.0</td>\n",
       "      <td>NaN</td>\n",
       "      <td>NaN</td>\n",
       "      <td>NaN</td>\n",
       "      <td>NaN</td>\n",
       "      <td>NaN</td>\n",
       "    </tr>\n",
       "    <tr>\n",
       "      <th>3</th>\n",
       "      <td>2023-03-06</td>\n",
       "      <td>Delta Air Lines Inc.</td>\n",
       "      <td>Delta Air Lines Inc.: DL</td>\n",
       "      <td>DL</td>\n",
       "      <td>19790</td>\n",
       "      <td>2295</td>\n",
       "      <td>MSP</td>\n",
       "      <td>Minneapolis, MN</td>\n",
       "      <td>SFO</td>\n",
       "      <td>San Francisco, CA</td>\n",
       "      <td>...</td>\n",
       "      <td>0.0</td>\n",
       "      <td>260.0</td>\n",
       "      <td>285.0</td>\n",
       "      <td>249.0</td>\n",
       "      <td>1589.0</td>\n",
       "      <td>0.0</td>\n",
       "      <td>0.0</td>\n",
       "      <td>24.0</td>\n",
       "      <td>0.0</td>\n",
       "      <td>0.0</td>\n",
       "    </tr>\n",
       "    <tr>\n",
       "      <th>4</th>\n",
       "      <td>2020-02-23</td>\n",
       "      <td>Spirit Air Lines</td>\n",
       "      <td>Spirit Air Lines: NK</td>\n",
       "      <td>NK</td>\n",
       "      <td>20416</td>\n",
       "      <td>407</td>\n",
       "      <td>MCO</td>\n",
       "      <td>Orlando, FL</td>\n",
       "      <td>DFW</td>\n",
       "      <td>Dallas/Fort Worth, TX</td>\n",
       "      <td>...</td>\n",
       "      <td>0.0</td>\n",
       "      <td>181.0</td>\n",
       "      <td>182.0</td>\n",
       "      <td>153.0</td>\n",
       "      <td>985.0</td>\n",
       "      <td>NaN</td>\n",
       "      <td>NaN</td>\n",
       "      <td>NaN</td>\n",
       "      <td>NaN</td>\n",
       "      <td>NaN</td>\n",
       "    </tr>\n",
       "    <tr>\n",
       "      <th>...</th>\n",
       "      <td>...</td>\n",
       "      <td>...</td>\n",
       "      <td>...</td>\n",
       "      <td>...</td>\n",
       "      <td>...</td>\n",
       "      <td>...</td>\n",
       "      <td>...</td>\n",
       "      <td>...</td>\n",
       "      <td>...</td>\n",
       "      <td>...</td>\n",
       "      <td>...</td>\n",
       "      <td>...</td>\n",
       "      <td>...</td>\n",
       "      <td>...</td>\n",
       "      <td>...</td>\n",
       "      <td>...</td>\n",
       "      <td>...</td>\n",
       "      <td>...</td>\n",
       "      <td>...</td>\n",
       "      <td>...</td>\n",
       "      <td>...</td>\n",
       "    </tr>\n",
       "    <tr>\n",
       "      <th>2999995</th>\n",
       "      <td>2022-11-13</td>\n",
       "      <td>American Airlines Inc.</td>\n",
       "      <td>American Airlines Inc.: AA</td>\n",
       "      <td>AA</td>\n",
       "      <td>19805</td>\n",
       "      <td>1522</td>\n",
       "      <td>JAX</td>\n",
       "      <td>Jacksonville, FL</td>\n",
       "      <td>CLT</td>\n",
       "      <td>Charlotte, NC</td>\n",
       "      <td>...</td>\n",
       "      <td>0.0</td>\n",
       "      <td>85.0</td>\n",
       "      <td>71.0</td>\n",
       "      <td>55.0</td>\n",
       "      <td>328.0</td>\n",
       "      <td>NaN</td>\n",
       "      <td>NaN</td>\n",
       "      <td>NaN</td>\n",
       "      <td>NaN</td>\n",
       "      <td>NaN</td>\n",
       "    </tr>\n",
       "    <tr>\n",
       "      <th>2999996</th>\n",
       "      <td>2022-11-02</td>\n",
       "      <td>American Airlines Inc.</td>\n",
       "      <td>American Airlines Inc.: AA</td>\n",
       "      <td>AA</td>\n",
       "      <td>19805</td>\n",
       "      <td>1535</td>\n",
       "      <td>ORD</td>\n",
       "      <td>Chicago, IL</td>\n",
       "      <td>AUS</td>\n",
       "      <td>Austin, TX</td>\n",
       "      <td>...</td>\n",
       "      <td>0.0</td>\n",
       "      <td>176.0</td>\n",
       "      <td>145.0</td>\n",
       "      <td>130.0</td>\n",
       "      <td>977.0</td>\n",
       "      <td>NaN</td>\n",
       "      <td>NaN</td>\n",
       "      <td>NaN</td>\n",
       "      <td>NaN</td>\n",
       "      <td>NaN</td>\n",
       "    </tr>\n",
       "    <tr>\n",
       "      <th>2999997</th>\n",
       "      <td>2022-09-11</td>\n",
       "      <td>Delta Air Lines Inc.</td>\n",
       "      <td>Delta Air Lines Inc.: DL</td>\n",
       "      <td>DL</td>\n",
       "      <td>19790</td>\n",
       "      <td>2745</td>\n",
       "      <td>HSV</td>\n",
       "      <td>Huntsville, AL</td>\n",
       "      <td>ATL</td>\n",
       "      <td>Atlanta, GA</td>\n",
       "      <td>...</td>\n",
       "      <td>0.0</td>\n",
       "      <td>55.0</td>\n",
       "      <td>50.0</td>\n",
       "      <td>28.0</td>\n",
       "      <td>151.0</td>\n",
       "      <td>0.0</td>\n",
       "      <td>36.0</td>\n",
       "      <td>0.0</td>\n",
       "      <td>0.0</td>\n",
       "      <td>0.0</td>\n",
       "    </tr>\n",
       "    <tr>\n",
       "      <th>2999998</th>\n",
       "      <td>2019-11-13</td>\n",
       "      <td>Republic Airline</td>\n",
       "      <td>Republic Airline: YX</td>\n",
       "      <td>YX</td>\n",
       "      <td>20452</td>\n",
       "      <td>6134</td>\n",
       "      <td>BOS</td>\n",
       "      <td>Boston, MA</td>\n",
       "      <td>LGA</td>\n",
       "      <td>New York, NY</td>\n",
       "      <td>...</td>\n",
       "      <td>0.0</td>\n",
       "      <td>88.0</td>\n",
       "      <td>77.0</td>\n",
       "      <td>50.0</td>\n",
       "      <td>184.0</td>\n",
       "      <td>NaN</td>\n",
       "      <td>NaN</td>\n",
       "      <td>NaN</td>\n",
       "      <td>NaN</td>\n",
       "      <td>NaN</td>\n",
       "    </tr>\n",
       "    <tr>\n",
       "      <th>2999999</th>\n",
       "      <td>2019-06-15</td>\n",
       "      <td>Southwest Airlines Co.</td>\n",
       "      <td>Southwest Airlines Co.: WN</td>\n",
       "      <td>WN</td>\n",
       "      <td>19393</td>\n",
       "      <td>2823</td>\n",
       "      <td>LGB</td>\n",
       "      <td>Long Beach, CA</td>\n",
       "      <td>SJC</td>\n",
       "      <td>San Jose, CA</td>\n",
       "      <td>...</td>\n",
       "      <td>0.0</td>\n",
       "      <td>70.0</td>\n",
       "      <td>63.0</td>\n",
       "      <td>52.0</td>\n",
       "      <td>324.0</td>\n",
       "      <td>NaN</td>\n",
       "      <td>NaN</td>\n",
       "      <td>NaN</td>\n",
       "      <td>NaN</td>\n",
       "      <td>NaN</td>\n",
       "    </tr>\n",
       "  </tbody>\n",
       "</table>\n",
       "<p>3000000 rows × 32 columns</p>\n",
       "</div>"
      ],
      "text/plain": [
       "            FL_DATE                 AIRLINE                 AIRLINE_DOT  \\\n",
       "0        2019-01-09   United Air Lines Inc.   United Air Lines Inc.: UA   \n",
       "1        2022-11-19    Delta Air Lines Inc.    Delta Air Lines Inc.: DL   \n",
       "2        2022-07-22   United Air Lines Inc.   United Air Lines Inc.: UA   \n",
       "3        2023-03-06    Delta Air Lines Inc.    Delta Air Lines Inc.: DL   \n",
       "4        2020-02-23        Spirit Air Lines        Spirit Air Lines: NK   \n",
       "...             ...                     ...                         ...   \n",
       "2999995  2022-11-13  American Airlines Inc.  American Airlines Inc.: AA   \n",
       "2999996  2022-11-02  American Airlines Inc.  American Airlines Inc.: AA   \n",
       "2999997  2022-09-11    Delta Air Lines Inc.    Delta Air Lines Inc.: DL   \n",
       "2999998  2019-11-13        Republic Airline        Republic Airline: YX   \n",
       "2999999  2019-06-15  Southwest Airlines Co.  Southwest Airlines Co.: WN   \n",
       "\n",
       "        AIRLINE_CODE  DOT_CODE  FL_NUMBER ORIGIN          ORIGIN_CITY DEST  \\\n",
       "0                 UA     19977       1562    FLL  Fort Lauderdale, FL  EWR   \n",
       "1                 DL     19790       1149    MSP      Minneapolis, MN  SEA   \n",
       "2                 UA     19977        459    DEN           Denver, CO  MSP   \n",
       "3                 DL     19790       2295    MSP      Minneapolis, MN  SFO   \n",
       "4                 NK     20416        407    MCO          Orlando, FL  DFW   \n",
       "...              ...       ...        ...    ...                  ...  ...   \n",
       "2999995           AA     19805       1522    JAX     Jacksonville, FL  CLT   \n",
       "2999996           AA     19805       1535    ORD          Chicago, IL  AUS   \n",
       "2999997           DL     19790       2745    HSV       Huntsville, AL  ATL   \n",
       "2999998           YX     20452       6134    BOS           Boston, MA  LGA   \n",
       "2999999           WN     19393       2823    LGB       Long Beach, CA  SJC   \n",
       "\n",
       "                     DEST_CITY  ...  DIVERTED  CRS_ELAPSED_TIME  ELAPSED_TIME  \\\n",
       "0                   Newark, NJ  ...       0.0             186.0         176.0   \n",
       "1                  Seattle, WA  ...       0.0             235.0         236.0   \n",
       "2              Minneapolis, MN  ...       0.0             118.0         112.0   \n",
       "3            San Francisco, CA  ...       0.0             260.0         285.0   \n",
       "4        Dallas/Fort Worth, TX  ...       0.0             181.0         182.0   \n",
       "...                        ...  ...       ...               ...           ...   \n",
       "2999995          Charlotte, NC  ...       0.0              85.0          71.0   \n",
       "2999996             Austin, TX  ...       0.0             176.0         145.0   \n",
       "2999997            Atlanta, GA  ...       0.0              55.0          50.0   \n",
       "2999998           New York, NY  ...       0.0              88.0          77.0   \n",
       "2999999           San Jose, CA  ...       0.0              70.0          63.0   \n",
       "\n",
       "         AIR_TIME  DISTANCE  DELAY_DUE_CARRIER  DELAY_DUE_WEATHER  \\\n",
       "0           153.0    1065.0                NaN                NaN   \n",
       "1           189.0    1399.0                NaN                NaN   \n",
       "2            87.0     680.0                NaN                NaN   \n",
       "3           249.0    1589.0                0.0                0.0   \n",
       "4           153.0     985.0                NaN                NaN   \n",
       "...           ...       ...                ...                ...   \n",
       "2999995      55.0     328.0                NaN                NaN   \n",
       "2999996     130.0     977.0                NaN                NaN   \n",
       "2999997      28.0     151.0                0.0               36.0   \n",
       "2999998      50.0     184.0                NaN                NaN   \n",
       "2999999      52.0     324.0                NaN                NaN   \n",
       "\n",
       "         DELAY_DUE_NAS  DELAY_DUE_SECURITY  DELAY_DUE_LATE_AIRCRAFT  \n",
       "0                  NaN                 NaN                      NaN  \n",
       "1                  NaN                 NaN                      NaN  \n",
       "2                  NaN                 NaN                      NaN  \n",
       "3                 24.0                 0.0                      0.0  \n",
       "4                  NaN                 NaN                      NaN  \n",
       "...                ...                 ...                      ...  \n",
       "2999995            NaN                 NaN                      NaN  \n",
       "2999996            NaN                 NaN                      NaN  \n",
       "2999997            0.0                 0.0                      0.0  \n",
       "2999998            NaN                 NaN                      NaN  \n",
       "2999999            NaN                 NaN                      NaN  \n",
       "\n",
       "[3000000 rows x 32 columns]"
      ]
     },
     "execution_count": 3,
     "metadata": {},
     "output_type": "execute_result"
    }
   ],
   "source": [
    "df = pd.read_csv('data/flights_sample_3m.csv')\n",
    "df\n"
   ]
  },
  {
   "cell_type": "code",
   "execution_count": 4,
   "metadata": {
    "colab": {
     "base_uri": "https://localhost:8080/",
     "height": 1000
    },
    "id": "dtV7rM3SRkcc",
    "outputId": "40a0c219-5f5d-4c33-bf90-563cd701e8af"
   },
   "outputs": [
    {
     "name": "stdout",
     "output_type": "stream",
     "text": [
      "<class 'pandas.core.frame.DataFrame'>\n",
      "RangeIndex: 3000000 entries, 0 to 2999999\n",
      "Data columns (total 32 columns):\n",
      " #   Column                   Dtype  \n",
      "---  ------                   -----  \n",
      " 0   FL_DATE                  object \n",
      " 1   AIRLINE                  object \n",
      " 2   AIRLINE_DOT              object \n",
      " 3   AIRLINE_CODE             object \n",
      " 4   DOT_CODE                 int64  \n",
      " 5   FL_NUMBER                int64  \n",
      " 6   ORIGIN                   object \n",
      " 7   ORIGIN_CITY              object \n",
      " 8   DEST                     object \n",
      " 9   DEST_CITY                object \n",
      " 10  CRS_DEP_TIME             int64  \n",
      " 11  DEP_TIME                 float64\n",
      " 12  DEP_DELAY                float64\n",
      " 13  TAXI_OUT                 float64\n",
      " 14  WHEELS_OFF               float64\n",
      " 15  WHEELS_ON                float64\n",
      " 16  TAXI_IN                  float64\n",
      " 17  CRS_ARR_TIME             int64  \n",
      " 18  ARR_TIME                 float64\n",
      " 19  ARR_DELAY                float64\n",
      " 20  CANCELLED                float64\n",
      " 21  CANCELLATION_CODE        object \n",
      " 22  DIVERTED                 float64\n",
      " 23  CRS_ELAPSED_TIME         float64\n",
      " 24  ELAPSED_TIME             float64\n",
      " 25  AIR_TIME                 float64\n",
      " 26  DISTANCE                 float64\n",
      " 27  DELAY_DUE_CARRIER        float64\n",
      " 28  DELAY_DUE_WEATHER        float64\n",
      " 29  DELAY_DUE_NAS            float64\n",
      " 30  DELAY_DUE_SECURITY       float64\n",
      " 31  DELAY_DUE_LATE_AIRCRAFT  float64\n",
      "dtypes: float64(19), int64(4), object(9)\n",
      "memory usage: 732.4+ MB\n"
     ]
    },
    {
     "data": {
      "text/plain": [
       "FL_DATE                          0\n",
       "AIRLINE                          0\n",
       "AIRLINE_DOT                      0\n",
       "AIRLINE_CODE                     0\n",
       "DOT_CODE                         0\n",
       "FL_NUMBER                        0\n",
       "ORIGIN                           0\n",
       "ORIGIN_CITY                      0\n",
       "DEST                             0\n",
       "DEST_CITY                        0\n",
       "CRS_DEP_TIME                     0\n",
       "DEP_TIME                     77615\n",
       "DEP_DELAY                    77644\n",
       "TAXI_OUT                     78806\n",
       "WHEELS_OFF                   78806\n",
       "WHEELS_ON                    79944\n",
       "TAXI_IN                      79944\n",
       "CRS_ARR_TIME                     0\n",
       "ARR_TIME                     79942\n",
       "ARR_DELAY                    86198\n",
       "CANCELLED                        0\n",
       "CANCELLATION_CODE          2920860\n",
       "DIVERTED                         0\n",
       "CRS_ELAPSED_TIME                14\n",
       "ELAPSED_TIME                 86198\n",
       "AIR_TIME                     86198\n",
       "DISTANCE                         0\n",
       "DELAY_DUE_CARRIER          2466137\n",
       "DELAY_DUE_WEATHER          2466137\n",
       "DELAY_DUE_NAS              2466137\n",
       "DELAY_DUE_SECURITY         2466137\n",
       "DELAY_DUE_LATE_AIRCRAFT    2466137\n",
       "dtype: int64"
      ]
     },
     "execution_count": 4,
     "metadata": {},
     "output_type": "execute_result"
    }
   ],
   "source": [
    "df.info()\n",
    "df.isnull().sum()  # Count missing values\n"
   ]
  },
  {
   "cell_type": "code",
   "execution_count": 5,
   "metadata": {
    "id": "wLrbFsDdRm63"
   },
   "outputs": [],
   "source": [
    "conn = sqlite3.connect(':memory:')  # Creates a temporary SQLite database\n"
   ]
  },
  {
   "cell_type": "code",
   "execution_count": 6,
   "metadata": {
    "colab": {
     "base_uri": "https://localhost:8080/"
    },
    "id": "gAibqe0pRoUO",
    "outputId": "866e84c1-e888-4610-864b-f3bc273181de"
   },
   "outputs": [
    {
     "data": {
      "text/plain": [
       "3000000"
      ]
     },
     "execution_count": 6,
     "metadata": {},
     "output_type": "execute_result"
    }
   ],
   "source": [
    "df.to_sql('flight_data', conn, index=False, if_exists='replace')  # Save DataFrame as SQL table\n"
   ]
  },
  {
   "cell_type": "markdown",
   "metadata": {},
   "source": [
    "## **SECTION-1: Delay Trends Over Time**"
   ]
  },
  {
   "cell_type": "markdown",
   "metadata": {
    "id": "iufYVKIvD_nt"
   },
   "source": [
    "### 1. Total Number of Flights per Year"
   ]
  },
  {
   "cell_type": "code",
   "execution_count": 7,
   "metadata": {
    "colab": {
     "base_uri": "https://localhost:8080/",
     "height": 206
    },
    "id": "pTBffDOMDBkQ",
    "outputId": "f9cf4ece-6a13-4349-b992-1763fd725477"
   },
   "outputs": [
    {
     "data": {
      "text/html": [
       "<div>\n",
       "<style scoped>\n",
       "    .dataframe tbody tr th:only-of-type {\n",
       "        vertical-align: middle;\n",
       "    }\n",
       "\n",
       "    .dataframe tbody tr th {\n",
       "        vertical-align: top;\n",
       "    }\n",
       "\n",
       "    .dataframe thead th {\n",
       "        text-align: right;\n",
       "    }\n",
       "</style>\n",
       "<table border=\"1\" class=\"dataframe\">\n",
       "  <thead>\n",
       "    <tr style=\"text-align: right;\">\n",
       "      <th></th>\n",
       "      <th>Year</th>\n",
       "      <th>Total_Flights</th>\n",
       "    </tr>\n",
       "  </thead>\n",
       "  <tbody>\n",
       "    <tr>\n",
       "      <th>0</th>\n",
       "      <td>2019</td>\n",
       "      <td>757673</td>\n",
       "    </tr>\n",
       "    <tr>\n",
       "      <th>1</th>\n",
       "      <td>2020</td>\n",
       "      <td>479350</td>\n",
       "    </tr>\n",
       "    <tr>\n",
       "      <th>2</th>\n",
       "      <td>2021</td>\n",
       "      <td>611633</td>\n",
       "    </tr>\n",
       "    <tr>\n",
       "      <th>3</th>\n",
       "      <td>2022</td>\n",
       "      <td>687860</td>\n",
       "    </tr>\n",
       "    <tr>\n",
       "      <th>4</th>\n",
       "      <td>2023</td>\n",
       "      <td>463484</td>\n",
       "    </tr>\n",
       "  </tbody>\n",
       "</table>\n",
       "</div>"
      ],
      "text/plain": [
       "   Year  Total_Flights\n",
       "0  2019         757673\n",
       "1  2020         479350\n",
       "2  2021         611633\n",
       "3  2022         687860\n",
       "4  2023         463484"
      ]
     },
     "execution_count": 7,
     "metadata": {},
     "output_type": "execute_result"
    }
   ],
   "source": [
    "query = '''\n",
    "SELECT strftime('%Y', FL_DATE) as Year, COUNT(*) as Total_Flights\n",
    "FROM flight_data\n",
    "GROUP BY year;\n",
    "'''\n",
    "result1= pd.read_sql_query(query, conn)\n",
    "result1\n"
   ]
  },
  {
   "cell_type": "markdown",
   "metadata": {
    "id": "VerLcQ9CKmNR"
   },
   "source": [
    "- This query retrieves the total number of flights for each year by extracting the year from the flight date and grouping the data accordingly.\n",
    "- It helps to understand the annual flight volume trends."
   ]
  },
  {
   "cell_type": "code",
   "execution_count": 8,
   "metadata": {},
   "outputs": [
    {
     "data": {
      "application/vnd.plotly.v1+json": {
       "config": {
        "plotlyServerURL": "https://plot.ly"
       },
       "data": [
        {
         "hovertemplate": "Year=%{x}<br>Flights=%{y}<extra></extra>",
         "legendgroup": "",
         "marker": {
          "color": "#636efa",
          "pattern": {
           "shape": ""
          }
         },
         "name": "",
         "orientation": "v",
         "showlegend": false,
         "textposition": "auto",
         "type": "bar",
         "x": [
          "2019",
          "2020",
          "2021",
          "2022",
          "2023"
         ],
         "xaxis": "x",
         "y": {
          "bdata": "qY8LAHZQBwAxVQkA9H4KAHwSBwA=",
          "dtype": "i4"
         },
         "yaxis": "y"
        }
       ],
       "layout": {
        "barmode": "relative",
        "legend": {
         "tracegroupgap": 0
        },
        "template": {
         "data": {
          "bar": [
           {
            "error_x": {
             "color": "#2a3f5f"
            },
            "error_y": {
             "color": "#2a3f5f"
            },
            "marker": {
             "line": {
              "color": "#E5ECF6",
              "width": 0.5
             },
             "pattern": {
              "fillmode": "overlay",
              "size": 10,
              "solidity": 0.2
             }
            },
            "type": "bar"
           }
          ],
          "barpolar": [
           {
            "marker": {
             "line": {
              "color": "#E5ECF6",
              "width": 0.5
             },
             "pattern": {
              "fillmode": "overlay",
              "size": 10,
              "solidity": 0.2
             }
            },
            "type": "barpolar"
           }
          ],
          "carpet": [
           {
            "aaxis": {
             "endlinecolor": "#2a3f5f",
             "gridcolor": "white",
             "linecolor": "white",
             "minorgridcolor": "white",
             "startlinecolor": "#2a3f5f"
            },
            "baxis": {
             "endlinecolor": "#2a3f5f",
             "gridcolor": "white",
             "linecolor": "white",
             "minorgridcolor": "white",
             "startlinecolor": "#2a3f5f"
            },
            "type": "carpet"
           }
          ],
          "choropleth": [
           {
            "colorbar": {
             "outlinewidth": 0,
             "ticks": ""
            },
            "type": "choropleth"
           }
          ],
          "contour": [
           {
            "colorbar": {
             "outlinewidth": 0,
             "ticks": ""
            },
            "colorscale": [
             [
              0,
              "#0d0887"
             ],
             [
              0.1111111111111111,
              "#46039f"
             ],
             [
              0.2222222222222222,
              "#7201a8"
             ],
             [
              0.3333333333333333,
              "#9c179e"
             ],
             [
              0.4444444444444444,
              "#bd3786"
             ],
             [
              0.5555555555555556,
              "#d8576b"
             ],
             [
              0.6666666666666666,
              "#ed7953"
             ],
             [
              0.7777777777777778,
              "#fb9f3a"
             ],
             [
              0.8888888888888888,
              "#fdca26"
             ],
             [
              1,
              "#f0f921"
             ]
            ],
            "type": "contour"
           }
          ],
          "contourcarpet": [
           {
            "colorbar": {
             "outlinewidth": 0,
             "ticks": ""
            },
            "type": "contourcarpet"
           }
          ],
          "heatmap": [
           {
            "colorbar": {
             "outlinewidth": 0,
             "ticks": ""
            },
            "colorscale": [
             [
              0,
              "#0d0887"
             ],
             [
              0.1111111111111111,
              "#46039f"
             ],
             [
              0.2222222222222222,
              "#7201a8"
             ],
             [
              0.3333333333333333,
              "#9c179e"
             ],
             [
              0.4444444444444444,
              "#bd3786"
             ],
             [
              0.5555555555555556,
              "#d8576b"
             ],
             [
              0.6666666666666666,
              "#ed7953"
             ],
             [
              0.7777777777777778,
              "#fb9f3a"
             ],
             [
              0.8888888888888888,
              "#fdca26"
             ],
             [
              1,
              "#f0f921"
             ]
            ],
            "type": "heatmap"
           }
          ],
          "histogram": [
           {
            "marker": {
             "pattern": {
              "fillmode": "overlay",
              "size": 10,
              "solidity": 0.2
             }
            },
            "type": "histogram"
           }
          ],
          "histogram2d": [
           {
            "colorbar": {
             "outlinewidth": 0,
             "ticks": ""
            },
            "colorscale": [
             [
              0,
              "#0d0887"
             ],
             [
              0.1111111111111111,
              "#46039f"
             ],
             [
              0.2222222222222222,
              "#7201a8"
             ],
             [
              0.3333333333333333,
              "#9c179e"
             ],
             [
              0.4444444444444444,
              "#bd3786"
             ],
             [
              0.5555555555555556,
              "#d8576b"
             ],
             [
              0.6666666666666666,
              "#ed7953"
             ],
             [
              0.7777777777777778,
              "#fb9f3a"
             ],
             [
              0.8888888888888888,
              "#fdca26"
             ],
             [
              1,
              "#f0f921"
             ]
            ],
            "type": "histogram2d"
           }
          ],
          "histogram2dcontour": [
           {
            "colorbar": {
             "outlinewidth": 0,
             "ticks": ""
            },
            "colorscale": [
             [
              0,
              "#0d0887"
             ],
             [
              0.1111111111111111,
              "#46039f"
             ],
             [
              0.2222222222222222,
              "#7201a8"
             ],
             [
              0.3333333333333333,
              "#9c179e"
             ],
             [
              0.4444444444444444,
              "#bd3786"
             ],
             [
              0.5555555555555556,
              "#d8576b"
             ],
             [
              0.6666666666666666,
              "#ed7953"
             ],
             [
              0.7777777777777778,
              "#fb9f3a"
             ],
             [
              0.8888888888888888,
              "#fdca26"
             ],
             [
              1,
              "#f0f921"
             ]
            ],
            "type": "histogram2dcontour"
           }
          ],
          "mesh3d": [
           {
            "colorbar": {
             "outlinewidth": 0,
             "ticks": ""
            },
            "type": "mesh3d"
           }
          ],
          "parcoords": [
           {
            "line": {
             "colorbar": {
              "outlinewidth": 0,
              "ticks": ""
             }
            },
            "type": "parcoords"
           }
          ],
          "pie": [
           {
            "automargin": true,
            "type": "pie"
           }
          ],
          "scatter": [
           {
            "fillpattern": {
             "fillmode": "overlay",
             "size": 10,
             "solidity": 0.2
            },
            "type": "scatter"
           }
          ],
          "scatter3d": [
           {
            "line": {
             "colorbar": {
              "outlinewidth": 0,
              "ticks": ""
             }
            },
            "marker": {
             "colorbar": {
              "outlinewidth": 0,
              "ticks": ""
             }
            },
            "type": "scatter3d"
           }
          ],
          "scattercarpet": [
           {
            "marker": {
             "colorbar": {
              "outlinewidth": 0,
              "ticks": ""
             }
            },
            "type": "scattercarpet"
           }
          ],
          "scattergeo": [
           {
            "marker": {
             "colorbar": {
              "outlinewidth": 0,
              "ticks": ""
             }
            },
            "type": "scattergeo"
           }
          ],
          "scattergl": [
           {
            "marker": {
             "colorbar": {
              "outlinewidth": 0,
              "ticks": ""
             }
            },
            "type": "scattergl"
           }
          ],
          "scattermap": [
           {
            "marker": {
             "colorbar": {
              "outlinewidth": 0,
              "ticks": ""
             }
            },
            "type": "scattermap"
           }
          ],
          "scattermapbox": [
           {
            "marker": {
             "colorbar": {
              "outlinewidth": 0,
              "ticks": ""
             }
            },
            "type": "scattermapbox"
           }
          ],
          "scatterpolar": [
           {
            "marker": {
             "colorbar": {
              "outlinewidth": 0,
              "ticks": ""
             }
            },
            "type": "scatterpolar"
           }
          ],
          "scatterpolargl": [
           {
            "marker": {
             "colorbar": {
              "outlinewidth": 0,
              "ticks": ""
             }
            },
            "type": "scatterpolargl"
           }
          ],
          "scatterternary": [
           {
            "marker": {
             "colorbar": {
              "outlinewidth": 0,
              "ticks": ""
             }
            },
            "type": "scatterternary"
           }
          ],
          "surface": [
           {
            "colorbar": {
             "outlinewidth": 0,
             "ticks": ""
            },
            "colorscale": [
             [
              0,
              "#0d0887"
             ],
             [
              0.1111111111111111,
              "#46039f"
             ],
             [
              0.2222222222222222,
              "#7201a8"
             ],
             [
              0.3333333333333333,
              "#9c179e"
             ],
             [
              0.4444444444444444,
              "#bd3786"
             ],
             [
              0.5555555555555556,
              "#d8576b"
             ],
             [
              0.6666666666666666,
              "#ed7953"
             ],
             [
              0.7777777777777778,
              "#fb9f3a"
             ],
             [
              0.8888888888888888,
              "#fdca26"
             ],
             [
              1,
              "#f0f921"
             ]
            ],
            "type": "surface"
           }
          ],
          "table": [
           {
            "cells": {
             "fill": {
              "color": "#EBF0F8"
             },
             "line": {
              "color": "white"
             }
            },
            "header": {
             "fill": {
              "color": "#C8D4E3"
             },
             "line": {
              "color": "white"
             }
            },
            "type": "table"
           }
          ]
         },
         "layout": {
          "annotationdefaults": {
           "arrowcolor": "#2a3f5f",
           "arrowhead": 0,
           "arrowwidth": 1
          },
          "autotypenumbers": "strict",
          "coloraxis": {
           "colorbar": {
            "outlinewidth": 0,
            "ticks": ""
           }
          },
          "colorscale": {
           "diverging": [
            [
             0,
             "#8e0152"
            ],
            [
             0.1,
             "#c51b7d"
            ],
            [
             0.2,
             "#de77ae"
            ],
            [
             0.3,
             "#f1b6da"
            ],
            [
             0.4,
             "#fde0ef"
            ],
            [
             0.5,
             "#f7f7f7"
            ],
            [
             0.6,
             "#e6f5d0"
            ],
            [
             0.7,
             "#b8e186"
            ],
            [
             0.8,
             "#7fbc41"
            ],
            [
             0.9,
             "#4d9221"
            ],
            [
             1,
             "#276419"
            ]
           ],
           "sequential": [
            [
             0,
             "#0d0887"
            ],
            [
             0.1111111111111111,
             "#46039f"
            ],
            [
             0.2222222222222222,
             "#7201a8"
            ],
            [
             0.3333333333333333,
             "#9c179e"
            ],
            [
             0.4444444444444444,
             "#bd3786"
            ],
            [
             0.5555555555555556,
             "#d8576b"
            ],
            [
             0.6666666666666666,
             "#ed7953"
            ],
            [
             0.7777777777777778,
             "#fb9f3a"
            ],
            [
             0.8888888888888888,
             "#fdca26"
            ],
            [
             1,
             "#f0f921"
            ]
           ],
           "sequentialminus": [
            [
             0,
             "#0d0887"
            ],
            [
             0.1111111111111111,
             "#46039f"
            ],
            [
             0.2222222222222222,
             "#7201a8"
            ],
            [
             0.3333333333333333,
             "#9c179e"
            ],
            [
             0.4444444444444444,
             "#bd3786"
            ],
            [
             0.5555555555555556,
             "#d8576b"
            ],
            [
             0.6666666666666666,
             "#ed7953"
            ],
            [
             0.7777777777777778,
             "#fb9f3a"
            ],
            [
             0.8888888888888888,
             "#fdca26"
            ],
            [
             1,
             "#f0f921"
            ]
           ]
          },
          "colorway": [
           "#636efa",
           "#EF553B",
           "#00cc96",
           "#ab63fa",
           "#FFA15A",
           "#19d3f3",
           "#FF6692",
           "#B6E880",
           "#FF97FF",
           "#FECB52"
          ],
          "font": {
           "color": "#2a3f5f"
          },
          "geo": {
           "bgcolor": "white",
           "lakecolor": "white",
           "landcolor": "#E5ECF6",
           "showlakes": true,
           "showland": true,
           "subunitcolor": "white"
          },
          "hoverlabel": {
           "align": "left"
          },
          "hovermode": "closest",
          "mapbox": {
           "style": "light"
          },
          "paper_bgcolor": "white",
          "plot_bgcolor": "#E5ECF6",
          "polar": {
           "angularaxis": {
            "gridcolor": "white",
            "linecolor": "white",
            "ticks": ""
           },
           "bgcolor": "#E5ECF6",
           "radialaxis": {
            "gridcolor": "white",
            "linecolor": "white",
            "ticks": ""
           }
          },
          "scene": {
           "xaxis": {
            "backgroundcolor": "#E5ECF6",
            "gridcolor": "white",
            "gridwidth": 2,
            "linecolor": "white",
            "showbackground": true,
            "ticks": "",
            "zerolinecolor": "white"
           },
           "yaxis": {
            "backgroundcolor": "#E5ECF6",
            "gridcolor": "white",
            "gridwidth": 2,
            "linecolor": "white",
            "showbackground": true,
            "ticks": "",
            "zerolinecolor": "white"
           },
           "zaxis": {
            "backgroundcolor": "#E5ECF6",
            "gridcolor": "white",
            "gridwidth": 2,
            "linecolor": "white",
            "showbackground": true,
            "ticks": "",
            "zerolinecolor": "white"
           }
          },
          "shapedefaults": {
           "line": {
            "color": "#2a3f5f"
           }
          },
          "ternary": {
           "aaxis": {
            "gridcolor": "white",
            "linecolor": "white",
            "ticks": ""
           },
           "baxis": {
            "gridcolor": "white",
            "linecolor": "white",
            "ticks": ""
           },
           "bgcolor": "#E5ECF6",
           "caxis": {
            "gridcolor": "white",
            "linecolor": "white",
            "ticks": ""
           }
          },
          "title": {
           "x": 0.05
          },
          "xaxis": {
           "automargin": true,
           "gridcolor": "white",
           "linecolor": "white",
           "ticks": "",
           "title": {
            "standoff": 15
           },
           "zerolinecolor": "white",
           "zerolinewidth": 2
          },
          "yaxis": {
           "automargin": true,
           "gridcolor": "white",
           "linecolor": "white",
           "ticks": "",
           "title": {
            "standoff": 15
           },
           "zerolinecolor": "white",
           "zerolinewidth": 2
          }
         }
        },
        "title": {
         "text": "Total Number of Flights per Year"
        },
        "xaxis": {
         "anchor": "y",
         "domain": [
          0,
          1
         ],
         "title": {
          "text": "Year"
         }
        },
        "yaxis": {
         "anchor": "x",
         "domain": [
          0,
          1
         ],
         "title": {
          "text": "Flights"
         }
        }
       }
      }
     },
     "metadata": {},
     "output_type": "display_data"
    }
   ],
   "source": [
    "# Example: result from your 'total_flights.csv'\n",
    "fig = px.bar(result1, x='Year', y='Total_Flights',\n",
    "             title='Total Number of Flights per Year',\n",
    "             labels={'Total_Flights': 'Flights'}\n",
    "             )\n",
    "fig.show()\n"
   ]
  },
  {
   "cell_type": "markdown",
   "metadata": {},
   "source": [
    "- 2019 had the highest volume: ~758K flights.\n",
    "- 2020 dropped sharply (~479K) due to COVID.\n",
    "- Flight counts started recovering in 2021–2022, but 2023 dropped again, suggesting lingering effects or reduced capacity."
   ]
  },
  {
   "cell_type": "code",
   "execution_count": 9,
   "metadata": {
    "id": "6WYA4Q5tZWEu"
   },
   "outputs": [],
   "source": [
    "result1.to_csv('result1.csv', index=False)\n"
   ]
  },
  {
   "cell_type": "markdown",
   "metadata": {
    "id": "o1TE_8eNEDEJ"
   },
   "source": [
    "### 2. On-Time vs Delayed Flights Yearly"
   ]
  },
  {
   "cell_type": "code",
   "execution_count": 10,
   "metadata": {},
   "outputs": [
    {
     "data": {
      "text/html": [
       "<div>\n",
       "<style scoped>\n",
       "    .dataframe tbody tr th:only-of-type {\n",
       "        vertical-align: middle;\n",
       "    }\n",
       "\n",
       "    .dataframe tbody tr th {\n",
       "        vertical-align: top;\n",
       "    }\n",
       "\n",
       "    .dataframe thead th {\n",
       "        text-align: right;\n",
       "    }\n",
       "</style>\n",
       "<table border=\"1\" class=\"dataframe\">\n",
       "  <thead>\n",
       "    <tr style=\"text-align: right;\">\n",
       "      <th></th>\n",
       "      <th>Year</th>\n",
       "      <th>On_Time_Flights</th>\n",
       "      <th>Delayed_Flights</th>\n",
       "      <th>On_Time_Percentage</th>\n",
       "      <th>Delayed_Percentage</th>\n",
       "    </tr>\n",
       "  </thead>\n",
       "  <tbody>\n",
       "    <tr>\n",
       "      <th>0</th>\n",
       "      <td>2019</td>\n",
       "      <td>487494</td>\n",
       "      <td>257037</td>\n",
       "      <td>64.341</td>\n",
       "      <td>33.925</td>\n",
       "    </tr>\n",
       "    <tr>\n",
       "      <th>1</th>\n",
       "      <td>2020</td>\n",
       "      <td>364058</td>\n",
       "      <td>86649</td>\n",
       "      <td>75.948</td>\n",
       "      <td>18.076</td>\n",
       "    </tr>\n",
       "    <tr>\n",
       "      <th>2</th>\n",
       "      <td>2021</td>\n",
       "      <td>399254</td>\n",
       "      <td>202081</td>\n",
       "      <td>65.277</td>\n",
       "      <td>33.040</td>\n",
       "    </tr>\n",
       "    <tr>\n",
       "      <th>3</th>\n",
       "      <td>2022</td>\n",
       "      <td>407276</td>\n",
       "      <td>262563</td>\n",
       "      <td>59.209</td>\n",
       "      <td>38.171</td>\n",
       "    </tr>\n",
       "    <tr>\n",
       "      <th>4</th>\n",
       "      <td>2023</td>\n",
       "      <td>271431</td>\n",
       "      <td>184513</td>\n",
       "      <td>58.563</td>\n",
       "      <td>39.810</td>\n",
       "    </tr>\n",
       "  </tbody>\n",
       "</table>\n",
       "</div>"
      ],
      "text/plain": [
       "   Year  On_Time_Flights  Delayed_Flights  On_Time_Percentage  \\\n",
       "0  2019           487494           257037              64.341   \n",
       "1  2020           364058            86649              75.948   \n",
       "2  2021           399254           202081              65.277   \n",
       "3  2022           407276           262563              59.209   \n",
       "4  2023           271431           184513              58.563   \n",
       "\n",
       "   Delayed_Percentage  \n",
       "0              33.925  \n",
       "1              18.076  \n",
       "2              33.040  \n",
       "3              38.171  \n",
       "4              39.810  "
      ]
     },
     "execution_count": 10,
     "metadata": {},
     "output_type": "execute_result"
    }
   ],
   "source": [
    "query = '''\n",
    "SELECT strftime('%Y', FL_DATE) as Year,\n",
    "       COUNT(CASE WHEN DEP_DELAY <= 0 THEN 1 END) as On_Time_Flights,\n",
    "       COUNT(CASE WHEN DEP_DELAY > 0 THEN 1 END) as Delayed_Flights,\n",
    "       ROUND((COUNT(CASE WHEN DEP_DELAY <= 0 THEN 1 END) * 100.0 / COUNT(*)),3) as On_Time_Percentage,\n",
    "       ROUND((COUNT(CASE WHEN DEP_DELAY > 0 THEN 1 END) * 100.0 / COUNT(*)),3) as Delayed_Percentage\n",
    "FROM flight_data\n",
    "GROUP BY year;\n",
    "'''\n",
    "result2= pd.read_sql_query(query, conn)\n",
    "result2\n"
   ]
  },
  {
   "cell_type": "markdown",
   "metadata": {},
   "source": [
    "- This query identifies the number of on-time and delayed flights each year, along with their percentages.\n",
    "- It highlights annual punctuality trends and the proportion of delayed flights.\n"
   ]
  },
  {
   "cell_type": "code",
   "execution_count": 11,
   "metadata": {},
   "outputs": [],
   "source": [
    "result2.to_csv('result2.csv', index=False)\n"
   ]
  },
  {
   "cell_type": "code",
   "execution_count": 12,
   "metadata": {},
   "outputs": [
    {
     "data": {
      "application/vnd.plotly.v1+json": {
       "config": {
        "plotlyServerURL": "https://plot.ly"
       },
       "data": [
        {
         "hovertemplate": "Flight Status=On_Time_Flights<br>Year=%{x}<br>Number of Flights=%{y}<extra></extra>",
         "legendgroup": "On_Time_Flights",
         "marker": {
          "color": "#636efa",
          "pattern": {
           "shape": ""
          }
         },
         "name": "On_Time_Flights",
         "orientation": "v",
         "showlegend": true,
         "textposition": "auto",
         "type": "bar",
         "x": [
          "2019",
          "2020",
          "2021",
          "2022",
          "2023"
         ],
         "xaxis": "x",
         "y": {
          "bdata": "RnAHABqOBQCWFwYA7DYGAEckBAA=",
          "dtype": "i4"
         },
         "yaxis": "y"
        },
        {
         "hovertemplate": "Flight Status=Delayed_Flights<br>Year=%{x}<br>Number of Flights=%{y}<extra></extra>",
         "legendgroup": "Delayed_Flights",
         "marker": {
          "color": "#EF553B",
          "pattern": {
           "shape": ""
          }
         },
         "name": "Delayed_Flights",
         "orientation": "v",
         "showlegend": true,
         "textposition": "auto",
         "type": "bar",
         "x": [
          "2019",
          "2020",
          "2021",
          "2022",
          "2023"
         ],
         "xaxis": "x",
         "y": {
          "bdata": "DewDAHlSAQBhFQMAowEEAMHQAgA=",
          "dtype": "i4"
         },
         "yaxis": "y"
        }
       ],
       "layout": {
        "barmode": "stack",
        "legend": {
         "title": {
          "text": "Flight Status"
         },
         "tracegroupgap": 0
        },
        "template": {
         "data": {
          "bar": [
           {
            "error_x": {
             "color": "#2a3f5f"
            },
            "error_y": {
             "color": "#2a3f5f"
            },
            "marker": {
             "line": {
              "color": "#E5ECF6",
              "width": 0.5
             },
             "pattern": {
              "fillmode": "overlay",
              "size": 10,
              "solidity": 0.2
             }
            },
            "type": "bar"
           }
          ],
          "barpolar": [
           {
            "marker": {
             "line": {
              "color": "#E5ECF6",
              "width": 0.5
             },
             "pattern": {
              "fillmode": "overlay",
              "size": 10,
              "solidity": 0.2
             }
            },
            "type": "barpolar"
           }
          ],
          "carpet": [
           {
            "aaxis": {
             "endlinecolor": "#2a3f5f",
             "gridcolor": "white",
             "linecolor": "white",
             "minorgridcolor": "white",
             "startlinecolor": "#2a3f5f"
            },
            "baxis": {
             "endlinecolor": "#2a3f5f",
             "gridcolor": "white",
             "linecolor": "white",
             "minorgridcolor": "white",
             "startlinecolor": "#2a3f5f"
            },
            "type": "carpet"
           }
          ],
          "choropleth": [
           {
            "colorbar": {
             "outlinewidth": 0,
             "ticks": ""
            },
            "type": "choropleth"
           }
          ],
          "contour": [
           {
            "colorbar": {
             "outlinewidth": 0,
             "ticks": ""
            },
            "colorscale": [
             [
              0,
              "#0d0887"
             ],
             [
              0.1111111111111111,
              "#46039f"
             ],
             [
              0.2222222222222222,
              "#7201a8"
             ],
             [
              0.3333333333333333,
              "#9c179e"
             ],
             [
              0.4444444444444444,
              "#bd3786"
             ],
             [
              0.5555555555555556,
              "#d8576b"
             ],
             [
              0.6666666666666666,
              "#ed7953"
             ],
             [
              0.7777777777777778,
              "#fb9f3a"
             ],
             [
              0.8888888888888888,
              "#fdca26"
             ],
             [
              1,
              "#f0f921"
             ]
            ],
            "type": "contour"
           }
          ],
          "contourcarpet": [
           {
            "colorbar": {
             "outlinewidth": 0,
             "ticks": ""
            },
            "type": "contourcarpet"
           }
          ],
          "heatmap": [
           {
            "colorbar": {
             "outlinewidth": 0,
             "ticks": ""
            },
            "colorscale": [
             [
              0,
              "#0d0887"
             ],
             [
              0.1111111111111111,
              "#46039f"
             ],
             [
              0.2222222222222222,
              "#7201a8"
             ],
             [
              0.3333333333333333,
              "#9c179e"
             ],
             [
              0.4444444444444444,
              "#bd3786"
             ],
             [
              0.5555555555555556,
              "#d8576b"
             ],
             [
              0.6666666666666666,
              "#ed7953"
             ],
             [
              0.7777777777777778,
              "#fb9f3a"
             ],
             [
              0.8888888888888888,
              "#fdca26"
             ],
             [
              1,
              "#f0f921"
             ]
            ],
            "type": "heatmap"
           }
          ],
          "histogram": [
           {
            "marker": {
             "pattern": {
              "fillmode": "overlay",
              "size": 10,
              "solidity": 0.2
             }
            },
            "type": "histogram"
           }
          ],
          "histogram2d": [
           {
            "colorbar": {
             "outlinewidth": 0,
             "ticks": ""
            },
            "colorscale": [
             [
              0,
              "#0d0887"
             ],
             [
              0.1111111111111111,
              "#46039f"
             ],
             [
              0.2222222222222222,
              "#7201a8"
             ],
             [
              0.3333333333333333,
              "#9c179e"
             ],
             [
              0.4444444444444444,
              "#bd3786"
             ],
             [
              0.5555555555555556,
              "#d8576b"
             ],
             [
              0.6666666666666666,
              "#ed7953"
             ],
             [
              0.7777777777777778,
              "#fb9f3a"
             ],
             [
              0.8888888888888888,
              "#fdca26"
             ],
             [
              1,
              "#f0f921"
             ]
            ],
            "type": "histogram2d"
           }
          ],
          "histogram2dcontour": [
           {
            "colorbar": {
             "outlinewidth": 0,
             "ticks": ""
            },
            "colorscale": [
             [
              0,
              "#0d0887"
             ],
             [
              0.1111111111111111,
              "#46039f"
             ],
             [
              0.2222222222222222,
              "#7201a8"
             ],
             [
              0.3333333333333333,
              "#9c179e"
             ],
             [
              0.4444444444444444,
              "#bd3786"
             ],
             [
              0.5555555555555556,
              "#d8576b"
             ],
             [
              0.6666666666666666,
              "#ed7953"
             ],
             [
              0.7777777777777778,
              "#fb9f3a"
             ],
             [
              0.8888888888888888,
              "#fdca26"
             ],
             [
              1,
              "#f0f921"
             ]
            ],
            "type": "histogram2dcontour"
           }
          ],
          "mesh3d": [
           {
            "colorbar": {
             "outlinewidth": 0,
             "ticks": ""
            },
            "type": "mesh3d"
           }
          ],
          "parcoords": [
           {
            "line": {
             "colorbar": {
              "outlinewidth": 0,
              "ticks": ""
             }
            },
            "type": "parcoords"
           }
          ],
          "pie": [
           {
            "automargin": true,
            "type": "pie"
           }
          ],
          "scatter": [
           {
            "fillpattern": {
             "fillmode": "overlay",
             "size": 10,
             "solidity": 0.2
            },
            "type": "scatter"
           }
          ],
          "scatter3d": [
           {
            "line": {
             "colorbar": {
              "outlinewidth": 0,
              "ticks": ""
             }
            },
            "marker": {
             "colorbar": {
              "outlinewidth": 0,
              "ticks": ""
             }
            },
            "type": "scatter3d"
           }
          ],
          "scattercarpet": [
           {
            "marker": {
             "colorbar": {
              "outlinewidth": 0,
              "ticks": ""
             }
            },
            "type": "scattercarpet"
           }
          ],
          "scattergeo": [
           {
            "marker": {
             "colorbar": {
              "outlinewidth": 0,
              "ticks": ""
             }
            },
            "type": "scattergeo"
           }
          ],
          "scattergl": [
           {
            "marker": {
             "colorbar": {
              "outlinewidth": 0,
              "ticks": ""
             }
            },
            "type": "scattergl"
           }
          ],
          "scattermap": [
           {
            "marker": {
             "colorbar": {
              "outlinewidth": 0,
              "ticks": ""
             }
            },
            "type": "scattermap"
           }
          ],
          "scattermapbox": [
           {
            "marker": {
             "colorbar": {
              "outlinewidth": 0,
              "ticks": ""
             }
            },
            "type": "scattermapbox"
           }
          ],
          "scatterpolar": [
           {
            "marker": {
             "colorbar": {
              "outlinewidth": 0,
              "ticks": ""
             }
            },
            "type": "scatterpolar"
           }
          ],
          "scatterpolargl": [
           {
            "marker": {
             "colorbar": {
              "outlinewidth": 0,
              "ticks": ""
             }
            },
            "type": "scatterpolargl"
           }
          ],
          "scatterternary": [
           {
            "marker": {
             "colorbar": {
              "outlinewidth": 0,
              "ticks": ""
             }
            },
            "type": "scatterternary"
           }
          ],
          "surface": [
           {
            "colorbar": {
             "outlinewidth": 0,
             "ticks": ""
            },
            "colorscale": [
             [
              0,
              "#0d0887"
             ],
             [
              0.1111111111111111,
              "#46039f"
             ],
             [
              0.2222222222222222,
              "#7201a8"
             ],
             [
              0.3333333333333333,
              "#9c179e"
             ],
             [
              0.4444444444444444,
              "#bd3786"
             ],
             [
              0.5555555555555556,
              "#d8576b"
             ],
             [
              0.6666666666666666,
              "#ed7953"
             ],
             [
              0.7777777777777778,
              "#fb9f3a"
             ],
             [
              0.8888888888888888,
              "#fdca26"
             ],
             [
              1,
              "#f0f921"
             ]
            ],
            "type": "surface"
           }
          ],
          "table": [
           {
            "cells": {
             "fill": {
              "color": "#EBF0F8"
             },
             "line": {
              "color": "white"
             }
            },
            "header": {
             "fill": {
              "color": "#C8D4E3"
             },
             "line": {
              "color": "white"
             }
            },
            "type": "table"
           }
          ]
         },
         "layout": {
          "annotationdefaults": {
           "arrowcolor": "#2a3f5f",
           "arrowhead": 0,
           "arrowwidth": 1
          },
          "autotypenumbers": "strict",
          "coloraxis": {
           "colorbar": {
            "outlinewidth": 0,
            "ticks": ""
           }
          },
          "colorscale": {
           "diverging": [
            [
             0,
             "#8e0152"
            ],
            [
             0.1,
             "#c51b7d"
            ],
            [
             0.2,
             "#de77ae"
            ],
            [
             0.3,
             "#f1b6da"
            ],
            [
             0.4,
             "#fde0ef"
            ],
            [
             0.5,
             "#f7f7f7"
            ],
            [
             0.6,
             "#e6f5d0"
            ],
            [
             0.7,
             "#b8e186"
            ],
            [
             0.8,
             "#7fbc41"
            ],
            [
             0.9,
             "#4d9221"
            ],
            [
             1,
             "#276419"
            ]
           ],
           "sequential": [
            [
             0,
             "#0d0887"
            ],
            [
             0.1111111111111111,
             "#46039f"
            ],
            [
             0.2222222222222222,
             "#7201a8"
            ],
            [
             0.3333333333333333,
             "#9c179e"
            ],
            [
             0.4444444444444444,
             "#bd3786"
            ],
            [
             0.5555555555555556,
             "#d8576b"
            ],
            [
             0.6666666666666666,
             "#ed7953"
            ],
            [
             0.7777777777777778,
             "#fb9f3a"
            ],
            [
             0.8888888888888888,
             "#fdca26"
            ],
            [
             1,
             "#f0f921"
            ]
           ],
           "sequentialminus": [
            [
             0,
             "#0d0887"
            ],
            [
             0.1111111111111111,
             "#46039f"
            ],
            [
             0.2222222222222222,
             "#7201a8"
            ],
            [
             0.3333333333333333,
             "#9c179e"
            ],
            [
             0.4444444444444444,
             "#bd3786"
            ],
            [
             0.5555555555555556,
             "#d8576b"
            ],
            [
             0.6666666666666666,
             "#ed7953"
            ],
            [
             0.7777777777777778,
             "#fb9f3a"
            ],
            [
             0.8888888888888888,
             "#fdca26"
            ],
            [
             1,
             "#f0f921"
            ]
           ]
          },
          "colorway": [
           "#636efa",
           "#EF553B",
           "#00cc96",
           "#ab63fa",
           "#FFA15A",
           "#19d3f3",
           "#FF6692",
           "#B6E880",
           "#FF97FF",
           "#FECB52"
          ],
          "font": {
           "color": "#2a3f5f"
          },
          "geo": {
           "bgcolor": "white",
           "lakecolor": "white",
           "landcolor": "#E5ECF6",
           "showlakes": true,
           "showland": true,
           "subunitcolor": "white"
          },
          "hoverlabel": {
           "align": "left"
          },
          "hovermode": "closest",
          "mapbox": {
           "style": "light"
          },
          "paper_bgcolor": "white",
          "plot_bgcolor": "#E5ECF6",
          "polar": {
           "angularaxis": {
            "gridcolor": "white",
            "linecolor": "white",
            "ticks": ""
           },
           "bgcolor": "#E5ECF6",
           "radialaxis": {
            "gridcolor": "white",
            "linecolor": "white",
            "ticks": ""
           }
          },
          "scene": {
           "xaxis": {
            "backgroundcolor": "#E5ECF6",
            "gridcolor": "white",
            "gridwidth": 2,
            "linecolor": "white",
            "showbackground": true,
            "ticks": "",
            "zerolinecolor": "white"
           },
           "yaxis": {
            "backgroundcolor": "#E5ECF6",
            "gridcolor": "white",
            "gridwidth": 2,
            "linecolor": "white",
            "showbackground": true,
            "ticks": "",
            "zerolinecolor": "white"
           },
           "zaxis": {
            "backgroundcolor": "#E5ECF6",
            "gridcolor": "white",
            "gridwidth": 2,
            "linecolor": "white",
            "showbackground": true,
            "ticks": "",
            "zerolinecolor": "white"
           }
          },
          "shapedefaults": {
           "line": {
            "color": "#2a3f5f"
           }
          },
          "ternary": {
           "aaxis": {
            "gridcolor": "white",
            "linecolor": "white",
            "ticks": ""
           },
           "baxis": {
            "gridcolor": "white",
            "linecolor": "white",
            "ticks": ""
           },
           "bgcolor": "#E5ECF6",
           "caxis": {
            "gridcolor": "white",
            "linecolor": "white",
            "ticks": ""
           }
          },
          "title": {
           "x": 0.05
          },
          "xaxis": {
           "automargin": true,
           "gridcolor": "white",
           "linecolor": "white",
           "ticks": "",
           "title": {
            "standoff": 15
           },
           "zerolinecolor": "white",
           "zerolinewidth": 2
          },
          "yaxis": {
           "automargin": true,
           "gridcolor": "white",
           "linecolor": "white",
           "ticks": "",
           "title": {
            "standoff": 15
           },
           "zerolinecolor": "white",
           "zerolinewidth": 2
          }
         }
        },
        "title": {
         "text": "On-Time vs Delayed Flights per Year"
        },
        "xaxis": {
         "anchor": "y",
         "domain": [
          0,
          1
         ],
         "title": {
          "text": "Year"
         }
        },
        "yaxis": {
         "anchor": "x",
         "domain": [
          0,
          1
         ],
         "title": {
          "text": "Number of Flights"
         }
        }
       }
      }
     },
     "metadata": {},
     "output_type": "display_data"
    }
   ],
   "source": [
    "# Visualize yearly on-time vs delayed flights as a stacked bar chart\n",
    "fig2 = px.bar(\n",
    "    result2,\n",
    "    x='Year',\n",
    "    y=['On_Time_Flights', 'Delayed_Flights'],\n",
    "    title='On-Time vs Delayed Flights per Year',\n",
    "    labels={'value': 'Number of Flights', 'variable': 'Flight Status'},\n",
    "    barmode='stack'\n",
    ")\n",
    "fig2.show()\n"
   ]
  },
  {
   "cell_type": "markdown",
   "metadata": {},
   "source": []
  },
  {
   "cell_type": "markdown",
   "metadata": {
    "id": "nInESW2kEFUt"
   },
   "source": [
    "### 3. Total Cancellations by Year"
   ]
  },
  {
   "cell_type": "code",
   "execution_count": 13,
   "metadata": {
    "colab": {
     "base_uri": "https://localhost:8080/",
     "height": 206
    },
    "id": "bAbbxMqSEWwX",
    "outputId": "867bb913-785f-4f92-e366-aa4040be308c"
   },
   "outputs": [
    {
     "data": {
      "text/html": [
       "<div>\n",
       "<style scoped>\n",
       "    .dataframe tbody tr th:only-of-type {\n",
       "        vertical-align: middle;\n",
       "    }\n",
       "\n",
       "    .dataframe tbody tr th {\n",
       "        vertical-align: top;\n",
       "    }\n",
       "\n",
       "    .dataframe thead th {\n",
       "        text-align: right;\n",
       "    }\n",
       "</style>\n",
       "<table border=\"1\" class=\"dataframe\">\n",
       "  <thead>\n",
       "    <tr style=\"text-align: right;\">\n",
       "      <th></th>\n",
       "      <th>Year</th>\n",
       "      <th>Total_Cancellations</th>\n",
       "      <th>Total_Flights</th>\n",
       "      <th>Cancellation_Percentage</th>\n",
       "    </tr>\n",
       "  </thead>\n",
       "  <tbody>\n",
       "    <tr>\n",
       "      <th>0</th>\n",
       "      <td>2019</td>\n",
       "      <td>13594</td>\n",
       "      <td>757673</td>\n",
       "      <td>1.794</td>\n",
       "    </tr>\n",
       "    <tr>\n",
       "      <th>1</th>\n",
       "      <td>2020</td>\n",
       "      <td>28757</td>\n",
       "      <td>479350</td>\n",
       "      <td>5.999</td>\n",
       "    </tr>\n",
       "    <tr>\n",
       "      <th>2</th>\n",
       "      <td>2021</td>\n",
       "      <td>10532</td>\n",
       "      <td>611633</td>\n",
       "      <td>1.722</td>\n",
       "    </tr>\n",
       "    <tr>\n",
       "      <th>3</th>\n",
       "      <td>2022</td>\n",
       "      <td>18448</td>\n",
       "      <td>687860</td>\n",
       "      <td>2.682</td>\n",
       "    </tr>\n",
       "    <tr>\n",
       "      <th>4</th>\n",
       "      <td>2023</td>\n",
       "      <td>7809</td>\n",
       "      <td>463484</td>\n",
       "      <td>1.685</td>\n",
       "    </tr>\n",
       "  </tbody>\n",
       "</table>\n",
       "</div>"
      ],
      "text/plain": [
       "   Year  Total_Cancellations  Total_Flights  Cancellation_Percentage\n",
       "0  2019                13594         757673                    1.794\n",
       "1  2020                28757         479350                    5.999\n",
       "2  2021                10532         611633                    1.722\n",
       "3  2022                18448         687860                    2.682\n",
       "4  2023                 7809         463484                    1.685"
      ]
     },
     "execution_count": 13,
     "metadata": {},
     "output_type": "execute_result"
    }
   ],
   "source": [
    "query = '''\n",
    "SELECT strftime('%Y', FL_DATE) as Year,\n",
    "       COUNT(CASE WHEN CANCELLED=1 THEN 1 END) as Total_Cancellations,\n",
    "       COUNT(*) as Total_Flights,\n",
    "       ROUND((COUNT(CASE WHEN CANCELLED=1 THEN 1 END) * 100.0 / COUNT(*)),3) as Cancellation_Percentage\n",
    "FROM flight_data\n",
    "GROUP BY year;\n",
    "'''\n",
    "result3= pd.read_sql_query(query, conn)\n",
    "result3\n"
   ]
  },
  {
   "cell_type": "markdown",
   "metadata": {
    "id": "9eQroOuALl35"
   },
   "source": [
    "- This query calculates the total number of cancellations, total flights, and the percentage of cancellations for each year.\n",
    "- It gives insights into how cancellations have varied over time and their proportion relative to total flights."
   ]
  },
  {
   "cell_type": "code",
   "execution_count": 14,
   "metadata": {
    "id": "sY0jCZ-8Z5aZ"
   },
   "outputs": [],
   "source": [
    "result3.to_csv('result3.csv', index=False)\n",
    "\n"
   ]
  },
  {
   "cell_type": "code",
   "execution_count": 15,
   "metadata": {},
   "outputs": [
    {
     "data": {
      "application/vnd.plotly.v1+json": {
       "config": {
        "plotlyServerURL": "https://plot.ly"
       },
       "data": [
        {
         "hovertemplate": "Year=%{x}<br>Number of Cancellations=%{y}<extra></extra>",
         "legendgroup": "",
         "marker": {
          "color": "#636efa",
          "pattern": {
           "shape": ""
          }
         },
         "name": "",
         "orientation": "v",
         "showlegend": false,
         "textposition": "auto",
         "type": "bar",
         "x": [
          "2019",
          "2020",
          "2021",
          "2022",
          "2023"
         ],
         "xaxis": "x",
         "y": {
          "bdata": "GjVVcCQpEEiBHg==",
          "dtype": "i2"
         },
         "yaxis": "y"
        }
       ],
       "layout": {
        "barmode": "relative",
        "legend": {
         "tracegroupgap": 0
        },
        "template": {
         "data": {
          "bar": [
           {
            "error_x": {
             "color": "#2a3f5f"
            },
            "error_y": {
             "color": "#2a3f5f"
            },
            "marker": {
             "line": {
              "color": "#E5ECF6",
              "width": 0.5
             },
             "pattern": {
              "fillmode": "overlay",
              "size": 10,
              "solidity": 0.2
             }
            },
            "type": "bar"
           }
          ],
          "barpolar": [
           {
            "marker": {
             "line": {
              "color": "#E5ECF6",
              "width": 0.5
             },
             "pattern": {
              "fillmode": "overlay",
              "size": 10,
              "solidity": 0.2
             }
            },
            "type": "barpolar"
           }
          ],
          "carpet": [
           {
            "aaxis": {
             "endlinecolor": "#2a3f5f",
             "gridcolor": "white",
             "linecolor": "white",
             "minorgridcolor": "white",
             "startlinecolor": "#2a3f5f"
            },
            "baxis": {
             "endlinecolor": "#2a3f5f",
             "gridcolor": "white",
             "linecolor": "white",
             "minorgridcolor": "white",
             "startlinecolor": "#2a3f5f"
            },
            "type": "carpet"
           }
          ],
          "choropleth": [
           {
            "colorbar": {
             "outlinewidth": 0,
             "ticks": ""
            },
            "type": "choropleth"
           }
          ],
          "contour": [
           {
            "colorbar": {
             "outlinewidth": 0,
             "ticks": ""
            },
            "colorscale": [
             [
              0,
              "#0d0887"
             ],
             [
              0.1111111111111111,
              "#46039f"
             ],
             [
              0.2222222222222222,
              "#7201a8"
             ],
             [
              0.3333333333333333,
              "#9c179e"
             ],
             [
              0.4444444444444444,
              "#bd3786"
             ],
             [
              0.5555555555555556,
              "#d8576b"
             ],
             [
              0.6666666666666666,
              "#ed7953"
             ],
             [
              0.7777777777777778,
              "#fb9f3a"
             ],
             [
              0.8888888888888888,
              "#fdca26"
             ],
             [
              1,
              "#f0f921"
             ]
            ],
            "type": "contour"
           }
          ],
          "contourcarpet": [
           {
            "colorbar": {
             "outlinewidth": 0,
             "ticks": ""
            },
            "type": "contourcarpet"
           }
          ],
          "heatmap": [
           {
            "colorbar": {
             "outlinewidth": 0,
             "ticks": ""
            },
            "colorscale": [
             [
              0,
              "#0d0887"
             ],
             [
              0.1111111111111111,
              "#46039f"
             ],
             [
              0.2222222222222222,
              "#7201a8"
             ],
             [
              0.3333333333333333,
              "#9c179e"
             ],
             [
              0.4444444444444444,
              "#bd3786"
             ],
             [
              0.5555555555555556,
              "#d8576b"
             ],
             [
              0.6666666666666666,
              "#ed7953"
             ],
             [
              0.7777777777777778,
              "#fb9f3a"
             ],
             [
              0.8888888888888888,
              "#fdca26"
             ],
             [
              1,
              "#f0f921"
             ]
            ],
            "type": "heatmap"
           }
          ],
          "histogram": [
           {
            "marker": {
             "pattern": {
              "fillmode": "overlay",
              "size": 10,
              "solidity": 0.2
             }
            },
            "type": "histogram"
           }
          ],
          "histogram2d": [
           {
            "colorbar": {
             "outlinewidth": 0,
             "ticks": ""
            },
            "colorscale": [
             [
              0,
              "#0d0887"
             ],
             [
              0.1111111111111111,
              "#46039f"
             ],
             [
              0.2222222222222222,
              "#7201a8"
             ],
             [
              0.3333333333333333,
              "#9c179e"
             ],
             [
              0.4444444444444444,
              "#bd3786"
             ],
             [
              0.5555555555555556,
              "#d8576b"
             ],
             [
              0.6666666666666666,
              "#ed7953"
             ],
             [
              0.7777777777777778,
              "#fb9f3a"
             ],
             [
              0.8888888888888888,
              "#fdca26"
             ],
             [
              1,
              "#f0f921"
             ]
            ],
            "type": "histogram2d"
           }
          ],
          "histogram2dcontour": [
           {
            "colorbar": {
             "outlinewidth": 0,
             "ticks": ""
            },
            "colorscale": [
             [
              0,
              "#0d0887"
             ],
             [
              0.1111111111111111,
              "#46039f"
             ],
             [
              0.2222222222222222,
              "#7201a8"
             ],
             [
              0.3333333333333333,
              "#9c179e"
             ],
             [
              0.4444444444444444,
              "#bd3786"
             ],
             [
              0.5555555555555556,
              "#d8576b"
             ],
             [
              0.6666666666666666,
              "#ed7953"
             ],
             [
              0.7777777777777778,
              "#fb9f3a"
             ],
             [
              0.8888888888888888,
              "#fdca26"
             ],
             [
              1,
              "#f0f921"
             ]
            ],
            "type": "histogram2dcontour"
           }
          ],
          "mesh3d": [
           {
            "colorbar": {
             "outlinewidth": 0,
             "ticks": ""
            },
            "type": "mesh3d"
           }
          ],
          "parcoords": [
           {
            "line": {
             "colorbar": {
              "outlinewidth": 0,
              "ticks": ""
             }
            },
            "type": "parcoords"
           }
          ],
          "pie": [
           {
            "automargin": true,
            "type": "pie"
           }
          ],
          "scatter": [
           {
            "fillpattern": {
             "fillmode": "overlay",
             "size": 10,
             "solidity": 0.2
            },
            "type": "scatter"
           }
          ],
          "scatter3d": [
           {
            "line": {
             "colorbar": {
              "outlinewidth": 0,
              "ticks": ""
             }
            },
            "marker": {
             "colorbar": {
              "outlinewidth": 0,
              "ticks": ""
             }
            },
            "type": "scatter3d"
           }
          ],
          "scattercarpet": [
           {
            "marker": {
             "colorbar": {
              "outlinewidth": 0,
              "ticks": ""
             }
            },
            "type": "scattercarpet"
           }
          ],
          "scattergeo": [
           {
            "marker": {
             "colorbar": {
              "outlinewidth": 0,
              "ticks": ""
             }
            },
            "type": "scattergeo"
           }
          ],
          "scattergl": [
           {
            "marker": {
             "colorbar": {
              "outlinewidth": 0,
              "ticks": ""
             }
            },
            "type": "scattergl"
           }
          ],
          "scattermap": [
           {
            "marker": {
             "colorbar": {
              "outlinewidth": 0,
              "ticks": ""
             }
            },
            "type": "scattermap"
           }
          ],
          "scattermapbox": [
           {
            "marker": {
             "colorbar": {
              "outlinewidth": 0,
              "ticks": ""
             }
            },
            "type": "scattermapbox"
           }
          ],
          "scatterpolar": [
           {
            "marker": {
             "colorbar": {
              "outlinewidth": 0,
              "ticks": ""
             }
            },
            "type": "scatterpolar"
           }
          ],
          "scatterpolargl": [
           {
            "marker": {
             "colorbar": {
              "outlinewidth": 0,
              "ticks": ""
             }
            },
            "type": "scatterpolargl"
           }
          ],
          "scatterternary": [
           {
            "marker": {
             "colorbar": {
              "outlinewidth": 0,
              "ticks": ""
             }
            },
            "type": "scatterternary"
           }
          ],
          "surface": [
           {
            "colorbar": {
             "outlinewidth": 0,
             "ticks": ""
            },
            "colorscale": [
             [
              0,
              "#0d0887"
             ],
             [
              0.1111111111111111,
              "#46039f"
             ],
             [
              0.2222222222222222,
              "#7201a8"
             ],
             [
              0.3333333333333333,
              "#9c179e"
             ],
             [
              0.4444444444444444,
              "#bd3786"
             ],
             [
              0.5555555555555556,
              "#d8576b"
             ],
             [
              0.6666666666666666,
              "#ed7953"
             ],
             [
              0.7777777777777778,
              "#fb9f3a"
             ],
             [
              0.8888888888888888,
              "#fdca26"
             ],
             [
              1,
              "#f0f921"
             ]
            ],
            "type": "surface"
           }
          ],
          "table": [
           {
            "cells": {
             "fill": {
              "color": "#EBF0F8"
             },
             "line": {
              "color": "white"
             }
            },
            "header": {
             "fill": {
              "color": "#C8D4E3"
             },
             "line": {
              "color": "white"
             }
            },
            "type": "table"
           }
          ]
         },
         "layout": {
          "annotationdefaults": {
           "arrowcolor": "#2a3f5f",
           "arrowhead": 0,
           "arrowwidth": 1
          },
          "autotypenumbers": "strict",
          "coloraxis": {
           "colorbar": {
            "outlinewidth": 0,
            "ticks": ""
           }
          },
          "colorscale": {
           "diverging": [
            [
             0,
             "#8e0152"
            ],
            [
             0.1,
             "#c51b7d"
            ],
            [
             0.2,
             "#de77ae"
            ],
            [
             0.3,
             "#f1b6da"
            ],
            [
             0.4,
             "#fde0ef"
            ],
            [
             0.5,
             "#f7f7f7"
            ],
            [
             0.6,
             "#e6f5d0"
            ],
            [
             0.7,
             "#b8e186"
            ],
            [
             0.8,
             "#7fbc41"
            ],
            [
             0.9,
             "#4d9221"
            ],
            [
             1,
             "#276419"
            ]
           ],
           "sequential": [
            [
             0,
             "#0d0887"
            ],
            [
             0.1111111111111111,
             "#46039f"
            ],
            [
             0.2222222222222222,
             "#7201a8"
            ],
            [
             0.3333333333333333,
             "#9c179e"
            ],
            [
             0.4444444444444444,
             "#bd3786"
            ],
            [
             0.5555555555555556,
             "#d8576b"
            ],
            [
             0.6666666666666666,
             "#ed7953"
            ],
            [
             0.7777777777777778,
             "#fb9f3a"
            ],
            [
             0.8888888888888888,
             "#fdca26"
            ],
            [
             1,
             "#f0f921"
            ]
           ],
           "sequentialminus": [
            [
             0,
             "#0d0887"
            ],
            [
             0.1111111111111111,
             "#46039f"
            ],
            [
             0.2222222222222222,
             "#7201a8"
            ],
            [
             0.3333333333333333,
             "#9c179e"
            ],
            [
             0.4444444444444444,
             "#bd3786"
            ],
            [
             0.5555555555555556,
             "#d8576b"
            ],
            [
             0.6666666666666666,
             "#ed7953"
            ],
            [
             0.7777777777777778,
             "#fb9f3a"
            ],
            [
             0.8888888888888888,
             "#fdca26"
            ],
            [
             1,
             "#f0f921"
            ]
           ]
          },
          "colorway": [
           "#636efa",
           "#EF553B",
           "#00cc96",
           "#ab63fa",
           "#FFA15A",
           "#19d3f3",
           "#FF6692",
           "#B6E880",
           "#FF97FF",
           "#FECB52"
          ],
          "font": {
           "color": "#2a3f5f"
          },
          "geo": {
           "bgcolor": "white",
           "lakecolor": "white",
           "landcolor": "#E5ECF6",
           "showlakes": true,
           "showland": true,
           "subunitcolor": "white"
          },
          "hoverlabel": {
           "align": "left"
          },
          "hovermode": "closest",
          "mapbox": {
           "style": "light"
          },
          "paper_bgcolor": "white",
          "plot_bgcolor": "#E5ECF6",
          "polar": {
           "angularaxis": {
            "gridcolor": "white",
            "linecolor": "white",
            "ticks": ""
           },
           "bgcolor": "#E5ECF6",
           "radialaxis": {
            "gridcolor": "white",
            "linecolor": "white",
            "ticks": ""
           }
          },
          "scene": {
           "xaxis": {
            "backgroundcolor": "#E5ECF6",
            "gridcolor": "white",
            "gridwidth": 2,
            "linecolor": "white",
            "showbackground": true,
            "ticks": "",
            "zerolinecolor": "white"
           },
           "yaxis": {
            "backgroundcolor": "#E5ECF6",
            "gridcolor": "white",
            "gridwidth": 2,
            "linecolor": "white",
            "showbackground": true,
            "ticks": "",
            "zerolinecolor": "white"
           },
           "zaxis": {
            "backgroundcolor": "#E5ECF6",
            "gridcolor": "white",
            "gridwidth": 2,
            "linecolor": "white",
            "showbackground": true,
            "ticks": "",
            "zerolinecolor": "white"
           }
          },
          "shapedefaults": {
           "line": {
            "color": "#2a3f5f"
           }
          },
          "ternary": {
           "aaxis": {
            "gridcolor": "white",
            "linecolor": "white",
            "ticks": ""
           },
           "baxis": {
            "gridcolor": "white",
            "linecolor": "white",
            "ticks": ""
           },
           "bgcolor": "#E5ECF6",
           "caxis": {
            "gridcolor": "white",
            "linecolor": "white",
            "ticks": ""
           }
          },
          "title": {
           "x": 0.05
          },
          "xaxis": {
           "automargin": true,
           "gridcolor": "white",
           "linecolor": "white",
           "ticks": "",
           "title": {
            "standoff": 15
           },
           "zerolinecolor": "white",
           "zerolinewidth": 2
          },
          "yaxis": {
           "automargin": true,
           "gridcolor": "white",
           "linecolor": "white",
           "ticks": "",
           "title": {
            "standoff": 15
           },
           "zerolinecolor": "white",
           "zerolinewidth": 2
          }
         }
        },
        "title": {
         "text": "Total Flight Cancellations per Year"
        },
        "xaxis": {
         "anchor": "y",
         "domain": [
          0,
          1
         ],
         "title": {
          "text": "Year"
         }
        },
        "yaxis": {
         "anchor": "x",
         "domain": [
          0,
          1
         ],
         "title": {
          "text": "Number of Cancellations"
         }
        }
       }
      }
     },
     "metadata": {},
     "output_type": "display_data"
    }
   ],
   "source": [
    "# Visualize yearly cancellations as a bar chart\n",
    "fig3 = px.bar(\n",
    "    result3,\n",
    "    x='Year',\n",
    "    y='Total_Cancellations',\n",
    "    title='Total Flight Cancellations per Year',\n",
    "    labels={'Total_Cancellations': 'Number of Cancellations'}\n",
    ")\n",
    "fig3.show()\n"
   ]
  },
  {
   "cell_type": "markdown",
   "metadata": {},
   "source": [
    "* **2020** saw a **massive spike** in cancellations: **28,757 flights**, nearly **6% of all scheduled flights**.\n",
    "* Post-COVID, cancellation rates stabilized under 2% by 2023."
   ]
  },
  {
   "cell_type": "markdown",
   "metadata": {
    "id": "GQw8PRTKEHxC"
   },
   "source": [
    "### 4. Average Delay Time by Year"
   ]
  },
  {
   "cell_type": "code",
   "execution_count": 16,
   "metadata": {
    "colab": {
     "base_uri": "https://localhost:8080/",
     "height": 206
    },
    "id": "BKZ6UxD1EXIQ",
    "outputId": "5d86032b-94f8-47f8-d168-fdebb7c34f7e"
   },
   "outputs": [
    {
     "data": {
      "text/html": [
       "<div>\n",
       "<style scoped>\n",
       "    .dataframe tbody tr th:only-of-type {\n",
       "        vertical-align: middle;\n",
       "    }\n",
       "\n",
       "    .dataframe tbody tr th {\n",
       "        vertical-align: top;\n",
       "    }\n",
       "\n",
       "    .dataframe thead th {\n",
       "        text-align: right;\n",
       "    }\n",
       "</style>\n",
       "<table border=\"1\" class=\"dataframe\">\n",
       "  <thead>\n",
       "    <tr style=\"text-align: right;\">\n",
       "      <th></th>\n",
       "      <th>Year</th>\n",
       "      <th>Average_Departure_Delay</th>\n",
       "      <th>Average_Arrival_Delay</th>\n",
       "    </tr>\n",
       "  </thead>\n",
       "  <tbody>\n",
       "    <tr>\n",
       "      <th>0</th>\n",
       "      <td>2019</td>\n",
       "      <td>30.944973</td>\n",
       "      <td>30.114348</td>\n",
       "    </tr>\n",
       "    <tr>\n",
       "      <th>1</th>\n",
       "      <td>2020</td>\n",
       "      <td>21.970824</td>\n",
       "      <td>21.900776</td>\n",
       "    </tr>\n",
       "    <tr>\n",
       "      <th>2</th>\n",
       "      <td>2021</td>\n",
       "      <td>28.634240</td>\n",
       "      <td>26.795731</td>\n",
       "    </tr>\n",
       "    <tr>\n",
       "      <th>3</th>\n",
       "      <td>2022</td>\n",
       "      <td>31.294262</td>\n",
       "      <td>29.589928</td>\n",
       "    </tr>\n",
       "    <tr>\n",
       "      <th>4</th>\n",
       "      <td>2023</td>\n",
       "      <td>34.285028</td>\n",
       "      <td>33.370908</td>\n",
       "    </tr>\n",
       "  </tbody>\n",
       "</table>\n",
       "</div>"
      ],
      "text/plain": [
       "   Year  Average_Departure_Delay  Average_Arrival_Delay\n",
       "0  2019                30.944973              30.114348\n",
       "1  2020                21.970824              21.900776\n",
       "2  2021                28.634240              26.795731\n",
       "3  2022                31.294262              29.589928\n",
       "4  2023                34.285028              33.370908"
      ]
     },
     "execution_count": 16,
     "metadata": {},
     "output_type": "execute_result"
    }
   ],
   "source": [
    "query = '''\n",
    "SELECT strftime('%Y', FL_DATE) as Year,\n",
    "       AVG(DEP_DELAY) as Average_Departure_Delay,\n",
    "       AVG(ARR_DELAY) as Average_Arrival_Delay\n",
    "FROM flight_data\n",
    "WHERE DEP_DELAY > 0 OR ARR_DELAY > 0\n",
    "GROUP BY year;\n",
    "'''\n",
    "result4= pd.read_sql_query(query, conn)\n",
    "result4\n"
   ]
  },
  {
   "cell_type": "markdown",
   "metadata": {
    "id": "hBmUKUIqMvpb"
   },
   "source": [
    "- This query calculates the average delay times for departures and arrivals annually.\n",
    "- It excludes flights without delays, providing a focused view of delay durations."
   ]
  },
  {
   "cell_type": "code",
   "execution_count": 17,
   "metadata": {
    "id": "HSUpkcuGZ7uG"
   },
   "outputs": [],
   "source": [
    "result4.to_csv('result4.csv', index=False)\n",
    "\n"
   ]
  },
  {
   "cell_type": "code",
   "execution_count": 18,
   "metadata": {},
   "outputs": [
    {
     "data": {
      "application/vnd.plotly.v1+json": {
       "config": {
        "plotlyServerURL": "https://plot.ly"
       },
       "data": [
        {
         "alignmentgroup": "True",
         "hovertemplate": "Delay Type=Average_Departure_Delay<br>Year=%{x}<br>Average Delay (minutes)=%{y}<extra></extra>",
         "legendgroup": "Average_Departure_Delay",
         "marker": {
          "color": "#636efa",
          "pattern": {
           "shape": ""
          }
         },
         "name": "Average_Departure_Delay",
         "offsetgroup": "Average_Departure_Delay",
         "orientation": "v",
         "showlegend": true,
         "textposition": "auto",
         "type": "bar",
         "x": [
          "2019",
          "2020",
          "2021",
          "2022",
          "2023"
         ],
         "xaxis": "x",
         "y": {
          "bdata": "giOfxOnxPkB57orph/g1QPJU8IZdojxAciNVu1RLP0DdGwbQeyRBQA==",
          "dtype": "f8"
         },
         "yaxis": "y"
        },
        {
         "alignmentgroup": "True",
         "hovertemplate": "Delay Type=Average_Arrival_Delay<br>Year=%{x}<br>Average Delay (minutes)=%{y}<extra></extra>",
         "legendgroup": "Average_Arrival_Delay",
         "marker": {
          "color": "#EF553B",
          "pattern": {
           "shape": ""
          }
         },
         "name": "Average_Arrival_Delay",
         "offsetgroup": "Average_Arrival_Delay",
         "orientation": "v",
         "showlegend": true,
         "textposition": "auto",
         "type": "bar",
         "x": [
          "2019",
          "2020",
          "2021",
          "2022",
          "2023"
         ],
         "xaxis": "x",
         "y": {
          "bdata": "HOTK5EUdPkCj4iVHmeY1QHFHWge1yzpAdMwTiQWXPUBsFXvnea9AQA==",
          "dtype": "f8"
         },
         "yaxis": "y"
        }
       ],
       "layout": {
        "barmode": "group",
        "legend": {
         "title": {
          "text": "Delay Type"
         },
         "tracegroupgap": 0
        },
        "template": {
         "data": {
          "bar": [
           {
            "error_x": {
             "color": "#2a3f5f"
            },
            "error_y": {
             "color": "#2a3f5f"
            },
            "marker": {
             "line": {
              "color": "#E5ECF6",
              "width": 0.5
             },
             "pattern": {
              "fillmode": "overlay",
              "size": 10,
              "solidity": 0.2
             }
            },
            "type": "bar"
           }
          ],
          "barpolar": [
           {
            "marker": {
             "line": {
              "color": "#E5ECF6",
              "width": 0.5
             },
             "pattern": {
              "fillmode": "overlay",
              "size": 10,
              "solidity": 0.2
             }
            },
            "type": "barpolar"
           }
          ],
          "carpet": [
           {
            "aaxis": {
             "endlinecolor": "#2a3f5f",
             "gridcolor": "white",
             "linecolor": "white",
             "minorgridcolor": "white",
             "startlinecolor": "#2a3f5f"
            },
            "baxis": {
             "endlinecolor": "#2a3f5f",
             "gridcolor": "white",
             "linecolor": "white",
             "minorgridcolor": "white",
             "startlinecolor": "#2a3f5f"
            },
            "type": "carpet"
           }
          ],
          "choropleth": [
           {
            "colorbar": {
             "outlinewidth": 0,
             "ticks": ""
            },
            "type": "choropleth"
           }
          ],
          "contour": [
           {
            "colorbar": {
             "outlinewidth": 0,
             "ticks": ""
            },
            "colorscale": [
             [
              0,
              "#0d0887"
             ],
             [
              0.1111111111111111,
              "#46039f"
             ],
             [
              0.2222222222222222,
              "#7201a8"
             ],
             [
              0.3333333333333333,
              "#9c179e"
             ],
             [
              0.4444444444444444,
              "#bd3786"
             ],
             [
              0.5555555555555556,
              "#d8576b"
             ],
             [
              0.6666666666666666,
              "#ed7953"
             ],
             [
              0.7777777777777778,
              "#fb9f3a"
             ],
             [
              0.8888888888888888,
              "#fdca26"
             ],
             [
              1,
              "#f0f921"
             ]
            ],
            "type": "contour"
           }
          ],
          "contourcarpet": [
           {
            "colorbar": {
             "outlinewidth": 0,
             "ticks": ""
            },
            "type": "contourcarpet"
           }
          ],
          "heatmap": [
           {
            "colorbar": {
             "outlinewidth": 0,
             "ticks": ""
            },
            "colorscale": [
             [
              0,
              "#0d0887"
             ],
             [
              0.1111111111111111,
              "#46039f"
             ],
             [
              0.2222222222222222,
              "#7201a8"
             ],
             [
              0.3333333333333333,
              "#9c179e"
             ],
             [
              0.4444444444444444,
              "#bd3786"
             ],
             [
              0.5555555555555556,
              "#d8576b"
             ],
             [
              0.6666666666666666,
              "#ed7953"
             ],
             [
              0.7777777777777778,
              "#fb9f3a"
             ],
             [
              0.8888888888888888,
              "#fdca26"
             ],
             [
              1,
              "#f0f921"
             ]
            ],
            "type": "heatmap"
           }
          ],
          "histogram": [
           {
            "marker": {
             "pattern": {
              "fillmode": "overlay",
              "size": 10,
              "solidity": 0.2
             }
            },
            "type": "histogram"
           }
          ],
          "histogram2d": [
           {
            "colorbar": {
             "outlinewidth": 0,
             "ticks": ""
            },
            "colorscale": [
             [
              0,
              "#0d0887"
             ],
             [
              0.1111111111111111,
              "#46039f"
             ],
             [
              0.2222222222222222,
              "#7201a8"
             ],
             [
              0.3333333333333333,
              "#9c179e"
             ],
             [
              0.4444444444444444,
              "#bd3786"
             ],
             [
              0.5555555555555556,
              "#d8576b"
             ],
             [
              0.6666666666666666,
              "#ed7953"
             ],
             [
              0.7777777777777778,
              "#fb9f3a"
             ],
             [
              0.8888888888888888,
              "#fdca26"
             ],
             [
              1,
              "#f0f921"
             ]
            ],
            "type": "histogram2d"
           }
          ],
          "histogram2dcontour": [
           {
            "colorbar": {
             "outlinewidth": 0,
             "ticks": ""
            },
            "colorscale": [
             [
              0,
              "#0d0887"
             ],
             [
              0.1111111111111111,
              "#46039f"
             ],
             [
              0.2222222222222222,
              "#7201a8"
             ],
             [
              0.3333333333333333,
              "#9c179e"
             ],
             [
              0.4444444444444444,
              "#bd3786"
             ],
             [
              0.5555555555555556,
              "#d8576b"
             ],
             [
              0.6666666666666666,
              "#ed7953"
             ],
             [
              0.7777777777777778,
              "#fb9f3a"
             ],
             [
              0.8888888888888888,
              "#fdca26"
             ],
             [
              1,
              "#f0f921"
             ]
            ],
            "type": "histogram2dcontour"
           }
          ],
          "mesh3d": [
           {
            "colorbar": {
             "outlinewidth": 0,
             "ticks": ""
            },
            "type": "mesh3d"
           }
          ],
          "parcoords": [
           {
            "line": {
             "colorbar": {
              "outlinewidth": 0,
              "ticks": ""
             }
            },
            "type": "parcoords"
           }
          ],
          "pie": [
           {
            "automargin": true,
            "type": "pie"
           }
          ],
          "scatter": [
           {
            "fillpattern": {
             "fillmode": "overlay",
             "size": 10,
             "solidity": 0.2
            },
            "type": "scatter"
           }
          ],
          "scatter3d": [
           {
            "line": {
             "colorbar": {
              "outlinewidth": 0,
              "ticks": ""
             }
            },
            "marker": {
             "colorbar": {
              "outlinewidth": 0,
              "ticks": ""
             }
            },
            "type": "scatter3d"
           }
          ],
          "scattercarpet": [
           {
            "marker": {
             "colorbar": {
              "outlinewidth": 0,
              "ticks": ""
             }
            },
            "type": "scattercarpet"
           }
          ],
          "scattergeo": [
           {
            "marker": {
             "colorbar": {
              "outlinewidth": 0,
              "ticks": ""
             }
            },
            "type": "scattergeo"
           }
          ],
          "scattergl": [
           {
            "marker": {
             "colorbar": {
              "outlinewidth": 0,
              "ticks": ""
             }
            },
            "type": "scattergl"
           }
          ],
          "scattermap": [
           {
            "marker": {
             "colorbar": {
              "outlinewidth": 0,
              "ticks": ""
             }
            },
            "type": "scattermap"
           }
          ],
          "scattermapbox": [
           {
            "marker": {
             "colorbar": {
              "outlinewidth": 0,
              "ticks": ""
             }
            },
            "type": "scattermapbox"
           }
          ],
          "scatterpolar": [
           {
            "marker": {
             "colorbar": {
              "outlinewidth": 0,
              "ticks": ""
             }
            },
            "type": "scatterpolar"
           }
          ],
          "scatterpolargl": [
           {
            "marker": {
             "colorbar": {
              "outlinewidth": 0,
              "ticks": ""
             }
            },
            "type": "scatterpolargl"
           }
          ],
          "scatterternary": [
           {
            "marker": {
             "colorbar": {
              "outlinewidth": 0,
              "ticks": ""
             }
            },
            "type": "scatterternary"
           }
          ],
          "surface": [
           {
            "colorbar": {
             "outlinewidth": 0,
             "ticks": ""
            },
            "colorscale": [
             [
              0,
              "#0d0887"
             ],
             [
              0.1111111111111111,
              "#46039f"
             ],
             [
              0.2222222222222222,
              "#7201a8"
             ],
             [
              0.3333333333333333,
              "#9c179e"
             ],
             [
              0.4444444444444444,
              "#bd3786"
             ],
             [
              0.5555555555555556,
              "#d8576b"
             ],
             [
              0.6666666666666666,
              "#ed7953"
             ],
             [
              0.7777777777777778,
              "#fb9f3a"
             ],
             [
              0.8888888888888888,
              "#fdca26"
             ],
             [
              1,
              "#f0f921"
             ]
            ],
            "type": "surface"
           }
          ],
          "table": [
           {
            "cells": {
             "fill": {
              "color": "#EBF0F8"
             },
             "line": {
              "color": "white"
             }
            },
            "header": {
             "fill": {
              "color": "#C8D4E3"
             },
             "line": {
              "color": "white"
             }
            },
            "type": "table"
           }
          ]
         },
         "layout": {
          "annotationdefaults": {
           "arrowcolor": "#2a3f5f",
           "arrowhead": 0,
           "arrowwidth": 1
          },
          "autotypenumbers": "strict",
          "coloraxis": {
           "colorbar": {
            "outlinewidth": 0,
            "ticks": ""
           }
          },
          "colorscale": {
           "diverging": [
            [
             0,
             "#8e0152"
            ],
            [
             0.1,
             "#c51b7d"
            ],
            [
             0.2,
             "#de77ae"
            ],
            [
             0.3,
             "#f1b6da"
            ],
            [
             0.4,
             "#fde0ef"
            ],
            [
             0.5,
             "#f7f7f7"
            ],
            [
             0.6,
             "#e6f5d0"
            ],
            [
             0.7,
             "#b8e186"
            ],
            [
             0.8,
             "#7fbc41"
            ],
            [
             0.9,
             "#4d9221"
            ],
            [
             1,
             "#276419"
            ]
           ],
           "sequential": [
            [
             0,
             "#0d0887"
            ],
            [
             0.1111111111111111,
             "#46039f"
            ],
            [
             0.2222222222222222,
             "#7201a8"
            ],
            [
             0.3333333333333333,
             "#9c179e"
            ],
            [
             0.4444444444444444,
             "#bd3786"
            ],
            [
             0.5555555555555556,
             "#d8576b"
            ],
            [
             0.6666666666666666,
             "#ed7953"
            ],
            [
             0.7777777777777778,
             "#fb9f3a"
            ],
            [
             0.8888888888888888,
             "#fdca26"
            ],
            [
             1,
             "#f0f921"
            ]
           ],
           "sequentialminus": [
            [
             0,
             "#0d0887"
            ],
            [
             0.1111111111111111,
             "#46039f"
            ],
            [
             0.2222222222222222,
             "#7201a8"
            ],
            [
             0.3333333333333333,
             "#9c179e"
            ],
            [
             0.4444444444444444,
             "#bd3786"
            ],
            [
             0.5555555555555556,
             "#d8576b"
            ],
            [
             0.6666666666666666,
             "#ed7953"
            ],
            [
             0.7777777777777778,
             "#fb9f3a"
            ],
            [
             0.8888888888888888,
             "#fdca26"
            ],
            [
             1,
             "#f0f921"
            ]
           ]
          },
          "colorway": [
           "#636efa",
           "#EF553B",
           "#00cc96",
           "#ab63fa",
           "#FFA15A",
           "#19d3f3",
           "#FF6692",
           "#B6E880",
           "#FF97FF",
           "#FECB52"
          ],
          "font": {
           "color": "#2a3f5f"
          },
          "geo": {
           "bgcolor": "white",
           "lakecolor": "white",
           "landcolor": "#E5ECF6",
           "showlakes": true,
           "showland": true,
           "subunitcolor": "white"
          },
          "hoverlabel": {
           "align": "left"
          },
          "hovermode": "closest",
          "mapbox": {
           "style": "light"
          },
          "paper_bgcolor": "white",
          "plot_bgcolor": "#E5ECF6",
          "polar": {
           "angularaxis": {
            "gridcolor": "white",
            "linecolor": "white",
            "ticks": ""
           },
           "bgcolor": "#E5ECF6",
           "radialaxis": {
            "gridcolor": "white",
            "linecolor": "white",
            "ticks": ""
           }
          },
          "scene": {
           "xaxis": {
            "backgroundcolor": "#E5ECF6",
            "gridcolor": "white",
            "gridwidth": 2,
            "linecolor": "white",
            "showbackground": true,
            "ticks": "",
            "zerolinecolor": "white"
           },
           "yaxis": {
            "backgroundcolor": "#E5ECF6",
            "gridcolor": "white",
            "gridwidth": 2,
            "linecolor": "white",
            "showbackground": true,
            "ticks": "",
            "zerolinecolor": "white"
           },
           "zaxis": {
            "backgroundcolor": "#E5ECF6",
            "gridcolor": "white",
            "gridwidth": 2,
            "linecolor": "white",
            "showbackground": true,
            "ticks": "",
            "zerolinecolor": "white"
           }
          },
          "shapedefaults": {
           "line": {
            "color": "#2a3f5f"
           }
          },
          "ternary": {
           "aaxis": {
            "gridcolor": "white",
            "linecolor": "white",
            "ticks": ""
           },
           "baxis": {
            "gridcolor": "white",
            "linecolor": "white",
            "ticks": ""
           },
           "bgcolor": "#E5ECF6",
           "caxis": {
            "gridcolor": "white",
            "linecolor": "white",
            "ticks": ""
           }
          },
          "title": {
           "x": 0.05
          },
          "xaxis": {
           "automargin": true,
           "gridcolor": "white",
           "linecolor": "white",
           "ticks": "",
           "title": {
            "standoff": 15
           },
           "zerolinecolor": "white",
           "zerolinewidth": 2
          },
          "yaxis": {
           "automargin": true,
           "gridcolor": "white",
           "linecolor": "white",
           "ticks": "",
           "title": {
            "standoff": 15
           },
           "zerolinecolor": "white",
           "zerolinewidth": 2
          }
         }
        },
        "title": {
         "text": "Average Departure and Arrival Delay by Year"
        },
        "xaxis": {
         "anchor": "y",
         "domain": [
          0,
          1
         ],
         "title": {
          "text": "Year"
         }
        },
        "yaxis": {
         "anchor": "x",
         "domain": [
          0,
          1
         ],
         "title": {
          "text": "Average Delay (minutes)"
         }
        }
       }
      }
     },
     "metadata": {},
     "output_type": "display_data"
    }
   ],
   "source": [
    "# Visualize average departure and arrival delay by year\n",
    "fig4 = px.bar(\n",
    "    result4,\n",
    "    x='Year',\n",
    "    y=['Average_Departure_Delay', 'Average_Arrival_Delay'],\n",
    "    title='Average Departure and Arrival Delay by Year',\n",
    "    labels={'value': 'Average Delay (minutes)', 'variable': 'Delay Type'},\n",
    "    barmode='group'\n",
    ")\n",
    "fig4.show()\n"
   ]
  },
  {
   "cell_type": "markdown",
   "metadata": {},
   "source": [
    "* Both **arrival and departure delays peaked in 2023**:\n",
    "\n",
    "  * Avg Departure: **\\~34.3 min**\n",
    "  * Avg Arrival: **\\~33.4 min**\n",
    "* Delay duration increased steadily post-2020."
   ]
  },
  {
   "cell_type": "markdown",
   "metadata": {},
   "source": [
    "**Insight**: Despite lower flight volumes in 2023, **delay rates and durations increased**, suggesting operational or systemic inefficiencies rather than demand-driven issues."
   ]
  },
  {
   "cell_type": "markdown",
   "metadata": {},
   "source": [
    "# **SECTION-2: Delay Causes**"
   ]
  },
  {
   "cell_type": "code",
   "execution_count": 19,
   "metadata": {},
   "outputs": [
    {
     "data": {
      "text/html": [
       "<div>\n",
       "<style scoped>\n",
       "    .dataframe tbody tr th:only-of-type {\n",
       "        vertical-align: middle;\n",
       "    }\n",
       "\n",
       "    .dataframe tbody tr th {\n",
       "        vertical-align: top;\n",
       "    }\n",
       "\n",
       "    .dataframe thead th {\n",
       "        text-align: right;\n",
       "    }\n",
       "</style>\n",
       "<table border=\"1\" class=\"dataframe\">\n",
       "  <thead>\n",
       "    <tr style=\"text-align: right;\">\n",
       "      <th></th>\n",
       "      <th>AIRLINE</th>\n",
       "      <th>ORIGIN</th>\n",
       "      <th>DEST</th>\n",
       "      <th>Carrier_Delays</th>\n",
       "      <th>Weather_Delays</th>\n",
       "      <th>NAS_Delays</th>\n",
       "      <th>Security_Delays</th>\n",
       "      <th>Late_Aircraft_Delays</th>\n",
       "      <th>Total_Flights</th>\n",
       "    </tr>\n",
       "  </thead>\n",
       "  <tbody>\n",
       "    <tr>\n",
       "      <th>0</th>\n",
       "      <td>Hawaiian Airlines Inc.</td>\n",
       "      <td>OGG</td>\n",
       "      <td>HNL</td>\n",
       "      <td>517</td>\n",
       "      <td>41</td>\n",
       "      <td>105</td>\n",
       "      <td>2</td>\n",
       "      <td>522</td>\n",
       "      <td>3577</td>\n",
       "    </tr>\n",
       "    <tr>\n",
       "      <th>1</th>\n",
       "      <td>Hawaiian Airlines Inc.</td>\n",
       "      <td>HNL</td>\n",
       "      <td>OGG</td>\n",
       "      <td>368</td>\n",
       "      <td>27</td>\n",
       "      <td>31</td>\n",
       "      <td>1</td>\n",
       "      <td>221</td>\n",
       "      <td>3496</td>\n",
       "    </tr>\n",
       "    <tr>\n",
       "      <th>2</th>\n",
       "      <td>Alaska Airlines Inc.</td>\n",
       "      <td>SEA</td>\n",
       "      <td>ANC</td>\n",
       "      <td>277</td>\n",
       "      <td>15</td>\n",
       "      <td>353</td>\n",
       "      <td>2</td>\n",
       "      <td>173</td>\n",
       "      <td>2474</td>\n",
       "    </tr>\n",
       "    <tr>\n",
       "      <th>3</th>\n",
       "      <td>Hawaiian Airlines Inc.</td>\n",
       "      <td>HNL</td>\n",
       "      <td>KOA</td>\n",
       "      <td>242</td>\n",
       "      <td>19</td>\n",
       "      <td>10</td>\n",
       "      <td>2</td>\n",
       "      <td>157</td>\n",
       "      <td>2467</td>\n",
       "    </tr>\n",
       "    <tr>\n",
       "      <th>4</th>\n",
       "      <td>Hawaiian Airlines Inc.</td>\n",
       "      <td>LIH</td>\n",
       "      <td>HNL</td>\n",
       "      <td>239</td>\n",
       "      <td>28</td>\n",
       "      <td>75</td>\n",
       "      <td>0</td>\n",
       "      <td>294</td>\n",
       "      <td>2459</td>\n",
       "    </tr>\n",
       "    <tr>\n",
       "      <th>...</th>\n",
       "      <td>...</td>\n",
       "      <td>...</td>\n",
       "      <td>...</td>\n",
       "      <td>...</td>\n",
       "      <td>...</td>\n",
       "      <td>...</td>\n",
       "      <td>...</td>\n",
       "      <td>...</td>\n",
       "      <td>...</td>\n",
       "    </tr>\n",
       "    <tr>\n",
       "      <th>17814</th>\n",
       "      <td>United Air Lines Inc.</td>\n",
       "      <td>SJC</td>\n",
       "      <td>LAS</td>\n",
       "      <td>0</td>\n",
       "      <td>0</td>\n",
       "      <td>0</td>\n",
       "      <td>0</td>\n",
       "      <td>1</td>\n",
       "      <td>1</td>\n",
       "    </tr>\n",
       "    <tr>\n",
       "      <th>17815</th>\n",
       "      <td>United Air Lines Inc.</td>\n",
       "      <td>SMF</td>\n",
       "      <td>LAX</td>\n",
       "      <td>0</td>\n",
       "      <td>0</td>\n",
       "      <td>1</td>\n",
       "      <td>0</td>\n",
       "      <td>0</td>\n",
       "      <td>1</td>\n",
       "    </tr>\n",
       "    <tr>\n",
       "      <th>17816</th>\n",
       "      <td>United Air Lines Inc.</td>\n",
       "      <td>SRQ</td>\n",
       "      <td>IAH</td>\n",
       "      <td>0</td>\n",
       "      <td>0</td>\n",
       "      <td>0</td>\n",
       "      <td>0</td>\n",
       "      <td>0</td>\n",
       "      <td>1</td>\n",
       "    </tr>\n",
       "    <tr>\n",
       "      <th>17817</th>\n",
       "      <td>United Air Lines Inc.</td>\n",
       "      <td>TVC</td>\n",
       "      <td>EWR</td>\n",
       "      <td>0</td>\n",
       "      <td>0</td>\n",
       "      <td>0</td>\n",
       "      <td>0</td>\n",
       "      <td>0</td>\n",
       "      <td>1</td>\n",
       "    </tr>\n",
       "    <tr>\n",
       "      <th>17818</th>\n",
       "      <td>United Air Lines Inc.</td>\n",
       "      <td>XNA</td>\n",
       "      <td>DEN</td>\n",
       "      <td>0</td>\n",
       "      <td>0</td>\n",
       "      <td>0</td>\n",
       "      <td>0</td>\n",
       "      <td>0</td>\n",
       "      <td>1</td>\n",
       "    </tr>\n",
       "  </tbody>\n",
       "</table>\n",
       "<p>17819 rows × 9 columns</p>\n",
       "</div>"
      ],
      "text/plain": [
       "                      AIRLINE ORIGIN DEST  Carrier_Delays  Weather_Delays  \\\n",
       "0      Hawaiian Airlines Inc.    OGG  HNL             517              41   \n",
       "1      Hawaiian Airlines Inc.    HNL  OGG             368              27   \n",
       "2        Alaska Airlines Inc.    SEA  ANC             277              15   \n",
       "3      Hawaiian Airlines Inc.    HNL  KOA             242              19   \n",
       "4      Hawaiian Airlines Inc.    LIH  HNL             239              28   \n",
       "...                       ...    ...  ...             ...             ...   \n",
       "17814   United Air Lines Inc.    SJC  LAS               0               0   \n",
       "17815   United Air Lines Inc.    SMF  LAX               0               0   \n",
       "17816   United Air Lines Inc.    SRQ  IAH               0               0   \n",
       "17817   United Air Lines Inc.    TVC  EWR               0               0   \n",
       "17818   United Air Lines Inc.    XNA  DEN               0               0   \n",
       "\n",
       "       NAS_Delays  Security_Delays  Late_Aircraft_Delays  Total_Flights  \n",
       "0             105                2                   522           3577  \n",
       "1              31                1                   221           3496  \n",
       "2             353                2                   173           2474  \n",
       "3              10                2                   157           2467  \n",
       "4              75                0                   294           2459  \n",
       "...           ...              ...                   ...            ...  \n",
       "17814           0                0                     1              1  \n",
       "17815           1                0                     0              1  \n",
       "17816           0                0                     0              1  \n",
       "17817           0                0                     0              1  \n",
       "17818           0                0                     0              1  \n",
       "\n",
       "[17819 rows x 9 columns]"
      ]
     },
     "execution_count": 19,
     "metadata": {},
     "output_type": "execute_result"
    }
   ],
   "source": [
    "query = '''\n",
    "SELECT AIRLINE, ORIGIN, DEST,\n",
    "       COUNT(CASE WHEN DELAY_DUE_CARRIER > 0 THEN 1 END) AS Carrier_Delays,\n",
    "       COUNT(CASE WHEN DELAY_DUE_WEATHER > 0 THEN 1 END) AS Weather_Delays,\n",
    "       COUNT(CASE WHEN DELAY_DUE_NAS > 0 THEN 1 END) AS NAS_Delays,\n",
    "       COUNT(CASE WHEN DELAY_DUE_SECURITY > 0 THEN 1 END) AS Security_Delays,\n",
    "       COUNT(CASE WHEN DELAY_DUE_LATE_AIRCRAFT > 0 THEN 1 END) AS Late_Aircraft_Delays,\n",
    "       COUNT(*) AS Total_Flights\n",
    "FROM flight_data\n",
    "GROUP BY AIRLINE, ORIGIN, DEST\n",
    "ORDER BY Total_Flights DESC;\n",
    "\n",
    "'''\n",
    "result5= pd.read_sql_query(query, conn)\n",
    "result5\n"
   ]
  },
  {
   "cell_type": "markdown",
   "metadata": {},
   "source": [
    "- This query analyzes delay reasons by categorizing them into carrier, weather, NAS (National Airspace System), security, and late aircraft delays.\n",
    "- It helps identify patterns and key contributors to delays.\n"
   ]
  },
  {
   "cell_type": "code",
   "execution_count": 20,
   "metadata": {},
   "outputs": [],
   "source": [
    "result5.to_csv('result5.csv', index=False)\n",
    "\n"
   ]
  },
  {
   "cell_type": "code",
   "execution_count": null,
   "metadata": {},
   "outputs": [
    {
     "data": {
      "application/vnd.plotly.v1+json": {
       "config": {
        "plotlyServerURL": "https://plot.ly"
       },
       "data": [
        {
         "alignmentgroup": "True",
         "hovertemplate": "Delay Cause=Carrier_Delays<br>Destination Airport=%{x}<br>Count=%{y}<extra></extra>",
         "legendgroup": "Carrier_Delays",
         "marker": {
          "color": "#636efa",
          "pattern": {
           "shape": ""
          }
         },
         "name": "Carrier_Delays",
         "offsetgroup": "Carrier_Delays",
         "orientation": "v",
         "showlegend": true,
         "textposition": "auto",
         "type": "bar",
         "x": [
          "DFW",
          "DEN",
          "ORD",
          "ATL",
          "LAS",
          "MCO",
          "LAX",
          "CLT",
          "PHX",
          "LGA"
         ],
         "xaxis": "x",
         "y": {
          "bdata": "vyyMLSEntindH0Mg9yElG1MedRM=",
          "dtype": "i2"
         },
         "yaxis": "y"
        },
        {
         "alignmentgroup": "True",
         "hovertemplate": "Delay Cause=Weather_Delays<br>Destination Airport=%{x}<br>Count=%{y}<extra></extra>",
         "legendgroup": "Weather_Delays",
         "marker": {
          "color": "#EF553B",
          "pattern": {
           "shape": ""
          }
         },
         "name": "Weather_Delays",
         "offsetgroup": "Weather_Delays",
         "orientation": "v",
         "showlegend": true,
         "textposition": "auto",
         "type": "bar",
         "x": [
          "DFW",
          "DEN",
          "ORD",
          "ATL",
          "LAS",
          "MCO",
          "LAX",
          "CLT",
          "PHX",
          "LGA"
         ],
         "xaxis": "x",
         "y": {
          "bdata": "ewgjBIwFQQUoAg4CvwI4BBUCDgM=",
          "dtype": "i2"
         },
         "yaxis": "y"
        },
        {
         "alignmentgroup": "True",
         "hovertemplate": "Delay Cause=NAS_Delays<br>Destination Airport=%{x}<br>Count=%{y}<extra></extra>",
         "legendgroup": "NAS_Delays",
         "marker": {
          "color": "#00cc96",
          "pattern": {
           "shape": ""
          }
         },
         "name": "NAS_Delays",
         "offsetgroup": "NAS_Delays",
         "orientation": "v",
         "showlegend": true,
         "textposition": "auto",
         "type": "bar",
         "x": [
          "DFW",
          "DEN",
          "ORD",
          "ATL",
          "LAS",
          "MCO",
          "LAX",
          "CLT",
          "PHX",
          "LGA"
         ],
         "xaxis": "x",
         "y": {
          "bdata": "0S+BKbAtUifjIOIePxuCGQAVrSA=",
          "dtype": "i2"
         },
         "yaxis": "y"
        },
        {
         "alignmentgroup": "True",
         "hovertemplate": "Delay Cause=Security_Delays<br>Destination Airport=%{x}<br>Count=%{y}<extra></extra>",
         "legendgroup": "Security_Delays",
         "marker": {
          "color": "#ab63fa",
          "pattern": {
           "shape": ""
          }
         },
         "name": "Security_Delays",
         "offsetgroup": "Security_Delays",
         "orientation": "v",
         "showlegend": true,
         "textposition": "auto",
         "type": "bar",
         "x": [
          "DFW",
          "DEN",
          "ORD",
          "ATL",
          "LAS",
          "MCO",
          "LAX",
          "CLT",
          "PHX",
          "LGA"
         ],
         "xaxis": "x",
         "y": {
          "bdata": "qAA/AE0AQgBbAFMAYwBxAEUALwA=",
          "dtype": "i2"
         },
         "yaxis": "y"
        },
        {
         "alignmentgroup": "True",
         "hovertemplate": "Delay Cause=Late_Aircraft_Delays<br>Destination Airport=%{x}<br>Count=%{y}<extra></extra>",
         "legendgroup": "Late_Aircraft_Delays",
         "marker": {
          "color": "#FFA15A",
          "pattern": {
           "shape": ""
          }
         },
         "name": "Late_Aircraft_Delays",
         "offsetgroup": "Late_Aircraft_Delays",
         "orientation": "v",
         "showlegend": true,
         "textposition": "auto",
         "type": "bar",
         "x": [
          "DFW",
          "DEN",
          "ORD",
          "ATL",
          "LAS",
          "MCO",
          "LAX",
          "CLT",
          "PHX",
          "LGA"
         ],
         "xaxis": "x",
         "y": {
          "bdata": "7y14JogljifiH1UbPBhuHbEawBQ=",
          "dtype": "i2"
         },
         "yaxis": "y"
        },
        {
         "alignmentgroup": "True",
         "hovertemplate": "Delay Cause=Total<br>Destination Airport=%{x}<br>Count=%{y}<extra></extra>",
         "legendgroup": "Total",
         "marker": {
          "color": "#19d3f3",
          "pattern": {
           "shape": ""
          }
         },
         "name": "Total",
         "offsetgroup": "Total",
         "orientation": "v",
         "showlegend": true,
         "textposition": "auto",
         "type": "bar",
         "x": [
          "DFW",
          "DEN",
          "ORD",
          "ATL",
          "LAS",
          "MCO",
          "LAX",
          "CLT",
          "PHX",
          "LGA"
         ],
         "xaxis": "x",
         "y": {
          "bdata": "opMAAOeBAAAygAAAGX4AACVjAADbXAAAlFgAAL5WAABeUAAAH0wAAA==",
          "dtype": "i4"
         },
         "yaxis": "y"
        }
       ],
       "layout": {
        "barmode": "group",
        "legend": {
         "title": {
          "text": "Delay Cause"
         },
         "tracegroupgap": 0
        },
        "template": {
         "data": {
          "bar": [
           {
            "error_x": {
             "color": "#2a3f5f"
            },
            "error_y": {
             "color": "#2a3f5f"
            },
            "marker": {
             "line": {
              "color": "#E5ECF6",
              "width": 0.5
             },
             "pattern": {
              "fillmode": "overlay",
              "size": 10,
              "solidity": 0.2
             }
            },
            "type": "bar"
           }
          ],
          "barpolar": [
           {
            "marker": {
             "line": {
              "color": "#E5ECF6",
              "width": 0.5
             },
             "pattern": {
              "fillmode": "overlay",
              "size": 10,
              "solidity": 0.2
             }
            },
            "type": "barpolar"
           }
          ],
          "carpet": [
           {
            "aaxis": {
             "endlinecolor": "#2a3f5f",
             "gridcolor": "white",
             "linecolor": "white",
             "minorgridcolor": "white",
             "startlinecolor": "#2a3f5f"
            },
            "baxis": {
             "endlinecolor": "#2a3f5f",
             "gridcolor": "white",
             "linecolor": "white",
             "minorgridcolor": "white",
             "startlinecolor": "#2a3f5f"
            },
            "type": "carpet"
           }
          ],
          "choropleth": [
           {
            "colorbar": {
             "outlinewidth": 0,
             "ticks": ""
            },
            "type": "choropleth"
           }
          ],
          "contour": [
           {
            "colorbar": {
             "outlinewidth": 0,
             "ticks": ""
            },
            "colorscale": [
             [
              0,
              "#0d0887"
             ],
             [
              0.1111111111111111,
              "#46039f"
             ],
             [
              0.2222222222222222,
              "#7201a8"
             ],
             [
              0.3333333333333333,
              "#9c179e"
             ],
             [
              0.4444444444444444,
              "#bd3786"
             ],
             [
              0.5555555555555556,
              "#d8576b"
             ],
             [
              0.6666666666666666,
              "#ed7953"
             ],
             [
              0.7777777777777778,
              "#fb9f3a"
             ],
             [
              0.8888888888888888,
              "#fdca26"
             ],
             [
              1,
              "#f0f921"
             ]
            ],
            "type": "contour"
           }
          ],
          "contourcarpet": [
           {
            "colorbar": {
             "outlinewidth": 0,
             "ticks": ""
            },
            "type": "contourcarpet"
           }
          ],
          "heatmap": [
           {
            "colorbar": {
             "outlinewidth": 0,
             "ticks": ""
            },
            "colorscale": [
             [
              0,
              "#0d0887"
             ],
             [
              0.1111111111111111,
              "#46039f"
             ],
             [
              0.2222222222222222,
              "#7201a8"
             ],
             [
              0.3333333333333333,
              "#9c179e"
             ],
             [
              0.4444444444444444,
              "#bd3786"
             ],
             [
              0.5555555555555556,
              "#d8576b"
             ],
             [
              0.6666666666666666,
              "#ed7953"
             ],
             [
              0.7777777777777778,
              "#fb9f3a"
             ],
             [
              0.8888888888888888,
              "#fdca26"
             ],
             [
              1,
              "#f0f921"
             ]
            ],
            "type": "heatmap"
           }
          ],
          "histogram": [
           {
            "marker": {
             "pattern": {
              "fillmode": "overlay",
              "size": 10,
              "solidity": 0.2
             }
            },
            "type": "histogram"
           }
          ],
          "histogram2d": [
           {
            "colorbar": {
             "outlinewidth": 0,
             "ticks": ""
            },
            "colorscale": [
             [
              0,
              "#0d0887"
             ],
             [
              0.1111111111111111,
              "#46039f"
             ],
             [
              0.2222222222222222,
              "#7201a8"
             ],
             [
              0.3333333333333333,
              "#9c179e"
             ],
             [
              0.4444444444444444,
              "#bd3786"
             ],
             [
              0.5555555555555556,
              "#d8576b"
             ],
             [
              0.6666666666666666,
              "#ed7953"
             ],
             [
              0.7777777777777778,
              "#fb9f3a"
             ],
             [
              0.8888888888888888,
              "#fdca26"
             ],
             [
              1,
              "#f0f921"
             ]
            ],
            "type": "histogram2d"
           }
          ],
          "histogram2dcontour": [
           {
            "colorbar": {
             "outlinewidth": 0,
             "ticks": ""
            },
            "colorscale": [
             [
              0,
              "#0d0887"
             ],
             [
              0.1111111111111111,
              "#46039f"
             ],
             [
              0.2222222222222222,
              "#7201a8"
             ],
             [
              0.3333333333333333,
              "#9c179e"
             ],
             [
              0.4444444444444444,
              "#bd3786"
             ],
             [
              0.5555555555555556,
              "#d8576b"
             ],
             [
              0.6666666666666666,
              "#ed7953"
             ],
             [
              0.7777777777777778,
              "#fb9f3a"
             ],
             [
              0.8888888888888888,
              "#fdca26"
             ],
             [
              1,
              "#f0f921"
             ]
            ],
            "type": "histogram2dcontour"
           }
          ],
          "mesh3d": [
           {
            "colorbar": {
             "outlinewidth": 0,
             "ticks": ""
            },
            "type": "mesh3d"
           }
          ],
          "parcoords": [
           {
            "line": {
             "colorbar": {
              "outlinewidth": 0,
              "ticks": ""
             }
            },
            "type": "parcoords"
           }
          ],
          "pie": [
           {
            "automargin": true,
            "type": "pie"
           }
          ],
          "scatter": [
           {
            "fillpattern": {
             "fillmode": "overlay",
             "size": 10,
             "solidity": 0.2
            },
            "type": "scatter"
           }
          ],
          "scatter3d": [
           {
            "line": {
             "colorbar": {
              "outlinewidth": 0,
              "ticks": ""
             }
            },
            "marker": {
             "colorbar": {
              "outlinewidth": 0,
              "ticks": ""
             }
            },
            "type": "scatter3d"
           }
          ],
          "scattercarpet": [
           {
            "marker": {
             "colorbar": {
              "outlinewidth": 0,
              "ticks": ""
             }
            },
            "type": "scattercarpet"
           }
          ],
          "scattergeo": [
           {
            "marker": {
             "colorbar": {
              "outlinewidth": 0,
              "ticks": ""
             }
            },
            "type": "scattergeo"
           }
          ],
          "scattergl": [
           {
            "marker": {
             "colorbar": {
              "outlinewidth": 0,
              "ticks": ""
             }
            },
            "type": "scattergl"
           }
          ],
          "scattermap": [
           {
            "marker": {
             "colorbar": {
              "outlinewidth": 0,
              "ticks": ""
             }
            },
            "type": "scattermap"
           }
          ],
          "scattermapbox": [
           {
            "marker": {
             "colorbar": {
              "outlinewidth": 0,
              "ticks": ""
             }
            },
            "type": "scattermapbox"
           }
          ],
          "scatterpolar": [
           {
            "marker": {
             "colorbar": {
              "outlinewidth": 0,
              "ticks": ""
             }
            },
            "type": "scatterpolar"
           }
          ],
          "scatterpolargl": [
           {
            "marker": {
             "colorbar": {
              "outlinewidth": 0,
              "ticks": ""
             }
            },
            "type": "scatterpolargl"
           }
          ],
          "scatterternary": [
           {
            "marker": {
             "colorbar": {
              "outlinewidth": 0,
              "ticks": ""
             }
            },
            "type": "scatterternary"
           }
          ],
          "surface": [
           {
            "colorbar": {
             "outlinewidth": 0,
             "ticks": ""
            },
            "colorscale": [
             [
              0,
              "#0d0887"
             ],
             [
              0.1111111111111111,
              "#46039f"
             ],
             [
              0.2222222222222222,
              "#7201a8"
             ],
             [
              0.3333333333333333,
              "#9c179e"
             ],
             [
              0.4444444444444444,
              "#bd3786"
             ],
             [
              0.5555555555555556,
              "#d8576b"
             ],
             [
              0.6666666666666666,
              "#ed7953"
             ],
             [
              0.7777777777777778,
              "#fb9f3a"
             ],
             [
              0.8888888888888888,
              "#fdca26"
             ],
             [
              1,
              "#f0f921"
             ]
            ],
            "type": "surface"
           }
          ],
          "table": [
           {
            "cells": {
             "fill": {
              "color": "#EBF0F8"
             },
             "line": {
              "color": "white"
             }
            },
            "header": {
             "fill": {
              "color": "#C8D4E3"
             },
             "line": {
              "color": "white"
             }
            },
            "type": "table"
           }
          ]
         },
         "layout": {
          "annotationdefaults": {
           "arrowcolor": "#2a3f5f",
           "arrowhead": 0,
           "arrowwidth": 1
          },
          "autotypenumbers": "strict",
          "coloraxis": {
           "colorbar": {
            "outlinewidth": 0,
            "ticks": ""
           }
          },
          "colorscale": {
           "diverging": [
            [
             0,
             "#8e0152"
            ],
            [
             0.1,
             "#c51b7d"
            ],
            [
             0.2,
             "#de77ae"
            ],
            [
             0.3,
             "#f1b6da"
            ],
            [
             0.4,
             "#fde0ef"
            ],
            [
             0.5,
             "#f7f7f7"
            ],
            [
             0.6,
             "#e6f5d0"
            ],
            [
             0.7,
             "#b8e186"
            ],
            [
             0.8,
             "#7fbc41"
            ],
            [
             0.9,
             "#4d9221"
            ],
            [
             1,
             "#276419"
            ]
           ],
           "sequential": [
            [
             0,
             "#0d0887"
            ],
            [
             0.1111111111111111,
             "#46039f"
            ],
            [
             0.2222222222222222,
             "#7201a8"
            ],
            [
             0.3333333333333333,
             "#9c179e"
            ],
            [
             0.4444444444444444,
             "#bd3786"
            ],
            [
             0.5555555555555556,
             "#d8576b"
            ],
            [
             0.6666666666666666,
             "#ed7953"
            ],
            [
             0.7777777777777778,
             "#fb9f3a"
            ],
            [
             0.8888888888888888,
             "#fdca26"
            ],
            [
             1,
             "#f0f921"
            ]
           ],
           "sequentialminus": [
            [
             0,
             "#0d0887"
            ],
            [
             0.1111111111111111,
             "#46039f"
            ],
            [
             0.2222222222222222,
             "#7201a8"
            ],
            [
             0.3333333333333333,
             "#9c179e"
            ],
            [
             0.4444444444444444,
             "#bd3786"
            ],
            [
             0.5555555555555556,
             "#d8576b"
            ],
            [
             0.6666666666666666,
             "#ed7953"
            ],
            [
             0.7777777777777778,
             "#fb9f3a"
            ],
            [
             0.8888888888888888,
             "#fdca26"
            ],
            [
             1,
             "#f0f921"
            ]
           ]
          },
          "colorway": [
           "#636efa",
           "#EF553B",
           "#00cc96",
           "#ab63fa",
           "#FFA15A",
           "#19d3f3",
           "#FF6692",
           "#B6E880",
           "#FF97FF",
           "#FECB52"
          ],
          "font": {
           "color": "#2a3f5f"
          },
          "geo": {
           "bgcolor": "white",
           "lakecolor": "white",
           "landcolor": "#E5ECF6",
           "showlakes": true,
           "showland": true,
           "subunitcolor": "white"
          },
          "hoverlabel": {
           "align": "left"
          },
          "hovermode": "closest",
          "mapbox": {
           "style": "light"
          },
          "paper_bgcolor": "white",
          "plot_bgcolor": "#E5ECF6",
          "polar": {
           "angularaxis": {
            "gridcolor": "white",
            "linecolor": "white",
            "ticks": ""
           },
           "bgcolor": "#E5ECF6",
           "radialaxis": {
            "gridcolor": "white",
            "linecolor": "white",
            "ticks": ""
           }
          },
          "scene": {
           "xaxis": {
            "backgroundcolor": "#E5ECF6",
            "gridcolor": "white",
            "gridwidth": 2,
            "linecolor": "white",
            "showbackground": true,
            "ticks": "",
            "zerolinecolor": "white"
           },
           "yaxis": {
            "backgroundcolor": "#E5ECF6",
            "gridcolor": "white",
            "gridwidth": 2,
            "linecolor": "white",
            "showbackground": true,
            "ticks": "",
            "zerolinecolor": "white"
           },
           "zaxis": {
            "backgroundcolor": "#E5ECF6",
            "gridcolor": "white",
            "gridwidth": 2,
            "linecolor": "white",
            "showbackground": true,
            "ticks": "",
            "zerolinecolor": "white"
           }
          },
          "shapedefaults": {
           "line": {
            "color": "#2a3f5f"
           }
          },
          "ternary": {
           "aaxis": {
            "gridcolor": "white",
            "linecolor": "white",
            "ticks": ""
           },
           "baxis": {
            "gridcolor": "white",
            "linecolor": "white",
            "ticks": ""
           },
           "bgcolor": "#E5ECF6",
           "caxis": {
            "gridcolor": "white",
            "linecolor": "white",
            "ticks": ""
           }
          },
          "title": {
           "x": 0.05
          },
          "xaxis": {
           "automargin": true,
           "gridcolor": "white",
           "linecolor": "white",
           "ticks": "",
           "title": {
            "standoff": 15
           },
           "zerolinecolor": "white",
           "zerolinewidth": 2
          },
          "yaxis": {
           "automargin": true,
           "gridcolor": "white",
           "linecolor": "white",
           "ticks": "",
           "title": {
            "standoff": 15
           },
           "zerolinecolor": "white",
           "zerolinewidth": 2
          }
         }
        },
        "title": {
         "text": "Top 10 Routes: Delay Causes by Destination Airport"
        },
        "xaxis": {
         "anchor": "y",
         "domain": [
          0,
          1
         ],
         "title": {
          "text": "Destination Airport"
         }
        },
        "yaxis": {
         "anchor": "x",
         "domain": [
          0,
          1
         ],
         "title": {
          "text": "Count"
         }
        }
       }
      }
     },
     "metadata": {},
     "output_type": "display_data"
    },
    {
     "data": {
      "application/vnd.plotly.v1+json": {
       "config": {
        "plotlyServerURL": "https://plot.ly"
       },
       "data": [
        {
         "alignmentgroup": "True",
         "hovertemplate": "Delay Cause=Carrier_Delays<br>Origin Airport=%{x}<br>Count=%{y}<extra></extra>",
         "legendgroup": "Carrier_Delays",
         "marker": {
          "color": "#636efa",
          "pattern": {
           "shape": ""
          }
         },
         "name": "Carrier_Delays",
         "offsetgroup": "Carrier_Delays",
         "orientation": "v",
         "showlegend": true,
         "textposition": "auto",
         "type": "bar",
         "x": [
          "DFW",
          "DEN",
          "ORD",
          "ATL",
          "CLT",
          "LAS",
          "MCO",
          "PHX",
          "EWR",
          "LAX"
         ],
         "xaxis": "x",
         "y": {
          "bdata": "B0HtQ/gw6jyeJdsm3yCzH2Ud4h8=",
          "dtype": "i2"
         },
         "yaxis": "y"
        },
        {
         "alignmentgroup": "True",
         "hovertemplate": "Delay Cause=Weather_Delays<br>Origin Airport=%{x}<br>Count=%{y}<extra></extra>",
         "legendgroup": "Weather_Delays",
         "marker": {
          "color": "#EF553B",
          "pattern": {
           "shape": ""
          }
         },
         "name": "Weather_Delays",
         "offsetgroup": "Weather_Delays",
         "orientation": "v",
         "showlegend": true,
         "textposition": "auto",
         "type": "bar",
         "x": [
          "DFW",
          "DEN",
          "ORD",
          "ATL",
          "CLT",
          "LAS",
          "MCO",
          "PHX",
          "EWR",
          "LAX"
         ],
         "xaxis": "x",
         "y": {
          "bdata": "UQpSBcEJBwXfBTkBkAXDAAUCaAE=",
          "dtype": "i2"
         },
         "yaxis": "y"
        },
        {
         "alignmentgroup": "True",
         "hovertemplate": "Delay Cause=NAS_Delays<br>Origin Airport=%{x}<br>Count=%{y}<extra></extra>",
         "legendgroup": "NAS_Delays",
         "marker": {
          "color": "#00cc96",
          "pattern": {
           "shape": ""
          }
         },
         "name": "NAS_Delays",
         "offsetgroup": "NAS_Delays",
         "orientation": "v",
         "showlegend": true,
         "textposition": "auto",
         "type": "bar",
         "x": [
          "DFW",
          "DEN",
          "ORD",
          "ATL",
          "CLT",
          "LAS",
          "MCO",
          "PHX",
          "EWR",
          "LAX"
         ],
         "xaxis": "x",
         "y": {
          "bdata": "ezHRKAwxUCroIkkdYB9hFEkazhc=",
          "dtype": "i2"
         },
         "yaxis": "y"
        },
        {
         "alignmentgroup": "True",
         "hovertemplate": "Delay Cause=Security_Delays<br>Origin Airport=%{x}<br>Count=%{y}<extra></extra>",
         "legendgroup": "Security_Delays",
         "marker": {
          "color": "#ab63fa",
          "pattern": {
           "shape": ""
          }
         },
         "name": "Security_Delays",
         "offsetgroup": "Security_Delays",
         "orientation": "v",
         "showlegend": true,
         "textposition": "auto",
         "type": "bar",
         "x": [
          "DFW",
          "DEN",
          "ORD",
          "ATL",
          "CLT",
          "LAS",
          "MCO",
          "PHX",
          "EWR",
          "LAX"
         ],
         "xaxis": "x",
         "y": {
          "bdata": "XAAtADQARADTAFAAnwBXADYAPAA=",
          "dtype": "i2"
         },
         "yaxis": "y"
        },
        {
         "alignmentgroup": "True",
         "hovertemplate": "Delay Cause=Late_Aircraft_Delays<br>Origin Airport=%{x}<br>Count=%{y}<extra></extra>",
         "legendgroup": "Late_Aircraft_Delays",
         "marker": {
          "color": "#FFA15A",
          "pattern": {
           "shape": ""
          }
         },
         "name": "Late_Aircraft_Delays",
         "offsetgroup": "Late_Aircraft_Delays",
         "orientation": "v",
         "showlegend": true,
         "textposition": "auto",
         "type": "bar",
         "x": [
          "DFW",
          "DEN",
          "ORD",
          "ATL",
          "CLT",
          "LAS",
          "MCO",
          "PHX",
          "EWR",
          "LAX"
         ],
         "xaxis": "x",
         "y": {
          "bdata": "+zTYMkAq/iLQIB0iUByUHIgX4xc=",
          "dtype": "i2"
         },
         "yaxis": "y"
        },
        {
         "alignmentgroup": "True",
         "hovertemplate": "Delay Cause=Total<br>Origin Airport=%{x}<br>Count=%{y}<extra></extra>",
         "legendgroup": "Total",
         "marker": {
          "color": "#19d3f3",
          "pattern": {
           "shape": ""
          }
         },
         "name": "Total",
         "offsetgroup": "Total",
         "orientation": "v",
         "showlegend": true,
         "textposition": "auto",
         "type": "bar",
         "x": [
          "DFW",
          "DEN",
          "ORD",
          "ATL",
          "CLT",
          "LAS",
          "MCO",
          "PHX",
          "EWR",
          "LAX"
         ],
         "xaxis": "x",
         "y": {
          "bdata": "KrIAABWlAAA5lgAAg48AAAhwAADKZwAAvmIAAMJRAABxUQAAN1EAAA==",
          "dtype": "i4"
         },
         "yaxis": "y"
        }
       ],
       "layout": {
        "barmode": "group",
        "legend": {
         "title": {
          "text": "Delay Cause"
         },
         "tracegroupgap": 0
        },
        "template": {
         "data": {
          "bar": [
           {
            "error_x": {
             "color": "#2a3f5f"
            },
            "error_y": {
             "color": "#2a3f5f"
            },
            "marker": {
             "line": {
              "color": "#E5ECF6",
              "width": 0.5
             },
             "pattern": {
              "fillmode": "overlay",
              "size": 10,
              "solidity": 0.2
             }
            },
            "type": "bar"
           }
          ],
          "barpolar": [
           {
            "marker": {
             "line": {
              "color": "#E5ECF6",
              "width": 0.5
             },
             "pattern": {
              "fillmode": "overlay",
              "size": 10,
              "solidity": 0.2
             }
            },
            "type": "barpolar"
           }
          ],
          "carpet": [
           {
            "aaxis": {
             "endlinecolor": "#2a3f5f",
             "gridcolor": "white",
             "linecolor": "white",
             "minorgridcolor": "white",
             "startlinecolor": "#2a3f5f"
            },
            "baxis": {
             "endlinecolor": "#2a3f5f",
             "gridcolor": "white",
             "linecolor": "white",
             "minorgridcolor": "white",
             "startlinecolor": "#2a3f5f"
            },
            "type": "carpet"
           }
          ],
          "choropleth": [
           {
            "colorbar": {
             "outlinewidth": 0,
             "ticks": ""
            },
            "type": "choropleth"
           }
          ],
          "contour": [
           {
            "colorbar": {
             "outlinewidth": 0,
             "ticks": ""
            },
            "colorscale": [
             [
              0,
              "#0d0887"
             ],
             [
              0.1111111111111111,
              "#46039f"
             ],
             [
              0.2222222222222222,
              "#7201a8"
             ],
             [
              0.3333333333333333,
              "#9c179e"
             ],
             [
              0.4444444444444444,
              "#bd3786"
             ],
             [
              0.5555555555555556,
              "#d8576b"
             ],
             [
              0.6666666666666666,
              "#ed7953"
             ],
             [
              0.7777777777777778,
              "#fb9f3a"
             ],
             [
              0.8888888888888888,
              "#fdca26"
             ],
             [
              1,
              "#f0f921"
             ]
            ],
            "type": "contour"
           }
          ],
          "contourcarpet": [
           {
            "colorbar": {
             "outlinewidth": 0,
             "ticks": ""
            },
            "type": "contourcarpet"
           }
          ],
          "heatmap": [
           {
            "colorbar": {
             "outlinewidth": 0,
             "ticks": ""
            },
            "colorscale": [
             [
              0,
              "#0d0887"
             ],
             [
              0.1111111111111111,
              "#46039f"
             ],
             [
              0.2222222222222222,
              "#7201a8"
             ],
             [
              0.3333333333333333,
              "#9c179e"
             ],
             [
              0.4444444444444444,
              "#bd3786"
             ],
             [
              0.5555555555555556,
              "#d8576b"
             ],
             [
              0.6666666666666666,
              "#ed7953"
             ],
             [
              0.7777777777777778,
              "#fb9f3a"
             ],
             [
              0.8888888888888888,
              "#fdca26"
             ],
             [
              1,
              "#f0f921"
             ]
            ],
            "type": "heatmap"
           }
          ],
          "histogram": [
           {
            "marker": {
             "pattern": {
              "fillmode": "overlay",
              "size": 10,
              "solidity": 0.2
             }
            },
            "type": "histogram"
           }
          ],
          "histogram2d": [
           {
            "colorbar": {
             "outlinewidth": 0,
             "ticks": ""
            },
            "colorscale": [
             [
              0,
              "#0d0887"
             ],
             [
              0.1111111111111111,
              "#46039f"
             ],
             [
              0.2222222222222222,
              "#7201a8"
             ],
             [
              0.3333333333333333,
              "#9c179e"
             ],
             [
              0.4444444444444444,
              "#bd3786"
             ],
             [
              0.5555555555555556,
              "#d8576b"
             ],
             [
              0.6666666666666666,
              "#ed7953"
             ],
             [
              0.7777777777777778,
              "#fb9f3a"
             ],
             [
              0.8888888888888888,
              "#fdca26"
             ],
             [
              1,
              "#f0f921"
             ]
            ],
            "type": "histogram2d"
           }
          ],
          "histogram2dcontour": [
           {
            "colorbar": {
             "outlinewidth": 0,
             "ticks": ""
            },
            "colorscale": [
             [
              0,
              "#0d0887"
             ],
             [
              0.1111111111111111,
              "#46039f"
             ],
             [
              0.2222222222222222,
              "#7201a8"
             ],
             [
              0.3333333333333333,
              "#9c179e"
             ],
             [
              0.4444444444444444,
              "#bd3786"
             ],
             [
              0.5555555555555556,
              "#d8576b"
             ],
             [
              0.6666666666666666,
              "#ed7953"
             ],
             [
              0.7777777777777778,
              "#fb9f3a"
             ],
             [
              0.8888888888888888,
              "#fdca26"
             ],
             [
              1,
              "#f0f921"
             ]
            ],
            "type": "histogram2dcontour"
           }
          ],
          "mesh3d": [
           {
            "colorbar": {
             "outlinewidth": 0,
             "ticks": ""
            },
            "type": "mesh3d"
           }
          ],
          "parcoords": [
           {
            "line": {
             "colorbar": {
              "outlinewidth": 0,
              "ticks": ""
             }
            },
            "type": "parcoords"
           }
          ],
          "pie": [
           {
            "automargin": true,
            "type": "pie"
           }
          ],
          "scatter": [
           {
            "fillpattern": {
             "fillmode": "overlay",
             "size": 10,
             "solidity": 0.2
            },
            "type": "scatter"
           }
          ],
          "scatter3d": [
           {
            "line": {
             "colorbar": {
              "outlinewidth": 0,
              "ticks": ""
             }
            },
            "marker": {
             "colorbar": {
              "outlinewidth": 0,
              "ticks": ""
             }
            },
            "type": "scatter3d"
           }
          ],
          "scattercarpet": [
           {
            "marker": {
             "colorbar": {
              "outlinewidth": 0,
              "ticks": ""
             }
            },
            "type": "scattercarpet"
           }
          ],
          "scattergeo": [
           {
            "marker": {
             "colorbar": {
              "outlinewidth": 0,
              "ticks": ""
             }
            },
            "type": "scattergeo"
           }
          ],
          "scattergl": [
           {
            "marker": {
             "colorbar": {
              "outlinewidth": 0,
              "ticks": ""
             }
            },
            "type": "scattergl"
           }
          ],
          "scattermap": [
           {
            "marker": {
             "colorbar": {
              "outlinewidth": 0,
              "ticks": ""
             }
            },
            "type": "scattermap"
           }
          ],
          "scattermapbox": [
           {
            "marker": {
             "colorbar": {
              "outlinewidth": 0,
              "ticks": ""
             }
            },
            "type": "scattermapbox"
           }
          ],
          "scatterpolar": [
           {
            "marker": {
             "colorbar": {
              "outlinewidth": 0,
              "ticks": ""
             }
            },
            "type": "scatterpolar"
           }
          ],
          "scatterpolargl": [
           {
            "marker": {
             "colorbar": {
              "outlinewidth": 0,
              "ticks": ""
             }
            },
            "type": "scatterpolargl"
           }
          ],
          "scatterternary": [
           {
            "marker": {
             "colorbar": {
              "outlinewidth": 0,
              "ticks": ""
             }
            },
            "type": "scatterternary"
           }
          ],
          "surface": [
           {
            "colorbar": {
             "outlinewidth": 0,
             "ticks": ""
            },
            "colorscale": [
             [
              0,
              "#0d0887"
             ],
             [
              0.1111111111111111,
              "#46039f"
             ],
             [
              0.2222222222222222,
              "#7201a8"
             ],
             [
              0.3333333333333333,
              "#9c179e"
             ],
             [
              0.4444444444444444,
              "#bd3786"
             ],
             [
              0.5555555555555556,
              "#d8576b"
             ],
             [
              0.6666666666666666,
              "#ed7953"
             ],
             [
              0.7777777777777778,
              "#fb9f3a"
             ],
             [
              0.8888888888888888,
              "#fdca26"
             ],
             [
              1,
              "#f0f921"
             ]
            ],
            "type": "surface"
           }
          ],
          "table": [
           {
            "cells": {
             "fill": {
              "color": "#EBF0F8"
             },
             "line": {
              "color": "white"
             }
            },
            "header": {
             "fill": {
              "color": "#C8D4E3"
             },
             "line": {
              "color": "white"
             }
            },
            "type": "table"
           }
          ]
         },
         "layout": {
          "annotationdefaults": {
           "arrowcolor": "#2a3f5f",
           "arrowhead": 0,
           "arrowwidth": 1
          },
          "autotypenumbers": "strict",
          "coloraxis": {
           "colorbar": {
            "outlinewidth": 0,
            "ticks": ""
           }
          },
          "colorscale": {
           "diverging": [
            [
             0,
             "#8e0152"
            ],
            [
             0.1,
             "#c51b7d"
            ],
            [
             0.2,
             "#de77ae"
            ],
            [
             0.3,
             "#f1b6da"
            ],
            [
             0.4,
             "#fde0ef"
            ],
            [
             0.5,
             "#f7f7f7"
            ],
            [
             0.6,
             "#e6f5d0"
            ],
            [
             0.7,
             "#b8e186"
            ],
            [
             0.8,
             "#7fbc41"
            ],
            [
             0.9,
             "#4d9221"
            ],
            [
             1,
             "#276419"
            ]
           ],
           "sequential": [
            [
             0,
             "#0d0887"
            ],
            [
             0.1111111111111111,
             "#46039f"
            ],
            [
             0.2222222222222222,
             "#7201a8"
            ],
            [
             0.3333333333333333,
             "#9c179e"
            ],
            [
             0.4444444444444444,
             "#bd3786"
            ],
            [
             0.5555555555555556,
             "#d8576b"
            ],
            [
             0.6666666666666666,
             "#ed7953"
            ],
            [
             0.7777777777777778,
             "#fb9f3a"
            ],
            [
             0.8888888888888888,
             "#fdca26"
            ],
            [
             1,
             "#f0f921"
            ]
           ],
           "sequentialminus": [
            [
             0,
             "#0d0887"
            ],
            [
             0.1111111111111111,
             "#46039f"
            ],
            [
             0.2222222222222222,
             "#7201a8"
            ],
            [
             0.3333333333333333,
             "#9c179e"
            ],
            [
             0.4444444444444444,
             "#bd3786"
            ],
            [
             0.5555555555555556,
             "#d8576b"
            ],
            [
             0.6666666666666666,
             "#ed7953"
            ],
            [
             0.7777777777777778,
             "#fb9f3a"
            ],
            [
             0.8888888888888888,
             "#fdca26"
            ],
            [
             1,
             "#f0f921"
            ]
           ]
          },
          "colorway": [
           "#636efa",
           "#EF553B",
           "#00cc96",
           "#ab63fa",
           "#FFA15A",
           "#19d3f3",
           "#FF6692",
           "#B6E880",
           "#FF97FF",
           "#FECB52"
          ],
          "font": {
           "color": "#2a3f5f"
          },
          "geo": {
           "bgcolor": "white",
           "lakecolor": "white",
           "landcolor": "#E5ECF6",
           "showlakes": true,
           "showland": true,
           "subunitcolor": "white"
          },
          "hoverlabel": {
           "align": "left"
          },
          "hovermode": "closest",
          "mapbox": {
           "style": "light"
          },
          "paper_bgcolor": "white",
          "plot_bgcolor": "#E5ECF6",
          "polar": {
           "angularaxis": {
            "gridcolor": "white",
            "linecolor": "white",
            "ticks": ""
           },
           "bgcolor": "#E5ECF6",
           "radialaxis": {
            "gridcolor": "white",
            "linecolor": "white",
            "ticks": ""
           }
          },
          "scene": {
           "xaxis": {
            "backgroundcolor": "#E5ECF6",
            "gridcolor": "white",
            "gridwidth": 2,
            "linecolor": "white",
            "showbackground": true,
            "ticks": "",
            "zerolinecolor": "white"
           },
           "yaxis": {
            "backgroundcolor": "#E5ECF6",
            "gridcolor": "white",
            "gridwidth": 2,
            "linecolor": "white",
            "showbackground": true,
            "ticks": "",
            "zerolinecolor": "white"
           },
           "zaxis": {
            "backgroundcolor": "#E5ECF6",
            "gridcolor": "white",
            "gridwidth": 2,
            "linecolor": "white",
            "showbackground": true,
            "ticks": "",
            "zerolinecolor": "white"
           }
          },
          "shapedefaults": {
           "line": {
            "color": "#2a3f5f"
           }
          },
          "ternary": {
           "aaxis": {
            "gridcolor": "white",
            "linecolor": "white",
            "ticks": ""
           },
           "baxis": {
            "gridcolor": "white",
            "linecolor": "white",
            "ticks": ""
           },
           "bgcolor": "#E5ECF6",
           "caxis": {
            "gridcolor": "white",
            "linecolor": "white",
            "ticks": ""
           }
          },
          "title": {
           "x": 0.05
          },
          "xaxis": {
           "automargin": true,
           "gridcolor": "white",
           "linecolor": "white",
           "ticks": "",
           "title": {
            "standoff": 15
           },
           "zerolinecolor": "white",
           "zerolinewidth": 2
          },
          "yaxis": {
           "automargin": true,
           "gridcolor": "white",
           "linecolor": "white",
           "ticks": "",
           "title": {
            "standoff": 15
           },
           "zerolinecolor": "white",
           "zerolinewidth": 2
          }
         }
        },
        "title": {
         "text": "Top 10 Routes: Delay Causes by Origin Airport"
        },
        "xaxis": {
         "anchor": "y",
         "domain": [
          0,
          1
         ],
         "title": {
          "text": "Origin Airport"
         }
        },
        "yaxis": {
         "anchor": "x",
         "domain": [
          0,
          1
         ],
         "title": {
          "text": "Count"
         }
        }
       }
      }
     },
     "metadata": {},
     "output_type": "display_data"
    },
    {
     "data": {
      "application/vnd.plotly.v1+json": {
       "config": {
        "plotlyServerURL": "https://plot.ly"
       },
       "data": [
        {
         "alignmentgroup": "True",
         "hovertemplate": "Delay Cause=Carrier_Delays<br>Airline=%{x}<br>Count=%{y}<extra></extra>",
         "legendgroup": "Carrier_Delays",
         "marker": {
          "color": "#636efa",
          "pattern": {
           "shape": ""
          }
         },
         "name": "Carrier_Delays",
         "offsetgroup": "Carrier_Delays",
         "orientation": "v",
         "showlegend": true,
         "textposition": "auto",
         "type": "bar",
         "x": [
          "Southwest Airlines Co.",
          "American Airlines Inc.",
          "Delta Air Lines Inc.",
          "United Air Lines Inc.",
          "SkyWest Airlines Inc.",
          "JetBlue Airways",
          "Spirit Air Lines",
          "Envoy Air",
          "Republic Airline",
          "PSA Airlines Inc."
         ],
         "xaxis": "x",
         "y": {
          "bdata": "hxUBAHGmAADodwAA0mMAAG1vAADMUwAACCgAAJ8iAAB1IQAA7yIAAA==",
          "dtype": "i4"
         },
         "yaxis": "y"
        },
        {
         "alignmentgroup": "True",
         "hovertemplate": "Delay Cause=Weather_Delays<br>Airline=%{x}<br>Count=%{y}<extra></extra>",
         "legendgroup": "Weather_Delays",
         "marker": {
          "color": "#EF553B",
          "pattern": {
           "shape": ""
          }
         },
         "name": "Weather_Delays",
         "offsetgroup": "Weather_Delays",
         "orientation": "v",
         "showlegend": true,
         "textposition": "auto",
         "type": "bar",
         "x": [
          "Southwest Airlines Co.",
          "American Airlines Inc.",
          "Delta Air Lines Inc.",
          "United Air Lines Inc.",
          "SkyWest Airlines Inc.",
          "JetBlue Airways",
          "Spirit Air Lines",
          "Envoy Air",
          "Republic Airline",
          "PSA Airlines Inc."
         ],
         "xaxis": "x",
         "y": {
          "bdata": "0gn0FNcLrQq6FGADvQSpCrIEOgY=",
          "dtype": "i2"
         },
         "yaxis": "y"
        },
        {
         "alignmentgroup": "True",
         "hovertemplate": "Delay Cause=NAS_Delays<br>Airline=%{x}<br>Count=%{y}<extra></extra>",
         "legendgroup": "NAS_Delays",
         "marker": {
          "color": "#00cc96",
          "pattern": {
           "shape": ""
          }
         },
         "name": "NAS_Delays",
         "offsetgroup": "NAS_Delays",
         "orientation": "v",
         "showlegend": true,
         "textposition": "auto",
         "type": "bar",
         "x": [
          "Southwest Airlines Co.",
          "American Airlines Inc.",
          "Delta Air Lines Inc.",
          "United Air Lines Inc.",
          "SkyWest Airlines Inc.",
          "JetBlue Airways",
          "Spirit Air Lines",
          "Envoy Air",
          "Republic Airline",
          "PSA Airlines Inc."
         ],
         "xaxis": "x",
         "y": {
          "bdata": "4qEAAJ2QAACMcAAARWUAAHMqAAAUOwAAoD0AAFUwAADKNQAAXyQAAA==",
          "dtype": "i4"
         },
         "yaxis": "y"
        },
        {
         "alignmentgroup": "True",
         "hovertemplate": "Delay Cause=Security_Delays<br>Airline=%{x}<br>Count=%{y}<extra></extra>",
         "legendgroup": "Security_Delays",
         "marker": {
          "color": "#ab63fa",
          "pattern": {
           "shape": ""
          }
         },
         "name": "Security_Delays",
         "offsetgroup": "Security_Delays",
         "orientation": "v",
         "showlegend": true,
         "textposition": "auto",
         "type": "bar",
         "x": [
          "Southwest Airlines Co.",
          "American Airlines Inc.",
          "Delta Air Lines Inc.",
          "United Air Lines Inc.",
          "SkyWest Airlines Inc.",
          "JetBlue Airways",
          "Spirit Air Lines",
          "Envoy Air",
          "Republic Airline",
          "PSA Airlines Inc."
         ],
         "xaxis": "x",
         "y": {
          "bdata": "AQIXAmoADgCSAM0AzwFoAEIAjgA=",
          "dtype": "i2"
         },
         "yaxis": "y"
        },
        {
         "alignmentgroup": "True",
         "hovertemplate": "Delay Cause=Late_Aircraft_Delays<br>Airline=%{x}<br>Count=%{y}<extra></extra>",
         "legendgroup": "Late_Aircraft_Delays",
         "marker": {
          "color": "#FFA15A",
          "pattern": {
           "shape": ""
          }
         },
         "name": "Late_Aircraft_Delays",
         "offsetgroup": "Late_Aircraft_Delays",
         "orientation": "v",
         "showlegend": true,
         "textposition": "auto",
         "type": "bar",
         "x": [
          "Southwest Airlines Co.",
          "American Airlines Inc.",
          "Delta Air Lines Inc.",
          "United Air Lines Inc.",
          "SkyWest Airlines Inc.",
          "JetBlue Airways",
          "Spirit Air Lines",
          "Envoy Air",
          "Republic Airline",
          "PSA Airlines Inc."
         ],
         "xaxis": "x",
         "y": {
          "bdata": "BxoBAByQAAAtUwAA3lIAAMlAAAAZOwAAHBoAALwnAAAwJAAA/SUAAA==",
          "dtype": "i4"
         },
         "yaxis": "y"
        },
        {
         "alignmentgroup": "True",
         "hovertemplate": "Delay Cause=Total<br>Airline=%{x}<br>Count=%{y}<extra></extra>",
         "legendgroup": "Total",
         "marker": {
          "color": "#19d3f3",
          "pattern": {
           "shape": ""
          }
         },
         "name": "Total",
         "offsetgroup": "Total",
         "orientation": "v",
         "showlegend": true,
         "textposition": "auto",
         "type": "bar",
         "x": [
          "Southwest Airlines Co.",
          "American Airlines Inc.",
          "Delta Air Lines Inc.",
          "United Air Lines Inc.",
          "SkyWest Airlines Inc.",
          "JetBlue Airways",
          "Spirit Air Lines",
          "Envoy Air",
          "Republic Airline",
          "PSA Airlines Inc."
         ],
         "xaxis": "x",
         "y": {
          "bdata": "Q90CADXeAQDiRwEAsCYBAPXvAAAmzgAAUIYAAMGFAABjgAAAE3QAAA==",
          "dtype": "i4"
         },
         "yaxis": "y"
        }
       ],
       "layout": {
        "barmode": "group",
        "legend": {
         "title": {
          "text": "Delay Cause"
         },
         "tracegroupgap": 0
        },
        "template": {
         "data": {
          "bar": [
           {
            "error_x": {
             "color": "#2a3f5f"
            },
            "error_y": {
             "color": "#2a3f5f"
            },
            "marker": {
             "line": {
              "color": "#E5ECF6",
              "width": 0.5
             },
             "pattern": {
              "fillmode": "overlay",
              "size": 10,
              "solidity": 0.2
             }
            },
            "type": "bar"
           }
          ],
          "barpolar": [
           {
            "marker": {
             "line": {
              "color": "#E5ECF6",
              "width": 0.5
             },
             "pattern": {
              "fillmode": "overlay",
              "size": 10,
              "solidity": 0.2
             }
            },
            "type": "barpolar"
           }
          ],
          "carpet": [
           {
            "aaxis": {
             "endlinecolor": "#2a3f5f",
             "gridcolor": "white",
             "linecolor": "white",
             "minorgridcolor": "white",
             "startlinecolor": "#2a3f5f"
            },
            "baxis": {
             "endlinecolor": "#2a3f5f",
             "gridcolor": "white",
             "linecolor": "white",
             "minorgridcolor": "white",
             "startlinecolor": "#2a3f5f"
            },
            "type": "carpet"
           }
          ],
          "choropleth": [
           {
            "colorbar": {
             "outlinewidth": 0,
             "ticks": ""
            },
            "type": "choropleth"
           }
          ],
          "contour": [
           {
            "colorbar": {
             "outlinewidth": 0,
             "ticks": ""
            },
            "colorscale": [
             [
              0,
              "#0d0887"
             ],
             [
              0.1111111111111111,
              "#46039f"
             ],
             [
              0.2222222222222222,
              "#7201a8"
             ],
             [
              0.3333333333333333,
              "#9c179e"
             ],
             [
              0.4444444444444444,
              "#bd3786"
             ],
             [
              0.5555555555555556,
              "#d8576b"
             ],
             [
              0.6666666666666666,
              "#ed7953"
             ],
             [
              0.7777777777777778,
              "#fb9f3a"
             ],
             [
              0.8888888888888888,
              "#fdca26"
             ],
             [
              1,
              "#f0f921"
             ]
            ],
            "type": "contour"
           }
          ],
          "contourcarpet": [
           {
            "colorbar": {
             "outlinewidth": 0,
             "ticks": ""
            },
            "type": "contourcarpet"
           }
          ],
          "heatmap": [
           {
            "colorbar": {
             "outlinewidth": 0,
             "ticks": ""
            },
            "colorscale": [
             [
              0,
              "#0d0887"
             ],
             [
              0.1111111111111111,
              "#46039f"
             ],
             [
              0.2222222222222222,
              "#7201a8"
             ],
             [
              0.3333333333333333,
              "#9c179e"
             ],
             [
              0.4444444444444444,
              "#bd3786"
             ],
             [
              0.5555555555555556,
              "#d8576b"
             ],
             [
              0.6666666666666666,
              "#ed7953"
             ],
             [
              0.7777777777777778,
              "#fb9f3a"
             ],
             [
              0.8888888888888888,
              "#fdca26"
             ],
             [
              1,
              "#f0f921"
             ]
            ],
            "type": "heatmap"
           }
          ],
          "histogram": [
           {
            "marker": {
             "pattern": {
              "fillmode": "overlay",
              "size": 10,
              "solidity": 0.2
             }
            },
            "type": "histogram"
           }
          ],
          "histogram2d": [
           {
            "colorbar": {
             "outlinewidth": 0,
             "ticks": ""
            },
            "colorscale": [
             [
              0,
              "#0d0887"
             ],
             [
              0.1111111111111111,
              "#46039f"
             ],
             [
              0.2222222222222222,
              "#7201a8"
             ],
             [
              0.3333333333333333,
              "#9c179e"
             ],
             [
              0.4444444444444444,
              "#bd3786"
             ],
             [
              0.5555555555555556,
              "#d8576b"
             ],
             [
              0.6666666666666666,
              "#ed7953"
             ],
             [
              0.7777777777777778,
              "#fb9f3a"
             ],
             [
              0.8888888888888888,
              "#fdca26"
             ],
             [
              1,
              "#f0f921"
             ]
            ],
            "type": "histogram2d"
           }
          ],
          "histogram2dcontour": [
           {
            "colorbar": {
             "outlinewidth": 0,
             "ticks": ""
            },
            "colorscale": [
             [
              0,
              "#0d0887"
             ],
             [
              0.1111111111111111,
              "#46039f"
             ],
             [
              0.2222222222222222,
              "#7201a8"
             ],
             [
              0.3333333333333333,
              "#9c179e"
             ],
             [
              0.4444444444444444,
              "#bd3786"
             ],
             [
              0.5555555555555556,
              "#d8576b"
             ],
             [
              0.6666666666666666,
              "#ed7953"
             ],
             [
              0.7777777777777778,
              "#fb9f3a"
             ],
             [
              0.8888888888888888,
              "#fdca26"
             ],
             [
              1,
              "#f0f921"
             ]
            ],
            "type": "histogram2dcontour"
           }
          ],
          "mesh3d": [
           {
            "colorbar": {
             "outlinewidth": 0,
             "ticks": ""
            },
            "type": "mesh3d"
           }
          ],
          "parcoords": [
           {
            "line": {
             "colorbar": {
              "outlinewidth": 0,
              "ticks": ""
             }
            },
            "type": "parcoords"
           }
          ],
          "pie": [
           {
            "automargin": true,
            "type": "pie"
           }
          ],
          "scatter": [
           {
            "fillpattern": {
             "fillmode": "overlay",
             "size": 10,
             "solidity": 0.2
            },
            "type": "scatter"
           }
          ],
          "scatter3d": [
           {
            "line": {
             "colorbar": {
              "outlinewidth": 0,
              "ticks": ""
             }
            },
            "marker": {
             "colorbar": {
              "outlinewidth": 0,
              "ticks": ""
             }
            },
            "type": "scatter3d"
           }
          ],
          "scattercarpet": [
           {
            "marker": {
             "colorbar": {
              "outlinewidth": 0,
              "ticks": ""
             }
            },
            "type": "scattercarpet"
           }
          ],
          "scattergeo": [
           {
            "marker": {
             "colorbar": {
              "outlinewidth": 0,
              "ticks": ""
             }
            },
            "type": "scattergeo"
           }
          ],
          "scattergl": [
           {
            "marker": {
             "colorbar": {
              "outlinewidth": 0,
              "ticks": ""
             }
            },
            "type": "scattergl"
           }
          ],
          "scattermap": [
           {
            "marker": {
             "colorbar": {
              "outlinewidth": 0,
              "ticks": ""
             }
            },
            "type": "scattermap"
           }
          ],
          "scattermapbox": [
           {
            "marker": {
             "colorbar": {
              "outlinewidth": 0,
              "ticks": ""
             }
            },
            "type": "scattermapbox"
           }
          ],
          "scatterpolar": [
           {
            "marker": {
             "colorbar": {
              "outlinewidth": 0,
              "ticks": ""
             }
            },
            "type": "scatterpolar"
           }
          ],
          "scatterpolargl": [
           {
            "marker": {
             "colorbar": {
              "outlinewidth": 0,
              "ticks": ""
             }
            },
            "type": "scatterpolargl"
           }
          ],
          "scatterternary": [
           {
            "marker": {
             "colorbar": {
              "outlinewidth": 0,
              "ticks": ""
             }
            },
            "type": "scatterternary"
           }
          ],
          "surface": [
           {
            "colorbar": {
             "outlinewidth": 0,
             "ticks": ""
            },
            "colorscale": [
             [
              0,
              "#0d0887"
             ],
             [
              0.1111111111111111,
              "#46039f"
             ],
             [
              0.2222222222222222,
              "#7201a8"
             ],
             [
              0.3333333333333333,
              "#9c179e"
             ],
             [
              0.4444444444444444,
              "#bd3786"
             ],
             [
              0.5555555555555556,
              "#d8576b"
             ],
             [
              0.6666666666666666,
              "#ed7953"
             ],
             [
              0.7777777777777778,
              "#fb9f3a"
             ],
             [
              0.8888888888888888,
              "#fdca26"
             ],
             [
              1,
              "#f0f921"
             ]
            ],
            "type": "surface"
           }
          ],
          "table": [
           {
            "cells": {
             "fill": {
              "color": "#EBF0F8"
             },
             "line": {
              "color": "white"
             }
            },
            "header": {
             "fill": {
              "color": "#C8D4E3"
             },
             "line": {
              "color": "white"
             }
            },
            "type": "table"
           }
          ]
         },
         "layout": {
          "annotationdefaults": {
           "arrowcolor": "#2a3f5f",
           "arrowhead": 0,
           "arrowwidth": 1
          },
          "autotypenumbers": "strict",
          "coloraxis": {
           "colorbar": {
            "outlinewidth": 0,
            "ticks": ""
           }
          },
          "colorscale": {
           "diverging": [
            [
             0,
             "#8e0152"
            ],
            [
             0.1,
             "#c51b7d"
            ],
            [
             0.2,
             "#de77ae"
            ],
            [
             0.3,
             "#f1b6da"
            ],
            [
             0.4,
             "#fde0ef"
            ],
            [
             0.5,
             "#f7f7f7"
            ],
            [
             0.6,
             "#e6f5d0"
            ],
            [
             0.7,
             "#b8e186"
            ],
            [
             0.8,
             "#7fbc41"
            ],
            [
             0.9,
             "#4d9221"
            ],
            [
             1,
             "#276419"
            ]
           ],
           "sequential": [
            [
             0,
             "#0d0887"
            ],
            [
             0.1111111111111111,
             "#46039f"
            ],
            [
             0.2222222222222222,
             "#7201a8"
            ],
            [
             0.3333333333333333,
             "#9c179e"
            ],
            [
             0.4444444444444444,
             "#bd3786"
            ],
            [
             0.5555555555555556,
             "#d8576b"
            ],
            [
             0.6666666666666666,
             "#ed7953"
            ],
            [
             0.7777777777777778,
             "#fb9f3a"
            ],
            [
             0.8888888888888888,
             "#fdca26"
            ],
            [
             1,
             "#f0f921"
            ]
           ],
           "sequentialminus": [
            [
             0,
             "#0d0887"
            ],
            [
             0.1111111111111111,
             "#46039f"
            ],
            [
             0.2222222222222222,
             "#7201a8"
            ],
            [
             0.3333333333333333,
             "#9c179e"
            ],
            [
             0.4444444444444444,
             "#bd3786"
            ],
            [
             0.5555555555555556,
             "#d8576b"
            ],
            [
             0.6666666666666666,
             "#ed7953"
            ],
            [
             0.7777777777777778,
             "#fb9f3a"
            ],
            [
             0.8888888888888888,
             "#fdca26"
            ],
            [
             1,
             "#f0f921"
            ]
           ]
          },
          "colorway": [
           "#636efa",
           "#EF553B",
           "#00cc96",
           "#ab63fa",
           "#FFA15A",
           "#19d3f3",
           "#FF6692",
           "#B6E880",
           "#FF97FF",
           "#FECB52"
          ],
          "font": {
           "color": "#2a3f5f"
          },
          "geo": {
           "bgcolor": "white",
           "lakecolor": "white",
           "landcolor": "#E5ECF6",
           "showlakes": true,
           "showland": true,
           "subunitcolor": "white"
          },
          "hoverlabel": {
           "align": "left"
          },
          "hovermode": "closest",
          "mapbox": {
           "style": "light"
          },
          "paper_bgcolor": "white",
          "plot_bgcolor": "#E5ECF6",
          "polar": {
           "angularaxis": {
            "gridcolor": "white",
            "linecolor": "white",
            "ticks": ""
           },
           "bgcolor": "#E5ECF6",
           "radialaxis": {
            "gridcolor": "white",
            "linecolor": "white",
            "ticks": ""
           }
          },
          "scene": {
           "xaxis": {
            "backgroundcolor": "#E5ECF6",
            "gridcolor": "white",
            "gridwidth": 2,
            "linecolor": "white",
            "showbackground": true,
            "ticks": "",
            "zerolinecolor": "white"
           },
           "yaxis": {
            "backgroundcolor": "#E5ECF6",
            "gridcolor": "white",
            "gridwidth": 2,
            "linecolor": "white",
            "showbackground": true,
            "ticks": "",
            "zerolinecolor": "white"
           },
           "zaxis": {
            "backgroundcolor": "#E5ECF6",
            "gridcolor": "white",
            "gridwidth": 2,
            "linecolor": "white",
            "showbackground": true,
            "ticks": "",
            "zerolinecolor": "white"
           }
          },
          "shapedefaults": {
           "line": {
            "color": "#2a3f5f"
           }
          },
          "ternary": {
           "aaxis": {
            "gridcolor": "white",
            "linecolor": "white",
            "ticks": ""
           },
           "baxis": {
            "gridcolor": "white",
            "linecolor": "white",
            "ticks": ""
           },
           "bgcolor": "#E5ECF6",
           "caxis": {
            "gridcolor": "white",
            "linecolor": "white",
            "ticks": ""
           }
          },
          "title": {
           "x": 0.05
          },
          "xaxis": {
           "automargin": true,
           "gridcolor": "white",
           "linecolor": "white",
           "ticks": "",
           "title": {
            "standoff": 15
           },
           "zerolinecolor": "white",
           "zerolinewidth": 2
          },
          "yaxis": {
           "automargin": true,
           "gridcolor": "white",
           "linecolor": "white",
           "ticks": "",
           "title": {
            "standoff": 15
           },
           "zerolinecolor": "white",
           "zerolinewidth": 2
          }
         }
        },
        "title": {
         "text": "Top 10 Routes: Delay Causes by Airline"
        },
        "xaxis": {
         "anchor": "y",
         "domain": [
          0,
          1
         ],
         "title": {
          "text": "Airline"
         }
        },
        "yaxis": {
         "anchor": "x",
         "domain": [
          0,
          1
         ],
         "title": {
          "text": "Count"
         }
        }
       }
      }
     },
     "metadata": {},
     "output_type": "display_data"
    }
   ],
   "source": [
    "# Load your data\n",
    "df = pd.read_csv(\"result5.csv\")\n",
    "\n",
    "# === DESTINATION AIRPORTS ===\n",
    "dest_group = df.groupby('DEST')[['Carrier_Delays', 'Weather_Delays', 'NAS_Delays', 'Security_Delays', 'Late_Aircraft_Delays']].sum()\n",
    "dest_group['Total'] = dest_group.sum(axis=1)\n",
    "dest_top10 = dest_group.sort_values(by='Total', ascending=False).head(10).reset_index()\n",
    "dest_long = dest_top10.melt(id_vars='DEST', var_name='Delay Cause', value_name='Count')\n",
    "\n",
    "fig_dest = px.bar(dest_long, x='DEST', y='Count', color='Delay Cause',\n",
    "                  title='Top 10 Routes: Delay Causes by Destination Airport',\n",
    "                  labels={'DEST': 'Destination Airport'},\n",
    "                  barmode='group')\n",
    "fig_dest.show()\n",
    "\n",
    "# === ORIGIN AIRPORTS ===\n",
    "origin_group = df.groupby('ORIGIN')[['Carrier_Delays', 'Weather_Delays', 'NAS_Delays', 'Security_Delays', 'Late_Aircraft_Delays']].sum()\n",
    "origin_group['Total'] = origin_group.sum(axis=1)\n",
    "origin_top10 = origin_group.sort_values(by='Total', ascending=False).head(10).reset_index()\n",
    "origin_long = origin_top10.melt(id_vars='ORIGIN', var_name='Delay Cause', value_name='Count')\n",
    "\n",
    "fig_origin = px.bar(origin_long, x='ORIGIN', y='Count', color='Delay Cause',\n",
    "                    title='Top 10 Routes: Delay Causes by Origin Airport',\n",
    "                    labels={'ORIGIN': 'Origin Airport'},\n",
    "                    barmode='group')\n",
    "fig_origin.show()\n",
    "\n",
    "# === AIRLINES ===\n",
    "airline_group = df.groupby('AIRLINE')[['Carrier_Delays', 'Weather_Delays', 'NAS_Delays', 'Security_Delays', 'Late_Aircraft_Delays']].sum()\n",
    "airline_group['Total'] = airline_group.sum(axis=1)\n",
    "airline_top10 = airline_group.sort_values(by='Total', ascending=False).head(10).reset_index()\n",
    "airline_long = airline_top10.melt(id_vars='AIRLINE', var_name='Delay Cause', value_name='Count')\n",
    "\n",
    "fig_airline = px.bar(airline_long, x='AIRLINE', y='Count', color='Delay Cause',\n",
    "                     title='Top 10 Routes: Delay Causes by Airline',\n",
    "                     labels={'AIRLINE': 'Airline'},\n",
    "                     barmode='group')\n",
    "fig_airline.show()\n"
   ]
  },
  {
   "cell_type": "markdown",
   "metadata": {},
   "source": [
    "**Delay Causes Breakdown**\n",
    "\n",
    " While “Carrier” and “Late Aircraft” were dominant causes overall, a deeper breakdown reveals location-specific challenges:\n",
    "\n",
    " * **DFW** suffers across all categories, especially carrier and airspace (NAS) delays.\n",
    " * **HNL, JFK, and LAX** show intense carrier-related delay clusters.\n",
    " * **American Airlines** is the largest contributor to delays across **carrier, NAS, and aircraft** issues, while **Alaska and Hawaiian** face fewer issues overall.\n",
    "\n",
    " These insights can guide route-specific improvement strategies and airline accountability.\n"
   ]
  },
  {
   "cell_type": "markdown",
   "metadata": {},
   "source": [
    "\n",
    "**Insight**: Most delays are **controllable**, coming from the airlines or previous flights — not external systems."
   ]
  },
  {
   "cell_type": "markdown",
   "metadata": {
    "id": "5tux_SLREKV7"
   },
   "source": [
    "# **SECTION-3: Airport & Airline Bottlenecks**"
   ]
  },
  {
   "cell_type": "markdown",
   "metadata": {},
   "source": [
    "### 1. Top 10 airports with highest departure delay %"
   ]
  },
  {
   "cell_type": "code",
   "execution_count": 22,
   "metadata": {
    "colab": {
     "base_uri": "https://localhost:8080/",
     "height": 363
    },
    "id": "KVv-1EsTEX5r",
    "outputId": "9a591b23-ef98-4519-d217-bf52595a1335"
   },
   "outputs": [
    {
     "data": {
      "text/html": [
       "<div>\n",
       "<style scoped>\n",
       "    .dataframe tbody tr th:only-of-type {\n",
       "        vertical-align: middle;\n",
       "    }\n",
       "\n",
       "    .dataframe tbody tr th {\n",
       "        vertical-align: top;\n",
       "    }\n",
       "\n",
       "    .dataframe thead th {\n",
       "        text-align: right;\n",
       "    }\n",
       "</style>\n",
       "<table border=\"1\" class=\"dataframe\">\n",
       "  <thead>\n",
       "    <tr style=\"text-align: right;\">\n",
       "      <th></th>\n",
       "      <th>ORIGIN</th>\n",
       "      <th>ORIGIN_CITY</th>\n",
       "      <th>Departure_Delay_Percentage</th>\n",
       "    </tr>\n",
       "  </thead>\n",
       "  <tbody>\n",
       "    <tr>\n",
       "      <th>0</th>\n",
       "      <td>CDB</td>\n",
       "      <td>Cold Bay, AK</td>\n",
       "      <td>71.429</td>\n",
       "    </tr>\n",
       "    <tr>\n",
       "      <th>1</th>\n",
       "      <td>OGD</td>\n",
       "      <td>Ogden, UT</td>\n",
       "      <td>55.556</td>\n",
       "    </tr>\n",
       "    <tr>\n",
       "      <th>2</th>\n",
       "      <td>HGR</td>\n",
       "      <td>Hagerstown, MD</td>\n",
       "      <td>54.945</td>\n",
       "    </tr>\n",
       "    <tr>\n",
       "      <th>3</th>\n",
       "      <td>PPG</td>\n",
       "      <td>Pago Pago, TT</td>\n",
       "      <td>54.839</td>\n",
       "    </tr>\n",
       "    <tr>\n",
       "      <th>4</th>\n",
       "      <td>MDW</td>\n",
       "      <td>Chicago, IL</td>\n",
       "      <td>51.674</td>\n",
       "    </tr>\n",
       "    <tr>\n",
       "      <th>5</th>\n",
       "      <td>ADK</td>\n",
       "      <td>Adak Island, AK</td>\n",
       "      <td>51.220</td>\n",
       "    </tr>\n",
       "    <tr>\n",
       "      <th>6</th>\n",
       "      <td>HTS</td>\n",
       "      <td>Ashland, WV</td>\n",
       "      <td>50.855</td>\n",
       "    </tr>\n",
       "    <tr>\n",
       "      <th>7</th>\n",
       "      <td>DAL</td>\n",
       "      <td>Dallas, TX</td>\n",
       "      <td>50.485</td>\n",
       "    </tr>\n",
       "    <tr>\n",
       "      <th>8</th>\n",
       "      <td>SCK</td>\n",
       "      <td>Stockton, CA</td>\n",
       "      <td>50.000</td>\n",
       "    </tr>\n",
       "    <tr>\n",
       "      <th>9</th>\n",
       "      <td>HOU</td>\n",
       "      <td>Houston, TX</td>\n",
       "      <td>48.784</td>\n",
       "    </tr>\n",
       "  </tbody>\n",
       "</table>\n",
       "</div>"
      ],
      "text/plain": [
       "  ORIGIN      ORIGIN_CITY  Departure_Delay_Percentage\n",
       "0    CDB     Cold Bay, AK                      71.429\n",
       "1    OGD        Ogden, UT                      55.556\n",
       "2    HGR   Hagerstown, MD                      54.945\n",
       "3    PPG    Pago Pago, TT                      54.839\n",
       "4    MDW      Chicago, IL                      51.674\n",
       "5    ADK  Adak Island, AK                      51.220\n",
       "6    HTS      Ashland, WV                      50.855\n",
       "7    DAL       Dallas, TX                      50.485\n",
       "8    SCK     Stockton, CA                      50.000\n",
       "9    HOU      Houston, TX                      48.784"
      ]
     },
     "execution_count": 22,
     "metadata": {},
     "output_type": "execute_result"
    }
   ],
   "source": [
    "query = '''\n",
    "SELECT ORIGIN,\n",
    "       ORIGIN_CITY,\n",
    "       ROUND((COUNT(CASE WHEN DEP_DELAY > 0 THEN 1 END) * 100.0 / COUNT(*)),3) as Departure_Delay_Percentage\n",
    "FROM flight_data\n",
    "GROUP BY ORIGIN\n",
    "ORDER BY Departure_Delay_Percentage DESC\n",
    "LIMIT 10;\n",
    "'''\n",
    "result6= pd.read_sql_query(query, conn)\n",
    "result6\n"
   ]
  },
  {
   "cell_type": "markdown",
   "metadata": {
    "id": "OUIKoykYNBRk"
   },
   "source": [
    "- This query identifies the top 10 airports with the highest departure delay percentages.\n",
    "- It focuses on airports contributing significantly to delays."
   ]
  },
  {
   "cell_type": "code",
   "execution_count": 23,
   "metadata": {
    "id": "7GfI2g3yaAgy"
   },
   "outputs": [],
   "source": [
    "result6.to_csv('result6.csv', index=False)\n"
   ]
  },
  {
   "cell_type": "code",
   "execution_count": 24,
   "metadata": {},
   "outputs": [
    {
     "data": {
      "application/vnd.plotly.v1+json": {
       "config": {
        "plotlyServerURL": "https://plot.ly"
       },
       "data": [
        {
         "hovertemplate": "Airport Code=%{x}<br>Departure Delay (%)=%{y}<extra></extra>",
         "legendgroup": "",
         "marker": {
          "color": "#636efa",
          "pattern": {
           "shape": ""
          }
         },
         "name": "",
         "orientation": "v",
         "showlegend": false,
         "textposition": "auto",
         "type": "bar",
         "x": [
          "CDB",
          "OGD",
          "HGR",
          "PPG",
          "MDW",
          "ADK",
          "HTS",
          "DAL",
          "SCK",
          "HOU"
         ],
         "xaxis": "x",
         "y": {
          "bdata": "+n5qvHTbUUC6SQwCK8dLQClcj8L1eEtACKwcWmRrS0CDwMqhRdZJQFyPwvUonElAPQrXo3BtSUCuR+F6FD5JQAAAAAAAAElAMQisHFpkSEA=",
          "dtype": "f8"
         },
         "yaxis": "y"
        }
       ],
       "layout": {
        "barmode": "relative",
        "legend": {
         "tracegroupgap": 0
        },
        "template": {
         "data": {
          "bar": [
           {
            "error_x": {
             "color": "#2a3f5f"
            },
            "error_y": {
             "color": "#2a3f5f"
            },
            "marker": {
             "line": {
              "color": "#E5ECF6",
              "width": 0.5
             },
             "pattern": {
              "fillmode": "overlay",
              "size": 10,
              "solidity": 0.2
             }
            },
            "type": "bar"
           }
          ],
          "barpolar": [
           {
            "marker": {
             "line": {
              "color": "#E5ECF6",
              "width": 0.5
             },
             "pattern": {
              "fillmode": "overlay",
              "size": 10,
              "solidity": 0.2
             }
            },
            "type": "barpolar"
           }
          ],
          "carpet": [
           {
            "aaxis": {
             "endlinecolor": "#2a3f5f",
             "gridcolor": "white",
             "linecolor": "white",
             "minorgridcolor": "white",
             "startlinecolor": "#2a3f5f"
            },
            "baxis": {
             "endlinecolor": "#2a3f5f",
             "gridcolor": "white",
             "linecolor": "white",
             "minorgridcolor": "white",
             "startlinecolor": "#2a3f5f"
            },
            "type": "carpet"
           }
          ],
          "choropleth": [
           {
            "colorbar": {
             "outlinewidth": 0,
             "ticks": ""
            },
            "type": "choropleth"
           }
          ],
          "contour": [
           {
            "colorbar": {
             "outlinewidth": 0,
             "ticks": ""
            },
            "colorscale": [
             [
              0,
              "#0d0887"
             ],
             [
              0.1111111111111111,
              "#46039f"
             ],
             [
              0.2222222222222222,
              "#7201a8"
             ],
             [
              0.3333333333333333,
              "#9c179e"
             ],
             [
              0.4444444444444444,
              "#bd3786"
             ],
             [
              0.5555555555555556,
              "#d8576b"
             ],
             [
              0.6666666666666666,
              "#ed7953"
             ],
             [
              0.7777777777777778,
              "#fb9f3a"
             ],
             [
              0.8888888888888888,
              "#fdca26"
             ],
             [
              1,
              "#f0f921"
             ]
            ],
            "type": "contour"
           }
          ],
          "contourcarpet": [
           {
            "colorbar": {
             "outlinewidth": 0,
             "ticks": ""
            },
            "type": "contourcarpet"
           }
          ],
          "heatmap": [
           {
            "colorbar": {
             "outlinewidth": 0,
             "ticks": ""
            },
            "colorscale": [
             [
              0,
              "#0d0887"
             ],
             [
              0.1111111111111111,
              "#46039f"
             ],
             [
              0.2222222222222222,
              "#7201a8"
             ],
             [
              0.3333333333333333,
              "#9c179e"
             ],
             [
              0.4444444444444444,
              "#bd3786"
             ],
             [
              0.5555555555555556,
              "#d8576b"
             ],
             [
              0.6666666666666666,
              "#ed7953"
             ],
             [
              0.7777777777777778,
              "#fb9f3a"
             ],
             [
              0.8888888888888888,
              "#fdca26"
             ],
             [
              1,
              "#f0f921"
             ]
            ],
            "type": "heatmap"
           }
          ],
          "histogram": [
           {
            "marker": {
             "pattern": {
              "fillmode": "overlay",
              "size": 10,
              "solidity": 0.2
             }
            },
            "type": "histogram"
           }
          ],
          "histogram2d": [
           {
            "colorbar": {
             "outlinewidth": 0,
             "ticks": ""
            },
            "colorscale": [
             [
              0,
              "#0d0887"
             ],
             [
              0.1111111111111111,
              "#46039f"
             ],
             [
              0.2222222222222222,
              "#7201a8"
             ],
             [
              0.3333333333333333,
              "#9c179e"
             ],
             [
              0.4444444444444444,
              "#bd3786"
             ],
             [
              0.5555555555555556,
              "#d8576b"
             ],
             [
              0.6666666666666666,
              "#ed7953"
             ],
             [
              0.7777777777777778,
              "#fb9f3a"
             ],
             [
              0.8888888888888888,
              "#fdca26"
             ],
             [
              1,
              "#f0f921"
             ]
            ],
            "type": "histogram2d"
           }
          ],
          "histogram2dcontour": [
           {
            "colorbar": {
             "outlinewidth": 0,
             "ticks": ""
            },
            "colorscale": [
             [
              0,
              "#0d0887"
             ],
             [
              0.1111111111111111,
              "#46039f"
             ],
             [
              0.2222222222222222,
              "#7201a8"
             ],
             [
              0.3333333333333333,
              "#9c179e"
             ],
             [
              0.4444444444444444,
              "#bd3786"
             ],
             [
              0.5555555555555556,
              "#d8576b"
             ],
             [
              0.6666666666666666,
              "#ed7953"
             ],
             [
              0.7777777777777778,
              "#fb9f3a"
             ],
             [
              0.8888888888888888,
              "#fdca26"
             ],
             [
              1,
              "#f0f921"
             ]
            ],
            "type": "histogram2dcontour"
           }
          ],
          "mesh3d": [
           {
            "colorbar": {
             "outlinewidth": 0,
             "ticks": ""
            },
            "type": "mesh3d"
           }
          ],
          "parcoords": [
           {
            "line": {
             "colorbar": {
              "outlinewidth": 0,
              "ticks": ""
             }
            },
            "type": "parcoords"
           }
          ],
          "pie": [
           {
            "automargin": true,
            "type": "pie"
           }
          ],
          "scatter": [
           {
            "fillpattern": {
             "fillmode": "overlay",
             "size": 10,
             "solidity": 0.2
            },
            "type": "scatter"
           }
          ],
          "scatter3d": [
           {
            "line": {
             "colorbar": {
              "outlinewidth": 0,
              "ticks": ""
             }
            },
            "marker": {
             "colorbar": {
              "outlinewidth": 0,
              "ticks": ""
             }
            },
            "type": "scatter3d"
           }
          ],
          "scattercarpet": [
           {
            "marker": {
             "colorbar": {
              "outlinewidth": 0,
              "ticks": ""
             }
            },
            "type": "scattercarpet"
           }
          ],
          "scattergeo": [
           {
            "marker": {
             "colorbar": {
              "outlinewidth": 0,
              "ticks": ""
             }
            },
            "type": "scattergeo"
           }
          ],
          "scattergl": [
           {
            "marker": {
             "colorbar": {
              "outlinewidth": 0,
              "ticks": ""
             }
            },
            "type": "scattergl"
           }
          ],
          "scattermap": [
           {
            "marker": {
             "colorbar": {
              "outlinewidth": 0,
              "ticks": ""
             }
            },
            "type": "scattermap"
           }
          ],
          "scattermapbox": [
           {
            "marker": {
             "colorbar": {
              "outlinewidth": 0,
              "ticks": ""
             }
            },
            "type": "scattermapbox"
           }
          ],
          "scatterpolar": [
           {
            "marker": {
             "colorbar": {
              "outlinewidth": 0,
              "ticks": ""
             }
            },
            "type": "scatterpolar"
           }
          ],
          "scatterpolargl": [
           {
            "marker": {
             "colorbar": {
              "outlinewidth": 0,
              "ticks": ""
             }
            },
            "type": "scatterpolargl"
           }
          ],
          "scatterternary": [
           {
            "marker": {
             "colorbar": {
              "outlinewidth": 0,
              "ticks": ""
             }
            },
            "type": "scatterternary"
           }
          ],
          "surface": [
           {
            "colorbar": {
             "outlinewidth": 0,
             "ticks": ""
            },
            "colorscale": [
             [
              0,
              "#0d0887"
             ],
             [
              0.1111111111111111,
              "#46039f"
             ],
             [
              0.2222222222222222,
              "#7201a8"
             ],
             [
              0.3333333333333333,
              "#9c179e"
             ],
             [
              0.4444444444444444,
              "#bd3786"
             ],
             [
              0.5555555555555556,
              "#d8576b"
             ],
             [
              0.6666666666666666,
              "#ed7953"
             ],
             [
              0.7777777777777778,
              "#fb9f3a"
             ],
             [
              0.8888888888888888,
              "#fdca26"
             ],
             [
              1,
              "#f0f921"
             ]
            ],
            "type": "surface"
           }
          ],
          "table": [
           {
            "cells": {
             "fill": {
              "color": "#EBF0F8"
             },
             "line": {
              "color": "white"
             }
            },
            "header": {
             "fill": {
              "color": "#C8D4E3"
             },
             "line": {
              "color": "white"
             }
            },
            "type": "table"
           }
          ]
         },
         "layout": {
          "annotationdefaults": {
           "arrowcolor": "#2a3f5f",
           "arrowhead": 0,
           "arrowwidth": 1
          },
          "autotypenumbers": "strict",
          "coloraxis": {
           "colorbar": {
            "outlinewidth": 0,
            "ticks": ""
           }
          },
          "colorscale": {
           "diverging": [
            [
             0,
             "#8e0152"
            ],
            [
             0.1,
             "#c51b7d"
            ],
            [
             0.2,
             "#de77ae"
            ],
            [
             0.3,
             "#f1b6da"
            ],
            [
             0.4,
             "#fde0ef"
            ],
            [
             0.5,
             "#f7f7f7"
            ],
            [
             0.6,
             "#e6f5d0"
            ],
            [
             0.7,
             "#b8e186"
            ],
            [
             0.8,
             "#7fbc41"
            ],
            [
             0.9,
             "#4d9221"
            ],
            [
             1,
             "#276419"
            ]
           ],
           "sequential": [
            [
             0,
             "#0d0887"
            ],
            [
             0.1111111111111111,
             "#46039f"
            ],
            [
             0.2222222222222222,
             "#7201a8"
            ],
            [
             0.3333333333333333,
             "#9c179e"
            ],
            [
             0.4444444444444444,
             "#bd3786"
            ],
            [
             0.5555555555555556,
             "#d8576b"
            ],
            [
             0.6666666666666666,
             "#ed7953"
            ],
            [
             0.7777777777777778,
             "#fb9f3a"
            ],
            [
             0.8888888888888888,
             "#fdca26"
            ],
            [
             1,
             "#f0f921"
            ]
           ],
           "sequentialminus": [
            [
             0,
             "#0d0887"
            ],
            [
             0.1111111111111111,
             "#46039f"
            ],
            [
             0.2222222222222222,
             "#7201a8"
            ],
            [
             0.3333333333333333,
             "#9c179e"
            ],
            [
             0.4444444444444444,
             "#bd3786"
            ],
            [
             0.5555555555555556,
             "#d8576b"
            ],
            [
             0.6666666666666666,
             "#ed7953"
            ],
            [
             0.7777777777777778,
             "#fb9f3a"
            ],
            [
             0.8888888888888888,
             "#fdca26"
            ],
            [
             1,
             "#f0f921"
            ]
           ]
          },
          "colorway": [
           "#636efa",
           "#EF553B",
           "#00cc96",
           "#ab63fa",
           "#FFA15A",
           "#19d3f3",
           "#FF6692",
           "#B6E880",
           "#FF97FF",
           "#FECB52"
          ],
          "font": {
           "color": "#2a3f5f"
          },
          "geo": {
           "bgcolor": "white",
           "lakecolor": "white",
           "landcolor": "#E5ECF6",
           "showlakes": true,
           "showland": true,
           "subunitcolor": "white"
          },
          "hoverlabel": {
           "align": "left"
          },
          "hovermode": "closest",
          "mapbox": {
           "style": "light"
          },
          "paper_bgcolor": "white",
          "plot_bgcolor": "#E5ECF6",
          "polar": {
           "angularaxis": {
            "gridcolor": "white",
            "linecolor": "white",
            "ticks": ""
           },
           "bgcolor": "#E5ECF6",
           "radialaxis": {
            "gridcolor": "white",
            "linecolor": "white",
            "ticks": ""
           }
          },
          "scene": {
           "xaxis": {
            "backgroundcolor": "#E5ECF6",
            "gridcolor": "white",
            "gridwidth": 2,
            "linecolor": "white",
            "showbackground": true,
            "ticks": "",
            "zerolinecolor": "white"
           },
           "yaxis": {
            "backgroundcolor": "#E5ECF6",
            "gridcolor": "white",
            "gridwidth": 2,
            "linecolor": "white",
            "showbackground": true,
            "ticks": "",
            "zerolinecolor": "white"
           },
           "zaxis": {
            "backgroundcolor": "#E5ECF6",
            "gridcolor": "white",
            "gridwidth": 2,
            "linecolor": "white",
            "showbackground": true,
            "ticks": "",
            "zerolinecolor": "white"
           }
          },
          "shapedefaults": {
           "line": {
            "color": "#2a3f5f"
           }
          },
          "ternary": {
           "aaxis": {
            "gridcolor": "white",
            "linecolor": "white",
            "ticks": ""
           },
           "baxis": {
            "gridcolor": "white",
            "linecolor": "white",
            "ticks": ""
           },
           "bgcolor": "#E5ECF6",
           "caxis": {
            "gridcolor": "white",
            "linecolor": "white",
            "ticks": ""
           }
          },
          "title": {
           "x": 0.05
          },
          "xaxis": {
           "automargin": true,
           "gridcolor": "white",
           "linecolor": "white",
           "ticks": "",
           "title": {
            "standoff": 15
           },
           "zerolinecolor": "white",
           "zerolinewidth": 2
          },
          "yaxis": {
           "automargin": true,
           "gridcolor": "white",
           "linecolor": "white",
           "ticks": "",
           "title": {
            "standoff": 15
           },
           "zerolinecolor": "white",
           "zerolinewidth": 2
          }
         }
        },
        "title": {
         "text": "Top 10 Airports with Highest Departure Delay Percentage"
        },
        "xaxis": {
         "anchor": "y",
         "domain": [
          0,
          1
         ],
         "title": {
          "text": "Airport Code"
         }
        },
        "yaxis": {
         "anchor": "x",
         "domain": [
          0,
          1
         ],
         "title": {
          "text": "Departure Delay (%)"
         }
        }
       }
      }
     },
     "metadata": {},
     "output_type": "display_data"
    }
   ],
   "source": [
    "# Visualize the top 10 airports with the highest departure delay percentage\n",
    "fig_airport_delay = px.bar(\n",
    "    result6,\n",
    "    x='ORIGIN',\n",
    "    y='Departure_Delay_Percentage',\n",
    "    title='Top 10 Airports with Highest Departure Delay Percentage',\n",
    "    labels={'Departure_Delay_Percentage': 'Departure Delay (%)', 'ORIGIN': 'Airport Code'}\n",
    ")\n",
    "fig_airport_delay.show()\n"
   ]
  },
  {
   "cell_type": "markdown",
   "metadata": {},
   "source": [
    "* **Cold Bay, AK (CDB)** tops the list with **71.4% delayed departures**\n",
    "* Major metros like **Chicago (MDW)** and **Houston (HOU)** also appear with **\\~50%+** delay rates."
   ]
  },
  {
   "cell_type": "markdown",
   "metadata": {},
   "source": [
    "### 2. Airline Delay Ranking"
   ]
  },
  {
   "cell_type": "code",
   "execution_count": 25,
   "metadata": {},
   "outputs": [
    {
     "data": {
      "text/html": [
       "<div>\n",
       "<style scoped>\n",
       "    .dataframe tbody tr th:only-of-type {\n",
       "        vertical-align: middle;\n",
       "    }\n",
       "\n",
       "    .dataframe tbody tr th {\n",
       "        vertical-align: top;\n",
       "    }\n",
       "\n",
       "    .dataframe thead th {\n",
       "        text-align: right;\n",
       "    }\n",
       "</style>\n",
       "<table border=\"1\" class=\"dataframe\">\n",
       "  <thead>\n",
       "    <tr style=\"text-align: right;\">\n",
       "      <th></th>\n",
       "      <th>UNIQUE_CARRIER</th>\n",
       "      <th>AIRLINE</th>\n",
       "      <th>Average_Departure_Delay</th>\n",
       "      <th>Average_Arrival_Delay</th>\n",
       "    </tr>\n",
       "  </thead>\n",
       "  <tbody>\n",
       "    <tr>\n",
       "      <th>0</th>\n",
       "      <td>20409</td>\n",
       "      <td>JetBlue Airways</td>\n",
       "      <td>18.322555</td>\n",
       "      <td>12.276125</td>\n",
       "    </tr>\n",
       "    <tr>\n",
       "      <th>1</th>\n",
       "      <td>20436</td>\n",
       "      <td>Frontier Airlines Inc.</td>\n",
       "      <td>16.033574</td>\n",
       "      <td>11.100429</td>\n",
       "    </tr>\n",
       "    <tr>\n",
       "      <th>2</th>\n",
       "      <td>20368</td>\n",
       "      <td>Allegiant Air</td>\n",
       "      <td>13.907797</td>\n",
       "      <td>13.284601</td>\n",
       "    </tr>\n",
       "    <tr>\n",
       "      <th>3</th>\n",
       "      <td>20416</td>\n",
       "      <td>Spirit Air Lines</td>\n",
       "      <td>12.981880</td>\n",
       "      <td>8.029485</td>\n",
       "    </tr>\n",
       "    <tr>\n",
       "      <th>4</th>\n",
       "      <td>20366</td>\n",
       "      <td>ExpressJet Airlines LLC d/b/a aha!</td>\n",
       "      <td>12.774462</td>\n",
       "      <td>10.031976</td>\n",
       "    </tr>\n",
       "    <tr>\n",
       "      <th>5</th>\n",
       "      <td>19805</td>\n",
       "      <td>American Airlines Inc.</td>\n",
       "      <td>12.609895</td>\n",
       "      <td>6.661229</td>\n",
       "    </tr>\n",
       "    <tr>\n",
       "      <th>6</th>\n",
       "      <td>20378</td>\n",
       "      <td>Mesa Airlines Inc.</td>\n",
       "      <td>12.277383</td>\n",
       "      <td>7.309810</td>\n",
       "    </tr>\n",
       "    <tr>\n",
       "      <th>7</th>\n",
       "      <td>19977</td>\n",
       "      <td>United Air Lines Inc.</td>\n",
       "      <td>11.217032</td>\n",
       "      <td>5.035985</td>\n",
       "    </tr>\n",
       "    <tr>\n",
       "      <th>8</th>\n",
       "      <td>19393</td>\n",
       "      <td>Southwest Airlines Co.</td>\n",
       "      <td>10.816957</td>\n",
       "      <td>3.269796</td>\n",
       "    </tr>\n",
       "    <tr>\n",
       "      <th>9</th>\n",
       "      <td>20304</td>\n",
       "      <td>SkyWest Airlines Inc.</td>\n",
       "      <td>9.458294</td>\n",
       "      <td>4.023311</td>\n",
       "    </tr>\n",
       "    <tr>\n",
       "      <th>10</th>\n",
       "      <td>19790</td>\n",
       "      <td>Delta Air Lines Inc.</td>\n",
       "      <td>8.106748</td>\n",
       "      <td>1.085079</td>\n",
       "    </tr>\n",
       "    <tr>\n",
       "      <th>11</th>\n",
       "      <td>20397</td>\n",
       "      <td>PSA Airlines Inc.</td>\n",
       "      <td>7.972124</td>\n",
       "      <td>3.928655</td>\n",
       "    </tr>\n",
       "    <tr>\n",
       "      <th>12</th>\n",
       "      <td>20398</td>\n",
       "      <td>Envoy Air</td>\n",
       "      <td>6.728256</td>\n",
       "      <td>3.278914</td>\n",
       "    </tr>\n",
       "    <tr>\n",
       "      <th>13</th>\n",
       "      <td>20363</td>\n",
       "      <td>Endeavor Air Inc.</td>\n",
       "      <td>5.951135</td>\n",
       "      <td>-1.258539</td>\n",
       "    </tr>\n",
       "    <tr>\n",
       "      <th>14</th>\n",
       "      <td>20452</td>\n",
       "      <td>Republic Airline</td>\n",
       "      <td>5.804359</td>\n",
       "      <td>0.590176</td>\n",
       "    </tr>\n",
       "    <tr>\n",
       "      <th>15</th>\n",
       "      <td>19690</td>\n",
       "      <td>Hawaiian Airlines Inc.</td>\n",
       "      <td>5.089537</td>\n",
       "      <td>3.894757</td>\n",
       "    </tr>\n",
       "    <tr>\n",
       "      <th>16</th>\n",
       "      <td>19687</td>\n",
       "      <td>Horizon Air</td>\n",
       "      <td>4.832775</td>\n",
       "      <td>2.376242</td>\n",
       "    </tr>\n",
       "    <tr>\n",
       "      <th>17</th>\n",
       "      <td>19930</td>\n",
       "      <td>Alaska Airlines Inc.</td>\n",
       "      <td>4.640018</td>\n",
       "      <td>1.097900</td>\n",
       "    </tr>\n",
       "  </tbody>\n",
       "</table>\n",
       "</div>"
      ],
      "text/plain": [
       "    UNIQUE_CARRIER                             AIRLINE  \\\n",
       "0            20409                     JetBlue Airways   \n",
       "1            20436              Frontier Airlines Inc.   \n",
       "2            20368                       Allegiant Air   \n",
       "3            20416                    Spirit Air Lines   \n",
       "4            20366  ExpressJet Airlines LLC d/b/a aha!   \n",
       "5            19805              American Airlines Inc.   \n",
       "6            20378                  Mesa Airlines Inc.   \n",
       "7            19977               United Air Lines Inc.   \n",
       "8            19393              Southwest Airlines Co.   \n",
       "9            20304               SkyWest Airlines Inc.   \n",
       "10           19790                Delta Air Lines Inc.   \n",
       "11           20397                   PSA Airlines Inc.   \n",
       "12           20398                           Envoy Air   \n",
       "13           20363                   Endeavor Air Inc.   \n",
       "14           20452                    Republic Airline   \n",
       "15           19690              Hawaiian Airlines Inc.   \n",
       "16           19687                         Horizon Air   \n",
       "17           19930                Alaska Airlines Inc.   \n",
       "\n",
       "    Average_Departure_Delay  Average_Arrival_Delay  \n",
       "0                 18.322555              12.276125  \n",
       "1                 16.033574              11.100429  \n",
       "2                 13.907797              13.284601  \n",
       "3                 12.981880               8.029485  \n",
       "4                 12.774462              10.031976  \n",
       "5                 12.609895               6.661229  \n",
       "6                 12.277383               7.309810  \n",
       "7                 11.217032               5.035985  \n",
       "8                 10.816957               3.269796  \n",
       "9                  9.458294               4.023311  \n",
       "10                 8.106748               1.085079  \n",
       "11                 7.972124               3.928655  \n",
       "12                 6.728256               3.278914  \n",
       "13                 5.951135              -1.258539  \n",
       "14                 5.804359               0.590176  \n",
       "15                 5.089537               3.894757  \n",
       "16                 4.832775               2.376242  \n",
       "17                 4.640018               1.097900  "
      ]
     },
     "execution_count": 25,
     "metadata": {},
     "output_type": "execute_result"
    }
   ],
   "source": [
    "query = '''\n",
    "SELECT DOT_CODE AS UNIQUE_CARRIER,\n",
    "        AIRLINE,\n",
    "        AVG(DEP_DELAY) as Average_Departure_Delay,\n",
    "        AVG(ARR_DELAY) as Average_Arrival_Delay\n",
    "FROM flight_data\n",
    "GROUP BY UNIQUE_CARRIER\n",
    "ORDER BY Average_Departure_Delay DESC;\n",
    "'''\n",
    "result7= pd.read_sql_query(query, conn)\n",
    "result7\n"
   ]
  },
  {
   "cell_type": "markdown",
   "metadata": {},
   "source": [
    "- This query ranks airlines based on their average departure and arrival delays, providing a performance comparison among carriers.\n"
   ]
  },
  {
   "cell_type": "code",
   "execution_count": 26,
   "metadata": {},
   "outputs": [],
   "source": [
    "result7.to_csv('result7.csv', index=False)\n",
    "\n"
   ]
  },
  {
   "cell_type": "code",
   "execution_count": null,
   "metadata": {},
   "outputs": [
    {
     "data": {
      "application/vnd.plotly.v1+json": {
       "config": {
        "plotlyServerURL": "https://plot.ly"
       },
       "data": [
        {
         "hovertemplate": "Average Departure Delay (minutes)=%{marker.color}<br>Airline=%{y}<extra></extra>",
         "legendgroup": "",
         "marker": {
          "color": {
           "bdata": "nEWp+JJSMkDCyX1QmAgwQP6xC73K0CtA8yLV+7j2KUC0AcZGhowpQKIn+zBEOClAid6OFAWOKECG/PTTHm8mQG+gXzpIoiVA0xGLjKXqIkAENsGepzYgQOk4WI904x9AHzPuAbzpGkBGFfBP9s0XQHEAJuCpNxdAecJMg69bFEDURmvdwlQTQLTtptZgjxJA",
           "dtype": "f8"
          },
          "coloraxis": "coloraxis",
          "pattern": {
           "shape": ""
          }
         },
         "name": "",
         "orientation": "h",
         "showlegend": false,
         "textposition": "auto",
         "type": "bar",
         "x": {
          "bdata": "nEWp+JJSMkDCyX1QmAgwQP6xC73K0CtA8yLV+7j2KUC0AcZGhowpQKIn+zBEOClAid6OFAWOKECG/PTTHm8mQG+gXzpIoiVA0xGLjKXqIkAENsGepzYgQOk4WI904x9AHzPuAbzpGkBGFfBP9s0XQHEAJuCpNxdAecJMg69bFEDURmvdwlQTQLTtptZgjxJA",
          "dtype": "f8"
         },
         "xaxis": "x",
         "y": [
          "JetBlue Airways",
          "Frontier Airlines Inc.",
          "Allegiant Air",
          "Spirit Air Lines",
          "ExpressJet Airlines LLC d/b/a aha!",
          "American Airlines Inc.",
          "Mesa Airlines Inc.",
          "United Air Lines Inc.",
          "Southwest Airlines Co.",
          "SkyWest Airlines Inc.",
          "Delta Air Lines Inc.",
          "PSA Airlines Inc.",
          "Envoy Air",
          "Endeavor Air Inc.",
          "Republic Airline",
          "Hawaiian Airlines Inc.",
          "Horizon Air",
          "Alaska Airlines Inc."
         ],
         "yaxis": "y"
        }
       ],
       "layout": {
        "barmode": "relative",
        "coloraxis": {
         "colorbar": {
          "title": {
           "text": "Average Departure Delay (minutes)"
          }
         },
         "colorscale": [
          [
           0,
           "#0d0887"
          ],
          [
           0.1111111111111111,
           "#46039f"
          ],
          [
           0.2222222222222222,
           "#7201a8"
          ],
          [
           0.3333333333333333,
           "#9c179e"
          ],
          [
           0.4444444444444444,
           "#bd3786"
          ],
          [
           0.5555555555555556,
           "#d8576b"
          ],
          [
           0.6666666666666666,
           "#ed7953"
          ],
          [
           0.7777777777777778,
           "#fb9f3a"
          ],
          [
           0.8888888888888888,
           "#fdca26"
          ],
          [
           1,
           "#f0f921"
          ]
         ]
        },
        "legend": {
         "tracegroupgap": 0
        },
        "template": {
         "data": {
          "bar": [
           {
            "error_x": {
             "color": "#2a3f5f"
            },
            "error_y": {
             "color": "#2a3f5f"
            },
            "marker": {
             "line": {
              "color": "#E5ECF6",
              "width": 0.5
             },
             "pattern": {
              "fillmode": "overlay",
              "size": 10,
              "solidity": 0.2
             }
            },
            "type": "bar"
           }
          ],
          "barpolar": [
           {
            "marker": {
             "line": {
              "color": "#E5ECF6",
              "width": 0.5
             },
             "pattern": {
              "fillmode": "overlay",
              "size": 10,
              "solidity": 0.2
             }
            },
            "type": "barpolar"
           }
          ],
          "carpet": [
           {
            "aaxis": {
             "endlinecolor": "#2a3f5f",
             "gridcolor": "white",
             "linecolor": "white",
             "minorgridcolor": "white",
             "startlinecolor": "#2a3f5f"
            },
            "baxis": {
             "endlinecolor": "#2a3f5f",
             "gridcolor": "white",
             "linecolor": "white",
             "minorgridcolor": "white",
             "startlinecolor": "#2a3f5f"
            },
            "type": "carpet"
           }
          ],
          "choropleth": [
           {
            "colorbar": {
             "outlinewidth": 0,
             "ticks": ""
            },
            "type": "choropleth"
           }
          ],
          "contour": [
           {
            "colorbar": {
             "outlinewidth": 0,
             "ticks": ""
            },
            "colorscale": [
             [
              0,
              "#0d0887"
             ],
             [
              0.1111111111111111,
              "#46039f"
             ],
             [
              0.2222222222222222,
              "#7201a8"
             ],
             [
              0.3333333333333333,
              "#9c179e"
             ],
             [
              0.4444444444444444,
              "#bd3786"
             ],
             [
              0.5555555555555556,
              "#d8576b"
             ],
             [
              0.6666666666666666,
              "#ed7953"
             ],
             [
              0.7777777777777778,
              "#fb9f3a"
             ],
             [
              0.8888888888888888,
              "#fdca26"
             ],
             [
              1,
              "#f0f921"
             ]
            ],
            "type": "contour"
           }
          ],
          "contourcarpet": [
           {
            "colorbar": {
             "outlinewidth": 0,
             "ticks": ""
            },
            "type": "contourcarpet"
           }
          ],
          "heatmap": [
           {
            "colorbar": {
             "outlinewidth": 0,
             "ticks": ""
            },
            "colorscale": [
             [
              0,
              "#0d0887"
             ],
             [
              0.1111111111111111,
              "#46039f"
             ],
             [
              0.2222222222222222,
              "#7201a8"
             ],
             [
              0.3333333333333333,
              "#9c179e"
             ],
             [
              0.4444444444444444,
              "#bd3786"
             ],
             [
              0.5555555555555556,
              "#d8576b"
             ],
             [
              0.6666666666666666,
              "#ed7953"
             ],
             [
              0.7777777777777778,
              "#fb9f3a"
             ],
             [
              0.8888888888888888,
              "#fdca26"
             ],
             [
              1,
              "#f0f921"
             ]
            ],
            "type": "heatmap"
           }
          ],
          "histogram": [
           {
            "marker": {
             "pattern": {
              "fillmode": "overlay",
              "size": 10,
              "solidity": 0.2
             }
            },
            "type": "histogram"
           }
          ],
          "histogram2d": [
           {
            "colorbar": {
             "outlinewidth": 0,
             "ticks": ""
            },
            "colorscale": [
             [
              0,
              "#0d0887"
             ],
             [
              0.1111111111111111,
              "#46039f"
             ],
             [
              0.2222222222222222,
              "#7201a8"
             ],
             [
              0.3333333333333333,
              "#9c179e"
             ],
             [
              0.4444444444444444,
              "#bd3786"
             ],
             [
              0.5555555555555556,
              "#d8576b"
             ],
             [
              0.6666666666666666,
              "#ed7953"
             ],
             [
              0.7777777777777778,
              "#fb9f3a"
             ],
             [
              0.8888888888888888,
              "#fdca26"
             ],
             [
              1,
              "#f0f921"
             ]
            ],
            "type": "histogram2d"
           }
          ],
          "histogram2dcontour": [
           {
            "colorbar": {
             "outlinewidth": 0,
             "ticks": ""
            },
            "colorscale": [
             [
              0,
              "#0d0887"
             ],
             [
              0.1111111111111111,
              "#46039f"
             ],
             [
              0.2222222222222222,
              "#7201a8"
             ],
             [
              0.3333333333333333,
              "#9c179e"
             ],
             [
              0.4444444444444444,
              "#bd3786"
             ],
             [
              0.5555555555555556,
              "#d8576b"
             ],
             [
              0.6666666666666666,
              "#ed7953"
             ],
             [
              0.7777777777777778,
              "#fb9f3a"
             ],
             [
              0.8888888888888888,
              "#fdca26"
             ],
             [
              1,
              "#f0f921"
             ]
            ],
            "type": "histogram2dcontour"
           }
          ],
          "mesh3d": [
           {
            "colorbar": {
             "outlinewidth": 0,
             "ticks": ""
            },
            "type": "mesh3d"
           }
          ],
          "parcoords": [
           {
            "line": {
             "colorbar": {
              "outlinewidth": 0,
              "ticks": ""
             }
            },
            "type": "parcoords"
           }
          ],
          "pie": [
           {
            "automargin": true,
            "type": "pie"
           }
          ],
          "scatter": [
           {
            "fillpattern": {
             "fillmode": "overlay",
             "size": 10,
             "solidity": 0.2
            },
            "type": "scatter"
           }
          ],
          "scatter3d": [
           {
            "line": {
             "colorbar": {
              "outlinewidth": 0,
              "ticks": ""
             }
            },
            "marker": {
             "colorbar": {
              "outlinewidth": 0,
              "ticks": ""
             }
            },
            "type": "scatter3d"
           }
          ],
          "scattercarpet": [
           {
            "marker": {
             "colorbar": {
              "outlinewidth": 0,
              "ticks": ""
             }
            },
            "type": "scattercarpet"
           }
          ],
          "scattergeo": [
           {
            "marker": {
             "colorbar": {
              "outlinewidth": 0,
              "ticks": ""
             }
            },
            "type": "scattergeo"
           }
          ],
          "scattergl": [
           {
            "marker": {
             "colorbar": {
              "outlinewidth": 0,
              "ticks": ""
             }
            },
            "type": "scattergl"
           }
          ],
          "scattermap": [
           {
            "marker": {
             "colorbar": {
              "outlinewidth": 0,
              "ticks": ""
             }
            },
            "type": "scattermap"
           }
          ],
          "scattermapbox": [
           {
            "marker": {
             "colorbar": {
              "outlinewidth": 0,
              "ticks": ""
             }
            },
            "type": "scattermapbox"
           }
          ],
          "scatterpolar": [
           {
            "marker": {
             "colorbar": {
              "outlinewidth": 0,
              "ticks": ""
             }
            },
            "type": "scatterpolar"
           }
          ],
          "scatterpolargl": [
           {
            "marker": {
             "colorbar": {
              "outlinewidth": 0,
              "ticks": ""
             }
            },
            "type": "scatterpolargl"
           }
          ],
          "scatterternary": [
           {
            "marker": {
             "colorbar": {
              "outlinewidth": 0,
              "ticks": ""
             }
            },
            "type": "scatterternary"
           }
          ],
          "surface": [
           {
            "colorbar": {
             "outlinewidth": 0,
             "ticks": ""
            },
            "colorscale": [
             [
              0,
              "#0d0887"
             ],
             [
              0.1111111111111111,
              "#46039f"
             ],
             [
              0.2222222222222222,
              "#7201a8"
             ],
             [
              0.3333333333333333,
              "#9c179e"
             ],
             [
              0.4444444444444444,
              "#bd3786"
             ],
             [
              0.5555555555555556,
              "#d8576b"
             ],
             [
              0.6666666666666666,
              "#ed7953"
             ],
             [
              0.7777777777777778,
              "#fb9f3a"
             ],
             [
              0.8888888888888888,
              "#fdca26"
             ],
             [
              1,
              "#f0f921"
             ]
            ],
            "type": "surface"
           }
          ],
          "table": [
           {
            "cells": {
             "fill": {
              "color": "#EBF0F8"
             },
             "line": {
              "color": "white"
             }
            },
            "header": {
             "fill": {
              "color": "#C8D4E3"
             },
             "line": {
              "color": "white"
             }
            },
            "type": "table"
           }
          ]
         },
         "layout": {
          "annotationdefaults": {
           "arrowcolor": "#2a3f5f",
           "arrowhead": 0,
           "arrowwidth": 1
          },
          "autotypenumbers": "strict",
          "coloraxis": {
           "colorbar": {
            "outlinewidth": 0,
            "ticks": ""
           }
          },
          "colorscale": {
           "diverging": [
            [
             0,
             "#8e0152"
            ],
            [
             0.1,
             "#c51b7d"
            ],
            [
             0.2,
             "#de77ae"
            ],
            [
             0.3,
             "#f1b6da"
            ],
            [
             0.4,
             "#fde0ef"
            ],
            [
             0.5,
             "#f7f7f7"
            ],
            [
             0.6,
             "#e6f5d0"
            ],
            [
             0.7,
             "#b8e186"
            ],
            [
             0.8,
             "#7fbc41"
            ],
            [
             0.9,
             "#4d9221"
            ],
            [
             1,
             "#276419"
            ]
           ],
           "sequential": [
            [
             0,
             "#0d0887"
            ],
            [
             0.1111111111111111,
             "#46039f"
            ],
            [
             0.2222222222222222,
             "#7201a8"
            ],
            [
             0.3333333333333333,
             "#9c179e"
            ],
            [
             0.4444444444444444,
             "#bd3786"
            ],
            [
             0.5555555555555556,
             "#d8576b"
            ],
            [
             0.6666666666666666,
             "#ed7953"
            ],
            [
             0.7777777777777778,
             "#fb9f3a"
            ],
            [
             0.8888888888888888,
             "#fdca26"
            ],
            [
             1,
             "#f0f921"
            ]
           ],
           "sequentialminus": [
            [
             0,
             "#0d0887"
            ],
            [
             0.1111111111111111,
             "#46039f"
            ],
            [
             0.2222222222222222,
             "#7201a8"
            ],
            [
             0.3333333333333333,
             "#9c179e"
            ],
            [
             0.4444444444444444,
             "#bd3786"
            ],
            [
             0.5555555555555556,
             "#d8576b"
            ],
            [
             0.6666666666666666,
             "#ed7953"
            ],
            [
             0.7777777777777778,
             "#fb9f3a"
            ],
            [
             0.8888888888888888,
             "#fdca26"
            ],
            [
             1,
             "#f0f921"
            ]
           ]
          },
          "colorway": [
           "#636efa",
           "#EF553B",
           "#00cc96",
           "#ab63fa",
           "#FFA15A",
           "#19d3f3",
           "#FF6692",
           "#B6E880",
           "#FF97FF",
           "#FECB52"
          ],
          "font": {
           "color": "#2a3f5f"
          },
          "geo": {
           "bgcolor": "white",
           "lakecolor": "white",
           "landcolor": "#E5ECF6",
           "showlakes": true,
           "showland": true,
           "subunitcolor": "white"
          },
          "hoverlabel": {
           "align": "left"
          },
          "hovermode": "closest",
          "mapbox": {
           "style": "light"
          },
          "paper_bgcolor": "white",
          "plot_bgcolor": "#E5ECF6",
          "polar": {
           "angularaxis": {
            "gridcolor": "white",
            "linecolor": "white",
            "ticks": ""
           },
           "bgcolor": "#E5ECF6",
           "radialaxis": {
            "gridcolor": "white",
            "linecolor": "white",
            "ticks": ""
           }
          },
          "scene": {
           "xaxis": {
            "backgroundcolor": "#E5ECF6",
            "gridcolor": "white",
            "gridwidth": 2,
            "linecolor": "white",
            "showbackground": true,
            "ticks": "",
            "zerolinecolor": "white"
           },
           "yaxis": {
            "backgroundcolor": "#E5ECF6",
            "gridcolor": "white",
            "gridwidth": 2,
            "linecolor": "white",
            "showbackground": true,
            "ticks": "",
            "zerolinecolor": "white"
           },
           "zaxis": {
            "backgroundcolor": "#E5ECF6",
            "gridcolor": "white",
            "gridwidth": 2,
            "linecolor": "white",
            "showbackground": true,
            "ticks": "",
            "zerolinecolor": "white"
           }
          },
          "shapedefaults": {
           "line": {
            "color": "#2a3f5f"
           }
          },
          "ternary": {
           "aaxis": {
            "gridcolor": "white",
            "linecolor": "white",
            "ticks": ""
           },
           "baxis": {
            "gridcolor": "white",
            "linecolor": "white",
            "ticks": ""
           },
           "bgcolor": "#E5ECF6",
           "caxis": {
            "gridcolor": "white",
            "linecolor": "white",
            "ticks": ""
           }
          },
          "title": {
           "x": 0.05
          },
          "xaxis": {
           "automargin": true,
           "gridcolor": "white",
           "linecolor": "white",
           "ticks": "",
           "title": {
            "standoff": 15
           },
           "zerolinecolor": "white",
           "zerolinewidth": 2
          },
          "yaxis": {
           "automargin": true,
           "gridcolor": "white",
           "linecolor": "white",
           "ticks": "",
           "title": {
            "standoff": 15
           },
           "zerolinecolor": "white",
           "zerolinewidth": 2
          }
         }
        },
        "title": {
         "text": "Average Departure Delay by Airline"
        },
        "xaxis": {
         "anchor": "y",
         "domain": [
          0,
          1
         ],
         "title": {
          "text": "Average Departure Delay (minutes)"
         }
        },
        "yaxis": {
         "anchor": "x",
         "categoryorder": "total ascending",
         "domain": [
          0,
          1
         ],
         "title": {
          "text": "Airline"
         }
        }
       }
      }
     },
     "metadata": {},
     "output_type": "display_data"
    }
   ],
   "source": [
    "# Visualize average departure delay by airline\n",
    "fig = px.bar(\n",
    "    result7,\n",
    "    y='AIRLINE',\n",
    "    x='Average_Departure_Delay',\n",
    "    orientation='h',\n",
    "    title='Average Departure Delay by Airline',\n",
    "    labels={'Average_Departure_Delay': 'Average Departure Delay (minutes)', 'AIRLINE': 'Airline'},\n",
    "    color='Average_Departure_Delay'\n",
    ")\n",
    "fig.update_layout(yaxis={'categoryorder':'total ascending'})\n",
    "fig.show()\n"
   ]
  },
  {
   "cell_type": "markdown",
   "metadata": {},
   "source": [
    "* **JetBlue** has the highest average departure delay: **\\~18.3 mins**\n",
    "* **Frontier, Allegiant, Spirit** also have high delay times.\n",
    "* Top performers:\n",
    "\n",
    "  * **Alaska Airlines**: \\~4.6 mins\n",
    "  * **Delta** and **Hawaiian**: < 8 mins"
   ]
  },
  {
   "cell_type": "markdown",
   "metadata": {},
   "source": [
    "### 3. Cancellations by Airline"
   ]
  },
  {
   "cell_type": "code",
   "execution_count": 28,
   "metadata": {},
   "outputs": [
    {
     "data": {
      "text/html": [
       "<div>\n",
       "<style scoped>\n",
       "    .dataframe tbody tr th:only-of-type {\n",
       "        vertical-align: middle;\n",
       "    }\n",
       "\n",
       "    .dataframe tbody tr th {\n",
       "        vertical-align: top;\n",
       "    }\n",
       "\n",
       "    .dataframe thead th {\n",
       "        text-align: right;\n",
       "    }\n",
       "</style>\n",
       "<table border=\"1\" class=\"dataframe\">\n",
       "  <thead>\n",
       "    <tr style=\"text-align: right;\">\n",
       "      <th></th>\n",
       "      <th>UNIQUE_CARRIER</th>\n",
       "      <th>AIRLINE</th>\n",
       "      <th>Cancellation_Percentage</th>\n",
       "    </tr>\n",
       "  </thead>\n",
       "  <tbody>\n",
       "    <tr>\n",
       "      <th>0</th>\n",
       "      <td>20366</td>\n",
       "      <td>ExpressJet Airlines LLC d/b/a aha!</td>\n",
       "      <td>5.565</td>\n",
       "    </tr>\n",
       "    <tr>\n",
       "      <th>1</th>\n",
       "      <td>20368</td>\n",
       "      <td>Allegiant Air</td>\n",
       "      <td>4.519</td>\n",
       "    </tr>\n",
       "    <tr>\n",
       "      <th>2</th>\n",
       "      <td>20378</td>\n",
       "      <td>Mesa Airlines Inc.</td>\n",
       "      <td>3.650</td>\n",
       "    </tr>\n",
       "    <tr>\n",
       "      <th>3</th>\n",
       "      <td>19393</td>\n",
       "      <td>Southwest Airlines Co.</td>\n",
       "      <td>3.377</td>\n",
       "    </tr>\n",
       "    <tr>\n",
       "      <th>4</th>\n",
       "      <td>20452</td>\n",
       "      <td>Republic Airline</td>\n",
       "      <td>3.247</td>\n",
       "    </tr>\n",
       "    <tr>\n",
       "      <th>5</th>\n",
       "      <td>20397</td>\n",
       "      <td>PSA Airlines Inc.</td>\n",
       "      <td>3.084</td>\n",
       "    </tr>\n",
       "    <tr>\n",
       "      <th>6</th>\n",
       "      <td>20398</td>\n",
       "      <td>Envoy Air</td>\n",
       "      <td>2.996</td>\n",
       "    </tr>\n",
       "    <tr>\n",
       "      <th>7</th>\n",
       "      <td>19805</td>\n",
       "      <td>American Airlines Inc.</td>\n",
       "      <td>2.847</td>\n",
       "    </tr>\n",
       "    <tr>\n",
       "      <th>8</th>\n",
       "      <td>20409</td>\n",
       "      <td>JetBlue Airways</td>\n",
       "      <td>2.693</td>\n",
       "    </tr>\n",
       "    <tr>\n",
       "      <th>9</th>\n",
       "      <td>20436</td>\n",
       "      <td>Frontier Airlines Inc.</td>\n",
       "      <td>2.584</td>\n",
       "    </tr>\n",
       "    <tr>\n",
       "      <th>10</th>\n",
       "      <td>20416</td>\n",
       "      <td>Spirit Air Lines</td>\n",
       "      <td>2.416</td>\n",
       "    </tr>\n",
       "    <tr>\n",
       "      <th>11</th>\n",
       "      <td>20304</td>\n",
       "      <td>SkyWest Airlines Inc.</td>\n",
       "      <td>2.253</td>\n",
       "    </tr>\n",
       "    <tr>\n",
       "      <th>12</th>\n",
       "      <td>19977</td>\n",
       "      <td>United Air Lines Inc.</td>\n",
       "      <td>2.175</td>\n",
       "    </tr>\n",
       "    <tr>\n",
       "      <th>13</th>\n",
       "      <td>20363</td>\n",
       "      <td>Endeavor Air Inc.</td>\n",
       "      <td>2.129</td>\n",
       "    </tr>\n",
       "    <tr>\n",
       "      <th>14</th>\n",
       "      <td>19930</td>\n",
       "      <td>Alaska Airlines Inc.</td>\n",
       "      <td>1.925</td>\n",
       "    </tr>\n",
       "    <tr>\n",
       "      <th>15</th>\n",
       "      <td>19687</td>\n",
       "      <td>Horizon Air</td>\n",
       "      <td>1.813</td>\n",
       "    </tr>\n",
       "    <tr>\n",
       "      <th>16</th>\n",
       "      <td>19790</td>\n",
       "      <td>Delta Air Lines Inc.</td>\n",
       "      <td>1.514</td>\n",
       "    </tr>\n",
       "    <tr>\n",
       "      <th>17</th>\n",
       "      <td>19690</td>\n",
       "      <td>Hawaiian Airlines Inc.</td>\n",
       "      <td>1.208</td>\n",
       "    </tr>\n",
       "  </tbody>\n",
       "</table>\n",
       "</div>"
      ],
      "text/plain": [
       "    UNIQUE_CARRIER                             AIRLINE  \\\n",
       "0            20366  ExpressJet Airlines LLC d/b/a aha!   \n",
       "1            20368                       Allegiant Air   \n",
       "2            20378                  Mesa Airlines Inc.   \n",
       "3            19393              Southwest Airlines Co.   \n",
       "4            20452                    Republic Airline   \n",
       "5            20397                   PSA Airlines Inc.   \n",
       "6            20398                           Envoy Air   \n",
       "7            19805              American Airlines Inc.   \n",
       "8            20409                     JetBlue Airways   \n",
       "9            20436              Frontier Airlines Inc.   \n",
       "10           20416                    Spirit Air Lines   \n",
       "11           20304               SkyWest Airlines Inc.   \n",
       "12           19977               United Air Lines Inc.   \n",
       "13           20363                   Endeavor Air Inc.   \n",
       "14           19930                Alaska Airlines Inc.   \n",
       "15           19687                         Horizon Air   \n",
       "16           19790                Delta Air Lines Inc.   \n",
       "17           19690              Hawaiian Airlines Inc.   \n",
       "\n",
       "    Cancellation_Percentage  \n",
       "0                     5.565  \n",
       "1                     4.519  \n",
       "2                     3.650  \n",
       "3                     3.377  \n",
       "4                     3.247  \n",
       "5                     3.084  \n",
       "6                     2.996  \n",
       "7                     2.847  \n",
       "8                     2.693  \n",
       "9                     2.584  \n",
       "10                    2.416  \n",
       "11                    2.253  \n",
       "12                    2.175  \n",
       "13                    2.129  \n",
       "14                    1.925  \n",
       "15                    1.813  \n",
       "16                    1.514  \n",
       "17                    1.208  "
      ]
     },
     "execution_count": 28,
     "metadata": {},
     "output_type": "execute_result"
    }
   ],
   "source": [
    "query = '''\n",
    "SELECT DOT_CODE AS UNIQUE_CARRIER,\n",
    "        AIRLINE,\n",
    "       ROUND((COUNT(CASE WHEN CANCELLED=1 THEN 1 END) * 100.0 / COUNT(*)),3) as Cancellation_Percentage\n",
    "FROM flight_data\n",
    "GROUP BY UNIQUE_CARRIER\n",
    "ORDER BY Cancellation_Percentage DESC;\n",
    "'''\n",
    "result8= pd.read_sql_query(query, conn)\n",
    "result8\n"
   ]
  },
  {
   "cell_type": "markdown",
   "metadata": {},
   "source": [
    "- This query calculates the cancellation percentage for each airline, ranking them to highlight the carriers with the highest and lowest cancellation rates."
   ]
  },
  {
   "cell_type": "code",
   "execution_count": 29,
   "metadata": {},
   "outputs": [],
   "source": [
    "result8.to_csv('result8.csv', index=False)\n"
   ]
  },
  {
   "cell_type": "code",
   "execution_count": 30,
   "metadata": {},
   "outputs": [
    {
     "data": {
      "application/vnd.plotly.v1+json": {
       "config": {
        "plotlyServerURL": "https://plot.ly"
       },
       "data": [
        {
         "hovertemplate": "Cancellation Percentage (%)=%{x}<br>Airline=%{y}<extra></extra>",
         "legendgroup": "",
         "marker": {
          "color": "#636efa",
          "pattern": {
           "shape": ""
          }
         },
         "name": "",
         "orientation": "h",
         "showlegend": false,
         "textposition": "auto",
         "type": "bar",
         "x": {
          "bdata": "w/UoXI9CFkD6fmq8dBMSQDMzMzMzMw1Aarx0kxgEC0Bg5dAi2/kJQHnpJjEIrAhAK4cW2c73B0Atsp3vp8YGQCUGgZVDiwVAeekmMQisBECHFtnO91MDQKAaL90kBgJAZmZmZmZmAUDVeOkmMQgBQM3MzMzMzP4/NV66SQwC/T/TTWIQWDn4P4cW2c73U/M/",
          "dtype": "f8"
         },
         "xaxis": "x",
         "y": [
          "ExpressJet Airlines LLC d/b/a aha!",
          "Allegiant Air",
          "Mesa Airlines Inc.",
          "Southwest Airlines Co.",
          "Republic Airline",
          "PSA Airlines Inc.",
          "Envoy Air",
          "American Airlines Inc.",
          "JetBlue Airways",
          "Frontier Airlines Inc.",
          "Spirit Air Lines",
          "SkyWest Airlines Inc.",
          "United Air Lines Inc.",
          "Endeavor Air Inc.",
          "Alaska Airlines Inc.",
          "Horizon Air",
          "Delta Air Lines Inc.",
          "Hawaiian Airlines Inc."
         ],
         "yaxis": "y"
        }
       ],
       "layout": {
        "barmode": "relative",
        "legend": {
         "tracegroupgap": 0
        },
        "template": {
         "data": {
          "bar": [
           {
            "error_x": {
             "color": "#2a3f5f"
            },
            "error_y": {
             "color": "#2a3f5f"
            },
            "marker": {
             "line": {
              "color": "#E5ECF6",
              "width": 0.5
             },
             "pattern": {
              "fillmode": "overlay",
              "size": 10,
              "solidity": 0.2
             }
            },
            "type": "bar"
           }
          ],
          "barpolar": [
           {
            "marker": {
             "line": {
              "color": "#E5ECF6",
              "width": 0.5
             },
             "pattern": {
              "fillmode": "overlay",
              "size": 10,
              "solidity": 0.2
             }
            },
            "type": "barpolar"
           }
          ],
          "carpet": [
           {
            "aaxis": {
             "endlinecolor": "#2a3f5f",
             "gridcolor": "white",
             "linecolor": "white",
             "minorgridcolor": "white",
             "startlinecolor": "#2a3f5f"
            },
            "baxis": {
             "endlinecolor": "#2a3f5f",
             "gridcolor": "white",
             "linecolor": "white",
             "minorgridcolor": "white",
             "startlinecolor": "#2a3f5f"
            },
            "type": "carpet"
           }
          ],
          "choropleth": [
           {
            "colorbar": {
             "outlinewidth": 0,
             "ticks": ""
            },
            "type": "choropleth"
           }
          ],
          "contour": [
           {
            "colorbar": {
             "outlinewidth": 0,
             "ticks": ""
            },
            "colorscale": [
             [
              0,
              "#0d0887"
             ],
             [
              0.1111111111111111,
              "#46039f"
             ],
             [
              0.2222222222222222,
              "#7201a8"
             ],
             [
              0.3333333333333333,
              "#9c179e"
             ],
             [
              0.4444444444444444,
              "#bd3786"
             ],
             [
              0.5555555555555556,
              "#d8576b"
             ],
             [
              0.6666666666666666,
              "#ed7953"
             ],
             [
              0.7777777777777778,
              "#fb9f3a"
             ],
             [
              0.8888888888888888,
              "#fdca26"
             ],
             [
              1,
              "#f0f921"
             ]
            ],
            "type": "contour"
           }
          ],
          "contourcarpet": [
           {
            "colorbar": {
             "outlinewidth": 0,
             "ticks": ""
            },
            "type": "contourcarpet"
           }
          ],
          "heatmap": [
           {
            "colorbar": {
             "outlinewidth": 0,
             "ticks": ""
            },
            "colorscale": [
             [
              0,
              "#0d0887"
             ],
             [
              0.1111111111111111,
              "#46039f"
             ],
             [
              0.2222222222222222,
              "#7201a8"
             ],
             [
              0.3333333333333333,
              "#9c179e"
             ],
             [
              0.4444444444444444,
              "#bd3786"
             ],
             [
              0.5555555555555556,
              "#d8576b"
             ],
             [
              0.6666666666666666,
              "#ed7953"
             ],
             [
              0.7777777777777778,
              "#fb9f3a"
             ],
             [
              0.8888888888888888,
              "#fdca26"
             ],
             [
              1,
              "#f0f921"
             ]
            ],
            "type": "heatmap"
           }
          ],
          "histogram": [
           {
            "marker": {
             "pattern": {
              "fillmode": "overlay",
              "size": 10,
              "solidity": 0.2
             }
            },
            "type": "histogram"
           }
          ],
          "histogram2d": [
           {
            "colorbar": {
             "outlinewidth": 0,
             "ticks": ""
            },
            "colorscale": [
             [
              0,
              "#0d0887"
             ],
             [
              0.1111111111111111,
              "#46039f"
             ],
             [
              0.2222222222222222,
              "#7201a8"
             ],
             [
              0.3333333333333333,
              "#9c179e"
             ],
             [
              0.4444444444444444,
              "#bd3786"
             ],
             [
              0.5555555555555556,
              "#d8576b"
             ],
             [
              0.6666666666666666,
              "#ed7953"
             ],
             [
              0.7777777777777778,
              "#fb9f3a"
             ],
             [
              0.8888888888888888,
              "#fdca26"
             ],
             [
              1,
              "#f0f921"
             ]
            ],
            "type": "histogram2d"
           }
          ],
          "histogram2dcontour": [
           {
            "colorbar": {
             "outlinewidth": 0,
             "ticks": ""
            },
            "colorscale": [
             [
              0,
              "#0d0887"
             ],
             [
              0.1111111111111111,
              "#46039f"
             ],
             [
              0.2222222222222222,
              "#7201a8"
             ],
             [
              0.3333333333333333,
              "#9c179e"
             ],
             [
              0.4444444444444444,
              "#bd3786"
             ],
             [
              0.5555555555555556,
              "#d8576b"
             ],
             [
              0.6666666666666666,
              "#ed7953"
             ],
             [
              0.7777777777777778,
              "#fb9f3a"
             ],
             [
              0.8888888888888888,
              "#fdca26"
             ],
             [
              1,
              "#f0f921"
             ]
            ],
            "type": "histogram2dcontour"
           }
          ],
          "mesh3d": [
           {
            "colorbar": {
             "outlinewidth": 0,
             "ticks": ""
            },
            "type": "mesh3d"
           }
          ],
          "parcoords": [
           {
            "line": {
             "colorbar": {
              "outlinewidth": 0,
              "ticks": ""
             }
            },
            "type": "parcoords"
           }
          ],
          "pie": [
           {
            "automargin": true,
            "type": "pie"
           }
          ],
          "scatter": [
           {
            "fillpattern": {
             "fillmode": "overlay",
             "size": 10,
             "solidity": 0.2
            },
            "type": "scatter"
           }
          ],
          "scatter3d": [
           {
            "line": {
             "colorbar": {
              "outlinewidth": 0,
              "ticks": ""
             }
            },
            "marker": {
             "colorbar": {
              "outlinewidth": 0,
              "ticks": ""
             }
            },
            "type": "scatter3d"
           }
          ],
          "scattercarpet": [
           {
            "marker": {
             "colorbar": {
              "outlinewidth": 0,
              "ticks": ""
             }
            },
            "type": "scattercarpet"
           }
          ],
          "scattergeo": [
           {
            "marker": {
             "colorbar": {
              "outlinewidth": 0,
              "ticks": ""
             }
            },
            "type": "scattergeo"
           }
          ],
          "scattergl": [
           {
            "marker": {
             "colorbar": {
              "outlinewidth": 0,
              "ticks": ""
             }
            },
            "type": "scattergl"
           }
          ],
          "scattermap": [
           {
            "marker": {
             "colorbar": {
              "outlinewidth": 0,
              "ticks": ""
             }
            },
            "type": "scattermap"
           }
          ],
          "scattermapbox": [
           {
            "marker": {
             "colorbar": {
              "outlinewidth": 0,
              "ticks": ""
             }
            },
            "type": "scattermapbox"
           }
          ],
          "scatterpolar": [
           {
            "marker": {
             "colorbar": {
              "outlinewidth": 0,
              "ticks": ""
             }
            },
            "type": "scatterpolar"
           }
          ],
          "scatterpolargl": [
           {
            "marker": {
             "colorbar": {
              "outlinewidth": 0,
              "ticks": ""
             }
            },
            "type": "scatterpolargl"
           }
          ],
          "scatterternary": [
           {
            "marker": {
             "colorbar": {
              "outlinewidth": 0,
              "ticks": ""
             }
            },
            "type": "scatterternary"
           }
          ],
          "surface": [
           {
            "colorbar": {
             "outlinewidth": 0,
             "ticks": ""
            },
            "colorscale": [
             [
              0,
              "#0d0887"
             ],
             [
              0.1111111111111111,
              "#46039f"
             ],
             [
              0.2222222222222222,
              "#7201a8"
             ],
             [
              0.3333333333333333,
              "#9c179e"
             ],
             [
              0.4444444444444444,
              "#bd3786"
             ],
             [
              0.5555555555555556,
              "#d8576b"
             ],
             [
              0.6666666666666666,
              "#ed7953"
             ],
             [
              0.7777777777777778,
              "#fb9f3a"
             ],
             [
              0.8888888888888888,
              "#fdca26"
             ],
             [
              1,
              "#f0f921"
             ]
            ],
            "type": "surface"
           }
          ],
          "table": [
           {
            "cells": {
             "fill": {
              "color": "#EBF0F8"
             },
             "line": {
              "color": "white"
             }
            },
            "header": {
             "fill": {
              "color": "#C8D4E3"
             },
             "line": {
              "color": "white"
             }
            },
            "type": "table"
           }
          ]
         },
         "layout": {
          "annotationdefaults": {
           "arrowcolor": "#2a3f5f",
           "arrowhead": 0,
           "arrowwidth": 1
          },
          "autotypenumbers": "strict",
          "coloraxis": {
           "colorbar": {
            "outlinewidth": 0,
            "ticks": ""
           }
          },
          "colorscale": {
           "diverging": [
            [
             0,
             "#8e0152"
            ],
            [
             0.1,
             "#c51b7d"
            ],
            [
             0.2,
             "#de77ae"
            ],
            [
             0.3,
             "#f1b6da"
            ],
            [
             0.4,
             "#fde0ef"
            ],
            [
             0.5,
             "#f7f7f7"
            ],
            [
             0.6,
             "#e6f5d0"
            ],
            [
             0.7,
             "#b8e186"
            ],
            [
             0.8,
             "#7fbc41"
            ],
            [
             0.9,
             "#4d9221"
            ],
            [
             1,
             "#276419"
            ]
           ],
           "sequential": [
            [
             0,
             "#0d0887"
            ],
            [
             0.1111111111111111,
             "#46039f"
            ],
            [
             0.2222222222222222,
             "#7201a8"
            ],
            [
             0.3333333333333333,
             "#9c179e"
            ],
            [
             0.4444444444444444,
             "#bd3786"
            ],
            [
             0.5555555555555556,
             "#d8576b"
            ],
            [
             0.6666666666666666,
             "#ed7953"
            ],
            [
             0.7777777777777778,
             "#fb9f3a"
            ],
            [
             0.8888888888888888,
             "#fdca26"
            ],
            [
             1,
             "#f0f921"
            ]
           ],
           "sequentialminus": [
            [
             0,
             "#0d0887"
            ],
            [
             0.1111111111111111,
             "#46039f"
            ],
            [
             0.2222222222222222,
             "#7201a8"
            ],
            [
             0.3333333333333333,
             "#9c179e"
            ],
            [
             0.4444444444444444,
             "#bd3786"
            ],
            [
             0.5555555555555556,
             "#d8576b"
            ],
            [
             0.6666666666666666,
             "#ed7953"
            ],
            [
             0.7777777777777778,
             "#fb9f3a"
            ],
            [
             0.8888888888888888,
             "#fdca26"
            ],
            [
             1,
             "#f0f921"
            ]
           ]
          },
          "colorway": [
           "#636efa",
           "#EF553B",
           "#00cc96",
           "#ab63fa",
           "#FFA15A",
           "#19d3f3",
           "#FF6692",
           "#B6E880",
           "#FF97FF",
           "#FECB52"
          ],
          "font": {
           "color": "#2a3f5f"
          },
          "geo": {
           "bgcolor": "white",
           "lakecolor": "white",
           "landcolor": "#E5ECF6",
           "showlakes": true,
           "showland": true,
           "subunitcolor": "white"
          },
          "hoverlabel": {
           "align": "left"
          },
          "hovermode": "closest",
          "mapbox": {
           "style": "light"
          },
          "paper_bgcolor": "white",
          "plot_bgcolor": "#E5ECF6",
          "polar": {
           "angularaxis": {
            "gridcolor": "white",
            "linecolor": "white",
            "ticks": ""
           },
           "bgcolor": "#E5ECF6",
           "radialaxis": {
            "gridcolor": "white",
            "linecolor": "white",
            "ticks": ""
           }
          },
          "scene": {
           "xaxis": {
            "backgroundcolor": "#E5ECF6",
            "gridcolor": "white",
            "gridwidth": 2,
            "linecolor": "white",
            "showbackground": true,
            "ticks": "",
            "zerolinecolor": "white"
           },
           "yaxis": {
            "backgroundcolor": "#E5ECF6",
            "gridcolor": "white",
            "gridwidth": 2,
            "linecolor": "white",
            "showbackground": true,
            "ticks": "",
            "zerolinecolor": "white"
           },
           "zaxis": {
            "backgroundcolor": "#E5ECF6",
            "gridcolor": "white",
            "gridwidth": 2,
            "linecolor": "white",
            "showbackground": true,
            "ticks": "",
            "zerolinecolor": "white"
           }
          },
          "shapedefaults": {
           "line": {
            "color": "#2a3f5f"
           }
          },
          "ternary": {
           "aaxis": {
            "gridcolor": "white",
            "linecolor": "white",
            "ticks": ""
           },
           "baxis": {
            "gridcolor": "white",
            "linecolor": "white",
            "ticks": ""
           },
           "bgcolor": "#E5ECF6",
           "caxis": {
            "gridcolor": "white",
            "linecolor": "white",
            "ticks": ""
           }
          },
          "title": {
           "x": 0.05
          },
          "xaxis": {
           "automargin": true,
           "gridcolor": "white",
           "linecolor": "white",
           "ticks": "",
           "title": {
            "standoff": 15
           },
           "zerolinecolor": "white",
           "zerolinewidth": 2
          },
          "yaxis": {
           "automargin": true,
           "gridcolor": "white",
           "linecolor": "white",
           "ticks": "",
           "title": {
            "standoff": 15
           },
           "zerolinecolor": "white",
           "zerolinewidth": 2
          }
         }
        },
        "title": {
         "text": "Flight Cancellation Percentage by Airline"
        },
        "xaxis": {
         "anchor": "y",
         "domain": [
          0,
          1
         ],
         "title": {
          "text": "Cancellation Percentage (%)"
         }
        },
        "yaxis": {
         "anchor": "x",
         "categoryorder": "total ascending",
         "domain": [
          0,
          1
         ],
         "title": {
          "text": "Airline"
         }
        }
       }
      }
     },
     "metadata": {},
     "output_type": "display_data"
    }
   ],
   "source": [
    "# Visualize airline cancellation percentage as a horizontal bar chart\n",
    "fig = px.bar(\n",
    "    result8,\n",
    "    y='AIRLINE',\n",
    "    x='Cancellation_Percentage',\n",
    "    orientation='h',\n",
    "    title='Flight Cancellation Percentage by Airline',\n",
    "    labels={'Cancellation_Percentage': 'Cancellation Percentage (%)', 'AIRLINE': 'Airline'}\n",
    ")\n",
    "fig.update_layout(yaxis={'categoryorder':'total ascending'})\n",
    "fig.show()\n"
   ]
  },
  {
   "cell_type": "markdown",
   "metadata": {},
   "source": [
    "* Worst:\n",
    "\n",
    "  * **ExpressJet**: **5.56%** cancellations\n",
    "  * **Allegiant**, **Mesa**, **Southwest** all above 3.3%\n",
    "* Best:\n",
    "\n",
    "  * **Hawaiian Airlines**: **1.2%**\n",
    "  * **Delta**: **1.5%**\n"
   ]
  },
  {
   "cell_type": "markdown",
   "metadata": {},
   "source": [
    "**Insight**: Ultra-low-cost and regional carriers tend to perform worse on both delays and cancellations. Legacy carriers show stronger reliability."
   ]
  },
  {
   "cell_type": "markdown",
   "metadata": {},
   "source": [
    "# **SECTION-4: High-Risk Routes**"
   ]
  },
  {
   "cell_type": "markdown",
   "metadata": {},
   "source": [
    "### 1.Top Delayed Flight Routes"
   ]
  },
  {
   "cell_type": "code",
   "execution_count": 31,
   "metadata": {},
   "outputs": [
    {
     "data": {
      "text/html": [
       "<div>\n",
       "<style scoped>\n",
       "    .dataframe tbody tr th:only-of-type {\n",
       "        vertical-align: middle;\n",
       "    }\n",
       "\n",
       "    .dataframe tbody tr th {\n",
       "        vertical-align: top;\n",
       "    }\n",
       "\n",
       "    .dataframe thead th {\n",
       "        text-align: right;\n",
       "    }\n",
       "</style>\n",
       "<table border=\"1\" class=\"dataframe\">\n",
       "  <thead>\n",
       "    <tr style=\"text-align: right;\">\n",
       "      <th></th>\n",
       "      <th>Route</th>\n",
       "      <th>Departure_Delay_Percentage</th>\n",
       "      <th>Arrival_Delay_Percentage</th>\n",
       "    </tr>\n",
       "  </thead>\n",
       "  <tbody>\n",
       "    <tr>\n",
       "      <th>0</th>\n",
       "      <td>VPS-TOL</td>\n",
       "      <td>100.0</td>\n",
       "      <td>100.000</td>\n",
       "    </tr>\n",
       "    <tr>\n",
       "      <th>1</th>\n",
       "      <td>TWF-SUN</td>\n",
       "      <td>100.0</td>\n",
       "      <td>0.000</td>\n",
       "    </tr>\n",
       "    <tr>\n",
       "      <th>2</th>\n",
       "      <td>TWF-SFO</td>\n",
       "      <td>100.0</td>\n",
       "      <td>100.000</td>\n",
       "    </tr>\n",
       "    <tr>\n",
       "      <th>3</th>\n",
       "      <td>TPA-ORF</td>\n",
       "      <td>100.0</td>\n",
       "      <td>0.000</td>\n",
       "    </tr>\n",
       "    <tr>\n",
       "      <th>4</th>\n",
       "      <td>TOL-VPS</td>\n",
       "      <td>100.0</td>\n",
       "      <td>50.000</td>\n",
       "    </tr>\n",
       "    <tr>\n",
       "      <th>5</th>\n",
       "      <td>SMF-BNA</td>\n",
       "      <td>100.0</td>\n",
       "      <td>83.333</td>\n",
       "    </tr>\n",
       "    <tr>\n",
       "      <th>6</th>\n",
       "      <td>SJU-CVG</td>\n",
       "      <td>100.0</td>\n",
       "      <td>100.000</td>\n",
       "    </tr>\n",
       "    <tr>\n",
       "      <th>7</th>\n",
       "      <td>SJC-RDU</td>\n",
       "      <td>100.0</td>\n",
       "      <td>0.000</td>\n",
       "    </tr>\n",
       "    <tr>\n",
       "      <th>8</th>\n",
       "      <td>SEA-HOU</td>\n",
       "      <td>100.0</td>\n",
       "      <td>71.429</td>\n",
       "    </tr>\n",
       "    <tr>\n",
       "      <th>9</th>\n",
       "      <td>SDF-SFO</td>\n",
       "      <td>100.0</td>\n",
       "      <td>100.000</td>\n",
       "    </tr>\n",
       "  </tbody>\n",
       "</table>\n",
       "</div>"
      ],
      "text/plain": [
       "     Route  Departure_Delay_Percentage  Arrival_Delay_Percentage\n",
       "0  VPS-TOL                       100.0                   100.000\n",
       "1  TWF-SUN                       100.0                     0.000\n",
       "2  TWF-SFO                       100.0                   100.000\n",
       "3  TPA-ORF                       100.0                     0.000\n",
       "4  TOL-VPS                       100.0                    50.000\n",
       "5  SMF-BNA                       100.0                    83.333\n",
       "6  SJU-CVG                       100.0                   100.000\n",
       "7  SJC-RDU                       100.0                     0.000\n",
       "8  SEA-HOU                       100.0                    71.429\n",
       "9  SDF-SFO                       100.0                   100.000"
      ]
     },
     "execution_count": 31,
     "metadata": {},
     "output_type": "execute_result"
    }
   ],
   "source": [
    "query = '''\n",
    "SELECT ORIGIN || '-' || DEST as Route,\n",
    "       ROUND((COUNT(CASE WHEN DEP_DELAY > 0 THEN 1 END) * 100.0 / COUNT(*)),3) as Departure_Delay_Percentage,\n",
    "       ROUND((COUNT(CASE WHEN ARR_DELAY > 0 THEN 1 END) * 100.0 / COUNT(*)),3) as Arrival_Delay_Percentage\n",
    "FROM flight_data\n",
    "GROUP BY Route\n",
    "ORDER BY Departure_Delay_Percentage DESC\n",
    "LIMIT 10;\n",
    "'''\n",
    "result9= pd.read_sql_query(query, conn)\n",
    "result9\n"
   ]
  },
  {
   "cell_type": "markdown",
   "metadata": {},
   "source": [
    "- This query identifies the top 10 flight routes with the highest percentages of departure and arrival delays, highlighting problematic routes.\n"
   ]
  },
  {
   "cell_type": "code",
   "execution_count": 32,
   "metadata": {},
   "outputs": [],
   "source": [
    "result9.to_csv('result9.csv', index=False)\n"
   ]
  },
  {
   "cell_type": "code",
   "execution_count": 33,
   "metadata": {},
   "outputs": [
    {
     "data": {
      "application/vnd.plotly.v1+json": {
       "config": {
        "plotlyServerURL": "https://plot.ly"
       },
       "data": [
        {
         "hovertemplate": "Flight Route=%{x}<br>Departure Delay (%)=%{y}<extra></extra>",
         "legendgroup": "",
         "marker": {
          "color": "#636efa",
          "pattern": {
           "shape": ""
          }
         },
         "name": "",
         "orientation": "v",
         "showlegend": false,
         "textposition": "auto",
         "type": "bar",
         "x": [
          "VPS-TOL",
          "TWF-SUN",
          "TWF-SFO",
          "TPA-ORF",
          "TOL-VPS",
          "SMF-BNA",
          "SJU-CVG",
          "SJC-RDU",
          "SEA-HOU",
          "SDF-SFO"
         ],
         "xaxis": "x",
         "y": {
          "bdata": "AAAAAAAAWUAAAAAAAABZQAAAAAAAAFlAAAAAAAAAWUAAAAAAAABZQAAAAAAAAFlAAAAAAAAAWUAAAAAAAABZQAAAAAAAAFlAAAAAAAAAWUA=",
          "dtype": "f8"
         },
         "yaxis": "y"
        }
       ],
       "layout": {
        "barmode": "relative",
        "legend": {
         "tracegroupgap": 0
        },
        "template": {
         "data": {
          "bar": [
           {
            "error_x": {
             "color": "#2a3f5f"
            },
            "error_y": {
             "color": "#2a3f5f"
            },
            "marker": {
             "line": {
              "color": "#E5ECF6",
              "width": 0.5
             },
             "pattern": {
              "fillmode": "overlay",
              "size": 10,
              "solidity": 0.2
             }
            },
            "type": "bar"
           }
          ],
          "barpolar": [
           {
            "marker": {
             "line": {
              "color": "#E5ECF6",
              "width": 0.5
             },
             "pattern": {
              "fillmode": "overlay",
              "size": 10,
              "solidity": 0.2
             }
            },
            "type": "barpolar"
           }
          ],
          "carpet": [
           {
            "aaxis": {
             "endlinecolor": "#2a3f5f",
             "gridcolor": "white",
             "linecolor": "white",
             "minorgridcolor": "white",
             "startlinecolor": "#2a3f5f"
            },
            "baxis": {
             "endlinecolor": "#2a3f5f",
             "gridcolor": "white",
             "linecolor": "white",
             "minorgridcolor": "white",
             "startlinecolor": "#2a3f5f"
            },
            "type": "carpet"
           }
          ],
          "choropleth": [
           {
            "colorbar": {
             "outlinewidth": 0,
             "ticks": ""
            },
            "type": "choropleth"
           }
          ],
          "contour": [
           {
            "colorbar": {
             "outlinewidth": 0,
             "ticks": ""
            },
            "colorscale": [
             [
              0,
              "#0d0887"
             ],
             [
              0.1111111111111111,
              "#46039f"
             ],
             [
              0.2222222222222222,
              "#7201a8"
             ],
             [
              0.3333333333333333,
              "#9c179e"
             ],
             [
              0.4444444444444444,
              "#bd3786"
             ],
             [
              0.5555555555555556,
              "#d8576b"
             ],
             [
              0.6666666666666666,
              "#ed7953"
             ],
             [
              0.7777777777777778,
              "#fb9f3a"
             ],
             [
              0.8888888888888888,
              "#fdca26"
             ],
             [
              1,
              "#f0f921"
             ]
            ],
            "type": "contour"
           }
          ],
          "contourcarpet": [
           {
            "colorbar": {
             "outlinewidth": 0,
             "ticks": ""
            },
            "type": "contourcarpet"
           }
          ],
          "heatmap": [
           {
            "colorbar": {
             "outlinewidth": 0,
             "ticks": ""
            },
            "colorscale": [
             [
              0,
              "#0d0887"
             ],
             [
              0.1111111111111111,
              "#46039f"
             ],
             [
              0.2222222222222222,
              "#7201a8"
             ],
             [
              0.3333333333333333,
              "#9c179e"
             ],
             [
              0.4444444444444444,
              "#bd3786"
             ],
             [
              0.5555555555555556,
              "#d8576b"
             ],
             [
              0.6666666666666666,
              "#ed7953"
             ],
             [
              0.7777777777777778,
              "#fb9f3a"
             ],
             [
              0.8888888888888888,
              "#fdca26"
             ],
             [
              1,
              "#f0f921"
             ]
            ],
            "type": "heatmap"
           }
          ],
          "histogram": [
           {
            "marker": {
             "pattern": {
              "fillmode": "overlay",
              "size": 10,
              "solidity": 0.2
             }
            },
            "type": "histogram"
           }
          ],
          "histogram2d": [
           {
            "colorbar": {
             "outlinewidth": 0,
             "ticks": ""
            },
            "colorscale": [
             [
              0,
              "#0d0887"
             ],
             [
              0.1111111111111111,
              "#46039f"
             ],
             [
              0.2222222222222222,
              "#7201a8"
             ],
             [
              0.3333333333333333,
              "#9c179e"
             ],
             [
              0.4444444444444444,
              "#bd3786"
             ],
             [
              0.5555555555555556,
              "#d8576b"
             ],
             [
              0.6666666666666666,
              "#ed7953"
             ],
             [
              0.7777777777777778,
              "#fb9f3a"
             ],
             [
              0.8888888888888888,
              "#fdca26"
             ],
             [
              1,
              "#f0f921"
             ]
            ],
            "type": "histogram2d"
           }
          ],
          "histogram2dcontour": [
           {
            "colorbar": {
             "outlinewidth": 0,
             "ticks": ""
            },
            "colorscale": [
             [
              0,
              "#0d0887"
             ],
             [
              0.1111111111111111,
              "#46039f"
             ],
             [
              0.2222222222222222,
              "#7201a8"
             ],
             [
              0.3333333333333333,
              "#9c179e"
             ],
             [
              0.4444444444444444,
              "#bd3786"
             ],
             [
              0.5555555555555556,
              "#d8576b"
             ],
             [
              0.6666666666666666,
              "#ed7953"
             ],
             [
              0.7777777777777778,
              "#fb9f3a"
             ],
             [
              0.8888888888888888,
              "#fdca26"
             ],
             [
              1,
              "#f0f921"
             ]
            ],
            "type": "histogram2dcontour"
           }
          ],
          "mesh3d": [
           {
            "colorbar": {
             "outlinewidth": 0,
             "ticks": ""
            },
            "type": "mesh3d"
           }
          ],
          "parcoords": [
           {
            "line": {
             "colorbar": {
              "outlinewidth": 0,
              "ticks": ""
             }
            },
            "type": "parcoords"
           }
          ],
          "pie": [
           {
            "automargin": true,
            "type": "pie"
           }
          ],
          "scatter": [
           {
            "fillpattern": {
             "fillmode": "overlay",
             "size": 10,
             "solidity": 0.2
            },
            "type": "scatter"
           }
          ],
          "scatter3d": [
           {
            "line": {
             "colorbar": {
              "outlinewidth": 0,
              "ticks": ""
             }
            },
            "marker": {
             "colorbar": {
              "outlinewidth": 0,
              "ticks": ""
             }
            },
            "type": "scatter3d"
           }
          ],
          "scattercarpet": [
           {
            "marker": {
             "colorbar": {
              "outlinewidth": 0,
              "ticks": ""
             }
            },
            "type": "scattercarpet"
           }
          ],
          "scattergeo": [
           {
            "marker": {
             "colorbar": {
              "outlinewidth": 0,
              "ticks": ""
             }
            },
            "type": "scattergeo"
           }
          ],
          "scattergl": [
           {
            "marker": {
             "colorbar": {
              "outlinewidth": 0,
              "ticks": ""
             }
            },
            "type": "scattergl"
           }
          ],
          "scattermap": [
           {
            "marker": {
             "colorbar": {
              "outlinewidth": 0,
              "ticks": ""
             }
            },
            "type": "scattermap"
           }
          ],
          "scattermapbox": [
           {
            "marker": {
             "colorbar": {
              "outlinewidth": 0,
              "ticks": ""
             }
            },
            "type": "scattermapbox"
           }
          ],
          "scatterpolar": [
           {
            "marker": {
             "colorbar": {
              "outlinewidth": 0,
              "ticks": ""
             }
            },
            "type": "scatterpolar"
           }
          ],
          "scatterpolargl": [
           {
            "marker": {
             "colorbar": {
              "outlinewidth": 0,
              "ticks": ""
             }
            },
            "type": "scatterpolargl"
           }
          ],
          "scatterternary": [
           {
            "marker": {
             "colorbar": {
              "outlinewidth": 0,
              "ticks": ""
             }
            },
            "type": "scatterternary"
           }
          ],
          "surface": [
           {
            "colorbar": {
             "outlinewidth": 0,
             "ticks": ""
            },
            "colorscale": [
             [
              0,
              "#0d0887"
             ],
             [
              0.1111111111111111,
              "#46039f"
             ],
             [
              0.2222222222222222,
              "#7201a8"
             ],
             [
              0.3333333333333333,
              "#9c179e"
             ],
             [
              0.4444444444444444,
              "#bd3786"
             ],
             [
              0.5555555555555556,
              "#d8576b"
             ],
             [
              0.6666666666666666,
              "#ed7953"
             ],
             [
              0.7777777777777778,
              "#fb9f3a"
             ],
             [
              0.8888888888888888,
              "#fdca26"
             ],
             [
              1,
              "#f0f921"
             ]
            ],
            "type": "surface"
           }
          ],
          "table": [
           {
            "cells": {
             "fill": {
              "color": "#EBF0F8"
             },
             "line": {
              "color": "white"
             }
            },
            "header": {
             "fill": {
              "color": "#C8D4E3"
             },
             "line": {
              "color": "white"
             }
            },
            "type": "table"
           }
          ]
         },
         "layout": {
          "annotationdefaults": {
           "arrowcolor": "#2a3f5f",
           "arrowhead": 0,
           "arrowwidth": 1
          },
          "autotypenumbers": "strict",
          "coloraxis": {
           "colorbar": {
            "outlinewidth": 0,
            "ticks": ""
           }
          },
          "colorscale": {
           "diverging": [
            [
             0,
             "#8e0152"
            ],
            [
             0.1,
             "#c51b7d"
            ],
            [
             0.2,
             "#de77ae"
            ],
            [
             0.3,
             "#f1b6da"
            ],
            [
             0.4,
             "#fde0ef"
            ],
            [
             0.5,
             "#f7f7f7"
            ],
            [
             0.6,
             "#e6f5d0"
            ],
            [
             0.7,
             "#b8e186"
            ],
            [
             0.8,
             "#7fbc41"
            ],
            [
             0.9,
             "#4d9221"
            ],
            [
             1,
             "#276419"
            ]
           ],
           "sequential": [
            [
             0,
             "#0d0887"
            ],
            [
             0.1111111111111111,
             "#46039f"
            ],
            [
             0.2222222222222222,
             "#7201a8"
            ],
            [
             0.3333333333333333,
             "#9c179e"
            ],
            [
             0.4444444444444444,
             "#bd3786"
            ],
            [
             0.5555555555555556,
             "#d8576b"
            ],
            [
             0.6666666666666666,
             "#ed7953"
            ],
            [
             0.7777777777777778,
             "#fb9f3a"
            ],
            [
             0.8888888888888888,
             "#fdca26"
            ],
            [
             1,
             "#f0f921"
            ]
           ],
           "sequentialminus": [
            [
             0,
             "#0d0887"
            ],
            [
             0.1111111111111111,
             "#46039f"
            ],
            [
             0.2222222222222222,
             "#7201a8"
            ],
            [
             0.3333333333333333,
             "#9c179e"
            ],
            [
             0.4444444444444444,
             "#bd3786"
            ],
            [
             0.5555555555555556,
             "#d8576b"
            ],
            [
             0.6666666666666666,
             "#ed7953"
            ],
            [
             0.7777777777777778,
             "#fb9f3a"
            ],
            [
             0.8888888888888888,
             "#fdca26"
            ],
            [
             1,
             "#f0f921"
            ]
           ]
          },
          "colorway": [
           "#636efa",
           "#EF553B",
           "#00cc96",
           "#ab63fa",
           "#FFA15A",
           "#19d3f3",
           "#FF6692",
           "#B6E880",
           "#FF97FF",
           "#FECB52"
          ],
          "font": {
           "color": "#2a3f5f"
          },
          "geo": {
           "bgcolor": "white",
           "lakecolor": "white",
           "landcolor": "#E5ECF6",
           "showlakes": true,
           "showland": true,
           "subunitcolor": "white"
          },
          "hoverlabel": {
           "align": "left"
          },
          "hovermode": "closest",
          "mapbox": {
           "style": "light"
          },
          "paper_bgcolor": "white",
          "plot_bgcolor": "#E5ECF6",
          "polar": {
           "angularaxis": {
            "gridcolor": "white",
            "linecolor": "white",
            "ticks": ""
           },
           "bgcolor": "#E5ECF6",
           "radialaxis": {
            "gridcolor": "white",
            "linecolor": "white",
            "ticks": ""
           }
          },
          "scene": {
           "xaxis": {
            "backgroundcolor": "#E5ECF6",
            "gridcolor": "white",
            "gridwidth": 2,
            "linecolor": "white",
            "showbackground": true,
            "ticks": "",
            "zerolinecolor": "white"
           },
           "yaxis": {
            "backgroundcolor": "#E5ECF6",
            "gridcolor": "white",
            "gridwidth": 2,
            "linecolor": "white",
            "showbackground": true,
            "ticks": "",
            "zerolinecolor": "white"
           },
           "zaxis": {
            "backgroundcolor": "#E5ECF6",
            "gridcolor": "white",
            "gridwidth": 2,
            "linecolor": "white",
            "showbackground": true,
            "ticks": "",
            "zerolinecolor": "white"
           }
          },
          "shapedefaults": {
           "line": {
            "color": "#2a3f5f"
           }
          },
          "ternary": {
           "aaxis": {
            "gridcolor": "white",
            "linecolor": "white",
            "ticks": ""
           },
           "baxis": {
            "gridcolor": "white",
            "linecolor": "white",
            "ticks": ""
           },
           "bgcolor": "#E5ECF6",
           "caxis": {
            "gridcolor": "white",
            "linecolor": "white",
            "ticks": ""
           }
          },
          "title": {
           "x": 0.05
          },
          "xaxis": {
           "automargin": true,
           "gridcolor": "white",
           "linecolor": "white",
           "ticks": "",
           "title": {
            "standoff": 15
           },
           "zerolinecolor": "white",
           "zerolinewidth": 2
          },
          "yaxis": {
           "automargin": true,
           "gridcolor": "white",
           "linecolor": "white",
           "ticks": "",
           "title": {
            "standoff": 15
           },
           "zerolinecolor": "white",
           "zerolinewidth": 2
          }
         }
        },
        "title": {
         "text": "Top 10 Flight Routes with Highest Departure Delay Percentage"
        },
        "xaxis": {
         "anchor": "y",
         "domain": [
          0,
          1
         ],
         "title": {
          "text": "Flight Route"
         }
        },
        "yaxis": {
         "anchor": "x",
         "domain": [
          0,
          1
         ],
         "title": {
          "text": "Departure Delay (%)"
         }
        }
       }
      }
     },
     "metadata": {},
     "output_type": "display_data"
    },
    {
     "data": {
      "application/vnd.plotly.v1+json": {
       "config": {
        "plotlyServerURL": "https://plot.ly"
       },
       "data": [
        {
         "hovertemplate": "Flight Route=%{x}<br>Arrival Delay (%)=%{y}<extra></extra>",
         "legendgroup": "",
         "marker": {
          "color": "#636efa",
          "pattern": {
           "shape": ""
          }
         },
         "name": "",
         "orientation": "v",
         "showlegend": false,
         "textposition": "auto",
         "type": "bar",
         "x": [
          "VPS-TOL",
          "TWF-SUN",
          "TWF-SFO",
          "TPA-ORF",
          "TOL-VPS",
          "SMF-BNA",
          "SJU-CVG",
          "SJC-RDU",
          "SEA-HOU",
          "SDF-SFO"
         ],
         "xaxis": "x",
         "y": {
          "bdata": "AAAAAAAAWUAAAAAAAAAAAAAAAAAAAFlAAAAAAAAAAAAAAAAAAABJQFpkO99P1VRAAAAAAAAAWUAAAAAAAAAAAPp+arx021FAAAAAAAAAWUA=",
          "dtype": "f8"
         },
         "yaxis": "y"
        }
       ],
       "layout": {
        "barmode": "relative",
        "legend": {
         "tracegroupgap": 0
        },
        "template": {
         "data": {
          "bar": [
           {
            "error_x": {
             "color": "#2a3f5f"
            },
            "error_y": {
             "color": "#2a3f5f"
            },
            "marker": {
             "line": {
              "color": "#E5ECF6",
              "width": 0.5
             },
             "pattern": {
              "fillmode": "overlay",
              "size": 10,
              "solidity": 0.2
             }
            },
            "type": "bar"
           }
          ],
          "barpolar": [
           {
            "marker": {
             "line": {
              "color": "#E5ECF6",
              "width": 0.5
             },
             "pattern": {
              "fillmode": "overlay",
              "size": 10,
              "solidity": 0.2
             }
            },
            "type": "barpolar"
           }
          ],
          "carpet": [
           {
            "aaxis": {
             "endlinecolor": "#2a3f5f",
             "gridcolor": "white",
             "linecolor": "white",
             "minorgridcolor": "white",
             "startlinecolor": "#2a3f5f"
            },
            "baxis": {
             "endlinecolor": "#2a3f5f",
             "gridcolor": "white",
             "linecolor": "white",
             "minorgridcolor": "white",
             "startlinecolor": "#2a3f5f"
            },
            "type": "carpet"
           }
          ],
          "choropleth": [
           {
            "colorbar": {
             "outlinewidth": 0,
             "ticks": ""
            },
            "type": "choropleth"
           }
          ],
          "contour": [
           {
            "colorbar": {
             "outlinewidth": 0,
             "ticks": ""
            },
            "colorscale": [
             [
              0,
              "#0d0887"
             ],
             [
              0.1111111111111111,
              "#46039f"
             ],
             [
              0.2222222222222222,
              "#7201a8"
             ],
             [
              0.3333333333333333,
              "#9c179e"
             ],
             [
              0.4444444444444444,
              "#bd3786"
             ],
             [
              0.5555555555555556,
              "#d8576b"
             ],
             [
              0.6666666666666666,
              "#ed7953"
             ],
             [
              0.7777777777777778,
              "#fb9f3a"
             ],
             [
              0.8888888888888888,
              "#fdca26"
             ],
             [
              1,
              "#f0f921"
             ]
            ],
            "type": "contour"
           }
          ],
          "contourcarpet": [
           {
            "colorbar": {
             "outlinewidth": 0,
             "ticks": ""
            },
            "type": "contourcarpet"
           }
          ],
          "heatmap": [
           {
            "colorbar": {
             "outlinewidth": 0,
             "ticks": ""
            },
            "colorscale": [
             [
              0,
              "#0d0887"
             ],
             [
              0.1111111111111111,
              "#46039f"
             ],
             [
              0.2222222222222222,
              "#7201a8"
             ],
             [
              0.3333333333333333,
              "#9c179e"
             ],
             [
              0.4444444444444444,
              "#bd3786"
             ],
             [
              0.5555555555555556,
              "#d8576b"
             ],
             [
              0.6666666666666666,
              "#ed7953"
             ],
             [
              0.7777777777777778,
              "#fb9f3a"
             ],
             [
              0.8888888888888888,
              "#fdca26"
             ],
             [
              1,
              "#f0f921"
             ]
            ],
            "type": "heatmap"
           }
          ],
          "histogram": [
           {
            "marker": {
             "pattern": {
              "fillmode": "overlay",
              "size": 10,
              "solidity": 0.2
             }
            },
            "type": "histogram"
           }
          ],
          "histogram2d": [
           {
            "colorbar": {
             "outlinewidth": 0,
             "ticks": ""
            },
            "colorscale": [
             [
              0,
              "#0d0887"
             ],
             [
              0.1111111111111111,
              "#46039f"
             ],
             [
              0.2222222222222222,
              "#7201a8"
             ],
             [
              0.3333333333333333,
              "#9c179e"
             ],
             [
              0.4444444444444444,
              "#bd3786"
             ],
             [
              0.5555555555555556,
              "#d8576b"
             ],
             [
              0.6666666666666666,
              "#ed7953"
             ],
             [
              0.7777777777777778,
              "#fb9f3a"
             ],
             [
              0.8888888888888888,
              "#fdca26"
             ],
             [
              1,
              "#f0f921"
             ]
            ],
            "type": "histogram2d"
           }
          ],
          "histogram2dcontour": [
           {
            "colorbar": {
             "outlinewidth": 0,
             "ticks": ""
            },
            "colorscale": [
             [
              0,
              "#0d0887"
             ],
             [
              0.1111111111111111,
              "#46039f"
             ],
             [
              0.2222222222222222,
              "#7201a8"
             ],
             [
              0.3333333333333333,
              "#9c179e"
             ],
             [
              0.4444444444444444,
              "#bd3786"
             ],
             [
              0.5555555555555556,
              "#d8576b"
             ],
             [
              0.6666666666666666,
              "#ed7953"
             ],
             [
              0.7777777777777778,
              "#fb9f3a"
             ],
             [
              0.8888888888888888,
              "#fdca26"
             ],
             [
              1,
              "#f0f921"
             ]
            ],
            "type": "histogram2dcontour"
           }
          ],
          "mesh3d": [
           {
            "colorbar": {
             "outlinewidth": 0,
             "ticks": ""
            },
            "type": "mesh3d"
           }
          ],
          "parcoords": [
           {
            "line": {
             "colorbar": {
              "outlinewidth": 0,
              "ticks": ""
             }
            },
            "type": "parcoords"
           }
          ],
          "pie": [
           {
            "automargin": true,
            "type": "pie"
           }
          ],
          "scatter": [
           {
            "fillpattern": {
             "fillmode": "overlay",
             "size": 10,
             "solidity": 0.2
            },
            "type": "scatter"
           }
          ],
          "scatter3d": [
           {
            "line": {
             "colorbar": {
              "outlinewidth": 0,
              "ticks": ""
             }
            },
            "marker": {
             "colorbar": {
              "outlinewidth": 0,
              "ticks": ""
             }
            },
            "type": "scatter3d"
           }
          ],
          "scattercarpet": [
           {
            "marker": {
             "colorbar": {
              "outlinewidth": 0,
              "ticks": ""
             }
            },
            "type": "scattercarpet"
           }
          ],
          "scattergeo": [
           {
            "marker": {
             "colorbar": {
              "outlinewidth": 0,
              "ticks": ""
             }
            },
            "type": "scattergeo"
           }
          ],
          "scattergl": [
           {
            "marker": {
             "colorbar": {
              "outlinewidth": 0,
              "ticks": ""
             }
            },
            "type": "scattergl"
           }
          ],
          "scattermap": [
           {
            "marker": {
             "colorbar": {
              "outlinewidth": 0,
              "ticks": ""
             }
            },
            "type": "scattermap"
           }
          ],
          "scattermapbox": [
           {
            "marker": {
             "colorbar": {
              "outlinewidth": 0,
              "ticks": ""
             }
            },
            "type": "scattermapbox"
           }
          ],
          "scatterpolar": [
           {
            "marker": {
             "colorbar": {
              "outlinewidth": 0,
              "ticks": ""
             }
            },
            "type": "scatterpolar"
           }
          ],
          "scatterpolargl": [
           {
            "marker": {
             "colorbar": {
              "outlinewidth": 0,
              "ticks": ""
             }
            },
            "type": "scatterpolargl"
           }
          ],
          "scatterternary": [
           {
            "marker": {
             "colorbar": {
              "outlinewidth": 0,
              "ticks": ""
             }
            },
            "type": "scatterternary"
           }
          ],
          "surface": [
           {
            "colorbar": {
             "outlinewidth": 0,
             "ticks": ""
            },
            "colorscale": [
             [
              0,
              "#0d0887"
             ],
             [
              0.1111111111111111,
              "#46039f"
             ],
             [
              0.2222222222222222,
              "#7201a8"
             ],
             [
              0.3333333333333333,
              "#9c179e"
             ],
             [
              0.4444444444444444,
              "#bd3786"
             ],
             [
              0.5555555555555556,
              "#d8576b"
             ],
             [
              0.6666666666666666,
              "#ed7953"
             ],
             [
              0.7777777777777778,
              "#fb9f3a"
             ],
             [
              0.8888888888888888,
              "#fdca26"
             ],
             [
              1,
              "#f0f921"
             ]
            ],
            "type": "surface"
           }
          ],
          "table": [
           {
            "cells": {
             "fill": {
              "color": "#EBF0F8"
             },
             "line": {
              "color": "white"
             }
            },
            "header": {
             "fill": {
              "color": "#C8D4E3"
             },
             "line": {
              "color": "white"
             }
            },
            "type": "table"
           }
          ]
         },
         "layout": {
          "annotationdefaults": {
           "arrowcolor": "#2a3f5f",
           "arrowhead": 0,
           "arrowwidth": 1
          },
          "autotypenumbers": "strict",
          "coloraxis": {
           "colorbar": {
            "outlinewidth": 0,
            "ticks": ""
           }
          },
          "colorscale": {
           "diverging": [
            [
             0,
             "#8e0152"
            ],
            [
             0.1,
             "#c51b7d"
            ],
            [
             0.2,
             "#de77ae"
            ],
            [
             0.3,
             "#f1b6da"
            ],
            [
             0.4,
             "#fde0ef"
            ],
            [
             0.5,
             "#f7f7f7"
            ],
            [
             0.6,
             "#e6f5d0"
            ],
            [
             0.7,
             "#b8e186"
            ],
            [
             0.8,
             "#7fbc41"
            ],
            [
             0.9,
             "#4d9221"
            ],
            [
             1,
             "#276419"
            ]
           ],
           "sequential": [
            [
             0,
             "#0d0887"
            ],
            [
             0.1111111111111111,
             "#46039f"
            ],
            [
             0.2222222222222222,
             "#7201a8"
            ],
            [
             0.3333333333333333,
             "#9c179e"
            ],
            [
             0.4444444444444444,
             "#bd3786"
            ],
            [
             0.5555555555555556,
             "#d8576b"
            ],
            [
             0.6666666666666666,
             "#ed7953"
            ],
            [
             0.7777777777777778,
             "#fb9f3a"
            ],
            [
             0.8888888888888888,
             "#fdca26"
            ],
            [
             1,
             "#f0f921"
            ]
           ],
           "sequentialminus": [
            [
             0,
             "#0d0887"
            ],
            [
             0.1111111111111111,
             "#46039f"
            ],
            [
             0.2222222222222222,
             "#7201a8"
            ],
            [
             0.3333333333333333,
             "#9c179e"
            ],
            [
             0.4444444444444444,
             "#bd3786"
            ],
            [
             0.5555555555555556,
             "#d8576b"
            ],
            [
             0.6666666666666666,
             "#ed7953"
            ],
            [
             0.7777777777777778,
             "#fb9f3a"
            ],
            [
             0.8888888888888888,
             "#fdca26"
            ],
            [
             1,
             "#f0f921"
            ]
           ]
          },
          "colorway": [
           "#636efa",
           "#EF553B",
           "#00cc96",
           "#ab63fa",
           "#FFA15A",
           "#19d3f3",
           "#FF6692",
           "#B6E880",
           "#FF97FF",
           "#FECB52"
          ],
          "font": {
           "color": "#2a3f5f"
          },
          "geo": {
           "bgcolor": "white",
           "lakecolor": "white",
           "landcolor": "#E5ECF6",
           "showlakes": true,
           "showland": true,
           "subunitcolor": "white"
          },
          "hoverlabel": {
           "align": "left"
          },
          "hovermode": "closest",
          "mapbox": {
           "style": "light"
          },
          "paper_bgcolor": "white",
          "plot_bgcolor": "#E5ECF6",
          "polar": {
           "angularaxis": {
            "gridcolor": "white",
            "linecolor": "white",
            "ticks": ""
           },
           "bgcolor": "#E5ECF6",
           "radialaxis": {
            "gridcolor": "white",
            "linecolor": "white",
            "ticks": ""
           }
          },
          "scene": {
           "xaxis": {
            "backgroundcolor": "#E5ECF6",
            "gridcolor": "white",
            "gridwidth": 2,
            "linecolor": "white",
            "showbackground": true,
            "ticks": "",
            "zerolinecolor": "white"
           },
           "yaxis": {
            "backgroundcolor": "#E5ECF6",
            "gridcolor": "white",
            "gridwidth": 2,
            "linecolor": "white",
            "showbackground": true,
            "ticks": "",
            "zerolinecolor": "white"
           },
           "zaxis": {
            "backgroundcolor": "#E5ECF6",
            "gridcolor": "white",
            "gridwidth": 2,
            "linecolor": "white",
            "showbackground": true,
            "ticks": "",
            "zerolinecolor": "white"
           }
          },
          "shapedefaults": {
           "line": {
            "color": "#2a3f5f"
           }
          },
          "ternary": {
           "aaxis": {
            "gridcolor": "white",
            "linecolor": "white",
            "ticks": ""
           },
           "baxis": {
            "gridcolor": "white",
            "linecolor": "white",
            "ticks": ""
           },
           "bgcolor": "#E5ECF6",
           "caxis": {
            "gridcolor": "white",
            "linecolor": "white",
            "ticks": ""
           }
          },
          "title": {
           "x": 0.05
          },
          "xaxis": {
           "automargin": true,
           "gridcolor": "white",
           "linecolor": "white",
           "ticks": "",
           "title": {
            "standoff": 15
           },
           "zerolinecolor": "white",
           "zerolinewidth": 2
          },
          "yaxis": {
           "automargin": true,
           "gridcolor": "white",
           "linecolor": "white",
           "ticks": "",
           "title": {
            "standoff": 15
           },
           "zerolinecolor": "white",
           "zerolinewidth": 2
          }
         }
        },
        "title": {
         "text": "Top 10 Flight Routes with Highest Arrival Delay Percentage"
        },
        "xaxis": {
         "anchor": "y",
         "domain": [
          0,
          1
         ],
         "title": {
          "text": "Flight Route"
         }
        },
        "yaxis": {
         "anchor": "x",
         "domain": [
          0,
          1
         ],
         "title": {
          "text": "Arrival Delay (%)"
         }
        }
       }
      }
     },
     "metadata": {},
     "output_type": "display_data"
    }
   ],
   "source": [
    "# Visualize the top 10 delayed flight routes by departure delay percentage\n",
    "fig_routes_dep = px.bar(\n",
    "    result9,\n",
    "    x='Route',\n",
    "    y='Departure_Delay_Percentage',\n",
    "    title='Top 10 Flight Routes with Highest Departure Delay Percentage',\n",
    "    labels={'Departure_Delay_Percentage': 'Departure Delay (%)', 'Route': 'Flight Route'}\n",
    ")\n",
    "fig_routes_dep.show()\n",
    "\n",
    "# Visualize the top 10 delayed flight routes by arrival delay percentage\n",
    "fig_routes_arr = px.bar(\n",
    "    result9,\n",
    "    x='Route',\n",
    "    y='Arrival_Delay_Percentage',\n",
    "    title='Top 10 Flight Routes with Highest Arrival Delay Percentage',\n",
    "    labels={'Arrival_Delay_Percentage': 'Arrival Delay (%)', 'Route': 'Flight Route'}\n",
    ")\n",
    "fig_routes_arr.show()\n"
   ]
  },
  {
   "cell_type": "markdown",
   "metadata": {},
   "source": [
    "* Every route listed has **100% departure delay percentage**!\n",
    "* Routes like **SEA–HOU**, **SJU–CVG**, and **TOL–VPS** show consistent disruptions.\n",
    "* Some routes show **100% departure delay but 0% arrival delay**, suggesting time padding or recovery mid-air."
   ]
  },
  {
   "cell_type": "markdown",
   "metadata": {},
   "source": [
    "### 2. Impact of Scheduled Flight Time on Delays"
   ]
  },
  {
   "cell_type": "code",
   "execution_count": 34,
   "metadata": {},
   "outputs": [
    {
     "data": {
      "text/html": [
       "<div>\n",
       "<style scoped>\n",
       "    .dataframe tbody tr th:only-of-type {\n",
       "        vertical-align: middle;\n",
       "    }\n",
       "\n",
       "    .dataframe tbody tr th {\n",
       "        vertical-align: top;\n",
       "    }\n",
       "\n",
       "    .dataframe thead th {\n",
       "        text-align: right;\n",
       "    }\n",
       "</style>\n",
       "<table border=\"1\" class=\"dataframe\">\n",
       "  <thead>\n",
       "    <tr style=\"text-align: right;\">\n",
       "      <th></th>\n",
       "      <th>CRS_DEP_TIME</th>\n",
       "      <th>Departure_Delay_Percentage</th>\n",
       "      <th>Arrival_Delay_Percentage</th>\n",
       "    </tr>\n",
       "  </thead>\n",
       "  <tbody>\n",
       "    <tr>\n",
       "      <th>0</th>\n",
       "      <td>1</td>\n",
       "      <td>54.167</td>\n",
       "      <td>54.167</td>\n",
       "    </tr>\n",
       "    <tr>\n",
       "      <th>1</th>\n",
       "      <td>2</td>\n",
       "      <td>40.000</td>\n",
       "      <td>20.000</td>\n",
       "    </tr>\n",
       "    <tr>\n",
       "      <th>2</th>\n",
       "      <td>3</td>\n",
       "      <td>100.000</td>\n",
       "      <td>100.000</td>\n",
       "    </tr>\n",
       "    <tr>\n",
       "      <th>3</th>\n",
       "      <td>4</td>\n",
       "      <td>58.824</td>\n",
       "      <td>41.176</td>\n",
       "    </tr>\n",
       "    <tr>\n",
       "      <th>4</th>\n",
       "      <td>5</td>\n",
       "      <td>38.971</td>\n",
       "      <td>25.000</td>\n",
       "    </tr>\n",
       "    <tr>\n",
       "      <th>...</th>\n",
       "      <td>...</td>\n",
       "      <td>...</td>\n",
       "      <td>...</td>\n",
       "    </tr>\n",
       "    <tr>\n",
       "      <th>1379</th>\n",
       "      <td>2355</td>\n",
       "      <td>36.000</td>\n",
       "      <td>31.875</td>\n",
       "    </tr>\n",
       "    <tr>\n",
       "      <th>1380</th>\n",
       "      <td>2356</td>\n",
       "      <td>40.580</td>\n",
       "      <td>27.053</td>\n",
       "    </tr>\n",
       "    <tr>\n",
       "      <th>1381</th>\n",
       "      <td>2357</td>\n",
       "      <td>49.198</td>\n",
       "      <td>41.711</td>\n",
       "    </tr>\n",
       "    <tr>\n",
       "      <th>1382</th>\n",
       "      <td>2358</td>\n",
       "      <td>47.143</td>\n",
       "      <td>36.190</td>\n",
       "    </tr>\n",
       "    <tr>\n",
       "      <th>1383</th>\n",
       "      <td>2359</td>\n",
       "      <td>44.815</td>\n",
       "      <td>36.518</td>\n",
       "    </tr>\n",
       "  </tbody>\n",
       "</table>\n",
       "<p>1384 rows × 3 columns</p>\n",
       "</div>"
      ],
      "text/plain": [
       "      CRS_DEP_TIME  Departure_Delay_Percentage  Arrival_Delay_Percentage\n",
       "0                1                      54.167                    54.167\n",
       "1                2                      40.000                    20.000\n",
       "2                3                     100.000                   100.000\n",
       "3                4                      58.824                    41.176\n",
       "4                5                      38.971                    25.000\n",
       "...            ...                         ...                       ...\n",
       "1379          2355                      36.000                    31.875\n",
       "1380          2356                      40.580                    27.053\n",
       "1381          2357                      49.198                    41.711\n",
       "1382          2358                      47.143                    36.190\n",
       "1383          2359                      44.815                    36.518\n",
       "\n",
       "[1384 rows x 3 columns]"
      ]
     },
     "execution_count": 34,
     "metadata": {},
     "output_type": "execute_result"
    }
   ],
   "source": [
    "query = '''\n",
    "SELECT CRS_DEP_TIME,\n",
    "       ROUND((COUNT(CASE WHEN DEP_DELAY > 0 THEN 1 END) * 100.0 / COUNT(*)),3) as Departure_Delay_Percentage,\n",
    "       ROUND((COUNT(CASE WHEN ARR_DELAY > 0 THEN 1 END) * 100.0 / COUNT(*)),3) as Arrival_Delay_Percentage\n",
    "FROM flight_data\n",
    "GROUP BY CRS_DEP_TIME\n",
    "ORDER BY CRS_DEP_TIME;\n",
    "'''\n",
    "result10= pd.read_sql_query(query, conn)\n",
    "result10\n"
   ]
  },
  {
   "cell_type": "markdown",
   "metadata": {},
   "source": [
    "- This query examines how scheduled departure times (CRS_DEP_TIME) influence the percentage of delays for departures and arrivals.\n",
    "- It provides insights into delay patterns across different times of the day.\n"
   ]
  },
  {
   "cell_type": "code",
   "execution_count": 35,
   "metadata": {},
   "outputs": [],
   "source": [
    "result10.to_csv('result10.csv', index=False)\n"
   ]
  },
  {
   "cell_type": "code",
   "execution_count": 36,
   "metadata": {
    "vscode": {
     "languageId": "javascript"
    }
   },
   "outputs": [
    {
     "data": {
      "application/vnd.plotly.v1+json": {
       "config": {
        "plotlyServerURL": "https://plot.ly"
       },
       "data": [
        {
         "hovertemplate": "Delay Type=Departure_Delay_Percentage<br>Scheduled Departure Time=%{x}<br>Delay Percentage (%)=%{y}<extra></extra>",
         "legendgroup": "Departure_Delay_Percentage",
         "line": {
          "color": "#636efa",
          "dash": "solid"
         },
         "marker": {
          "symbol": "circle"
         },
         "mode": "lines",
         "name": "Departure_Delay_Percentage",
         "showlegend": true,
         "type": "scattergl",
         "x": {
          "bdata": "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",
          "dtype": "i2"
         },
         "xaxis": "x",
         "y": {
          "bdata": "TDeJQWAVS0AAAAAAAABEQAAAAAAAAFlAtvP91HhpTUA/NV66SXxDQLTIdr6fqkBAwcqhRbYTR0AAAAAAAEA/QEw3iUFgVUJAWmQ730+tQUDfT42XbpIsQOf7qfHSbTVAAAAAAAAATkAAAAAAAABJQIcW2c73c0BA6SYxCKysRkAAAAAAAABJQAisHFpk20ZAAAAAAAAAR0DhehSuR5FBQEw3iUFgVUdAnMQgsHJ4SkAIrBxaZNtGQLTIdr6fqkpATmIQWDn0QkBGtvP91DhGQG8Sg8DKcVNAy6FFtvO9QUAlBoGVQ0tJQEjhehSuRz9AhxbZzveTL0CPwvUoXF9PQBKDwMqhpUFAWDm0yHaeRkDZzvdT4wU/QEa28/3UOEZA/Knx0k2STEAAAAAAAABJQJHtfD81DkJANV66SQxSQUDZzvdT40U7QE5iEFg5lD9AukkMAiv3QkAAAAAAAABQQC/dJAaBlT5AiUFg5dBCPEAQWDm0yLY5QN9PjZdu8jxAuB6F61GIQUBI4XoUrrdBQEoMAiuHlkRAfT81XrrpR0CcxCCwcghCQAwCK4cWiURATDeJQWDVQEAAAAAAACA8QGIQWDm0CEZAtMh2vp+qQEAMAiuHFolEQC/dJAaB1TxAtMh2vp+qQEAAAAAAAAA0QMHKoUW2EzdAQmDl0CI7M0AbL90kBqFFQLKd76fGa1JA4XoUrkehLUAAAAAAAABJQCUGgZVDu0RATmIQWDlkQUC0yHa+n6pAQDvfT42XLkJAfT81XrrpR0AQWDm0yE5RQPyp8dJNckJATmIQWDmUP0DByqFFthM3QEJg5dAiOzNAj8L1KFxvPkC0yHa+n6pAQD81XrpJDDNAAAAAAAAANEAAAAAAAABEQAAAAAAAAERA5/up8dJtNUAAAAAAAMBCQAAAAAAAADlAAAAAAADAR0ASg8DKoaVBQAAAAAAAAElAtMh2vp+qQEC0yHa+n6pAQAAAAAAAwFJAc2iR7XxfOUAAAAAAAMAyQBkEVg4tkjxAEoPAyqGlQUBGtvP91DhGQClcj8L16EVAN4lBYOU4VkAAAAAAAABJQAAAAAAAAAAAAAAAAAAAOUAtsp3vp3ZAQMHKoUW2E0dA+FPjpZvEHkC4HoXrUQhDQLTIdr6fqkBAmG4Sg8CqMEBGtvP91DgmQAAAAAAAAAAAEoPAyqH1RUAAAAAAAMBCQAAAAAAAAAAA+n5qvHTzRUCR7Xw/NQ5CQG8Sg8DKcUNAAAAAAAAAPkAAAAAAAMBSQAAAAAAAAFlATDeJQWDVREBGtvP91DhGQKabxCCwqlBABFYOLbJtRUCmm8QgsKpQQPYoXI/CRUtAAAAAAAAAWUAAAAAAAMBSQKabxCCwqlBAAAAAAAAAPkAAAAAAAABOQLTIdr6fqkBAAAAAAADAQkAZBFYOLZI8QBkEVg4tkjxAAAAAAAAAOUCmm8QgsKpQQAAAAAAAADRAtMh2vp8qQ0AAAAAAAEBPQNnO91PjRTtAAAAAAAAAWUAAAAAAAABJQPp+arx021FA3SQGgZXjTEAAAAAAAAA5QAAAAAAAAERAi2zn+6kxOEAAAAAAAABZQAAAAAAAAElAAAAAAAAAAADRItv5fhpCQAAAAAAAAAAARrbz/dQ4RkC0yHa+n6pAQAAAAAAAAElApHA9CtdjSED8qfHSTRJQQAAAAAAAAAAAEFg5tMhOUUBzaJHtfO9AQKabxCCwqlBAAAAAAAAAOUBaZDvfT9VUQAAAAAAAAElAO99PjZcuQkDfT42XbpIsQLTIdr6fqkBASOF6FK6HJ0AAAAAAAAA+QEa28/3UODZAppvEILCqUEAAAAAAAABZQAAAAAAAAElAO99PjZcuQkC28/3UeGk9QL6fGi/dxD5AAAAAAAAAAAC0yHa+n6pAQAAAAAAAAFRARrbz/dQ4NkAEVg4tsm1FQAAAAAAAAFlAAAAAAAAASUAAAAAAAABUQIPAyqFFFjpAAAAAAAAAAACYbhKDwKowQGq8dJMYZDFAAAAAAAAANEDZzvdT40U7QAAAAAAAAE5AgZVDi2yHN0BGtvP91DhGQLTIdr6fqkBAAAAAAAAAWUDn+6nx0m0/QAAAAAAAADRAZDvfT42HR0Dn+6nx0j1BQLTIdr6fqkBAAAAAAAAAAAAAAAAAAABJQLTIdr6fqkBAmG4Sg8CqMEAAAAAAAABJQAAAAAAAAERAAAAAAAAATkAAAAAAAABJQAAAAAAAAClAAAAAAAAASUAAAAAAAAA0QAAAAAAAAElAi2zn+6lxOECmm8QgsKpQQAAAAAAAAAAAAAAAAAAAWUAAAAAAAAAAAIXrUbgexS5ASgwCK4cuUkC0yHa+n6pAQAAAAAAAAAAAAAAAAAAANEAAAAAAAAAAAAAAAAAAAFlAAAAAAAAATkBvEoPAynFDQKabxCCwqlBAAAAAAAAAOUAAAAAAAABEQAAAAAAAAElAAAAAAAAAOEAAAAAAAAA5QAAAAAAAAD5AAAAAAAAAOUAZBFYOLZI8QHe+nxovvTVAtMh2vp+qQEAAAAAAACA8QAAAAAAAAFRAAAAAAAAAAAAAAAAAAAApQAAAAAAAAAAAAAAAAAAANEBt5/up8fIyQK5H4XoUrjNAke18PzUeJUASg8DKoaUxQDVeukkMgi1AJQaBlUOrN0BI4XoUroc0QClcj8L1KCtA4XoUrkchM0CF61G4HoUqQDvfT42XTjdAnu+nxkvXMkAlBoGVQ8swQCGwcmiRbS9Asp3vp8YLLkAUrkfhejQ0QB1aZDvfDzBANV66SQwCMkCYbhKDwAoqQLx0kxgE1itAvp8aL92kN0AIrBxaZPsxQG8Sg8DKQTJA1XjpJjGIKUC6SQwCKwcrQOF6FK5HoTVAN4lBYOWQLUB7FK5H4botQJMYBFYO7SlAQmDl0CKbJ0A5tMh2vn8zQCPb+X5q/CxAO99PjZduLUASg8DKoQUoQPhT46WbZDBAWmQ7308tMkAEVg4tsj0xQIGVQ4tshzFAexSuR+EaMEDl0CLb+b4tQLx0kxgENjRA4XoUrkdhK0AQWDm0yPYpQDvfT42XLi9A6SYxCKw8M0CBlUOLbGcyQEw3iUFgZS5AxSCwcmgRK0D2KFyPwnUjQEjhehSuxy9ACtejcD1qNEDfT42XbpIsQMHKoUW2UzBAnu+nxkv3LEBI4XoUrmcxQH0/NV666TFAhetRuB7FLkCkcD0K12MtQA4tsp3v5ytA30+Nl27SMUB1kxgEVo4xQH0/NV66aTBAmpmZmZnZLUBcj8L1KJwrQMuhRbbznTJAO99PjZcuM0CwcmiR7XwtQA4tsp3v5y1AFK5H4XpULkC6SQwCKwcrQEjhehSuxzFAw/UoXI9CK0Aj2/l+avwtQFK4HoXrES9AEoPAyqFlMUA5tMh2vl8yQKJFtvP9NDFAqvHSTWKQK0DfT42XbrIwQAAAAAAAoDFA8tJNYhD4M0A3iUFg5dAuQPyp8dJNojJAFK5H4XoUK0Bg5dAi27kvQLbz/dR46TNAKVyPwvVIM0DByqFFthMxQIGVQ4tsZy9AiUFg5dAiLkD6fmq8dNMxQJqZmZmZWSxAObTIdr4fMECYbhKDwKowQP7UeOkmcStASgwCK4dWMUC8dJMYBJYrQDeJQWDlsDFAEFg5tMi2KUDhehSuR2EuQPCnxks3iTNAsp3vp8YLKUASg8DKoeUxQBsv3SQGITBAmpmZmZm5NEB/arx0k/gyQFyPwvUoPDBAaJHtfD9VMUDFILByaNEvQArXo3A9CjFAukkMAivnM0CF61G4HsUuQOxRuB6FyzFAAAAAAAAAMkD2KFyPwrUuQFCNl24SozRA6SYxCKwcM0AIrBxaZNsxQJHtfD813jJA16NwPQo3MkBkO99PjXcyQIGVQ4tsBzJAhxbZzvcTM0D4U+Olm8QxQHE9Ctej0DJAvp8aL93kNECHFtnO9zMzQHE9CtejkDJAGy/dJAahMEBeukkMAiswQCGwcmiRDTRAEoPAyqFFNEBoke18P/UyQI/C9ShcLzVA5/up8dItNUDjpZvEIFA0QHnpJjEIzDJADAIrhxbZM0A730+Nl441QAisHFpkezJAg8DKoUU2NkAAAAAAAKAzQIPAyqFFljBAI9v5fmqcN0CTGARWDs01QJ7vp8ZLlzZAgZVDi2ynMUArhxbZzvcxQDMzMzMzszFAUrgehesRNUA5tMh2vl8zQD81XrpJ7DNAzczMzMysNUCsHFpkO/8wQARWDi2yXTRAarx0kxjENkBeukkMAmsyQJ7vp8ZLlzZAZmZmZmbmMkAUrkfhenQ0QDvfT42XbjdADi2yne+nNEDLoUW28700QJhuEoPAKjJAJzEIrBx6NkDFILByaLE2QP7UeOkmsTNABoGVQ4usNECLbOf7qXEwQP7UeOkmMS9ADAIrhxaZN0Ce76fGS/c1QEjhehSuhzZAf2q8dJOYMUAX2c73U4M0QLgehetRmDdAObTIdr4fNUCLbOf7qdE3QPhT46WbZDJAHVpkO99PNEC+nxov3eQ0QOXQItv5njRA9ihcj8JVNUB56SYxCCwzQFYOLbKdbzRAarx0kxjEN0CHFtnO93M1QGq8dJMYxDRA8tJNYhB4N0B1kxgEVu4yQD81XrpJbDhAukkMAivHNkDjpZvEIJA2QAAAAAAAADRAmpmZmZkZNUArhxbZzrc3QCcxCKwcGjVA4XoUrkfBM0Dn+6nx0m01QHnpJjEI7DVAdZMYBFYOOUBoke18P/UzQHE9Ctej8DJA5dAi2/neNUC+nxov3cQ1QNejcD0KNzpAJQaBlUOrNECgGi/dJOYzQKjGSzeJQTRA0SLb+X7qN0AbL90kBgE4QARWDi2yPTZAQmDl0CI7NUDXo3A9CrczQArXo3A9ajVAFK5H4XrUOED6fmq8dPM1QOXQItv5PjVAQmDl0CK7NUAxCKwcWsQ1QJzEILByCDpAI9v5fmqcNkAX2c73UwM3QIGVQ4tsRzdAvp8aL90ENUAMAiuHFtk4QKRwPQrX4zZA9ihcj8JVNkBEi2zn+8k0QEjhehSuRzVAqMZLN4kBO0Bt5/up8fI2QDMzMzMzUzZAtMh2vp/6NUCF61G4HsU2QHE9CtejsDlAbef7qfESNkBU46WbxOA3QIlBYOXQYjZAL90kBoF1N0AEVg4tsn03QOf7qfHSLTtAN4lBYOXQNEArhxbZzrc2QNnO91PjJTdAmpmZmZk5PEBGtvP91Ng6QI2XbhKDYDdAqvHSTWJwOkAZBFYOLZI2QLKd76fGSztAmpmZmZn5N0DdJAaBlcM5QD81XrpJbDdA5dAi2/n+N0BxPQrXo1A7QARWDi2y/TtAukkMAisnOEArhxbZzhc5QAisHFpkGzpAuB6F61GYPUBU46WbxMA3QHWTGARWDjlAwcqhRbYTN0Bt5/up8RI5QNNNYhBY+T1AH4XrUbh+N0D0/dR46WY6QGiR7Xw/tThA9ihcj8K1OECamZmZmXk7QP7UeOkmkTpATmIQWDlUOUCiRbbz/TQ5QNv5fmq81DdAUrgehevxO0DjpZvEIFA4QAAAAAAA4DpASOF6FK5HNkBCYOXQIts3QH9qvHSTGD5AyXa+nxovPkD4U+Olm2Q+QBsv3SQGQTtA+FPjpZskO0DhehSuR8E9QKAaL90kZjpA+n5qvHQzPEC8dJMYBJY7QJMYBFYOjTlAMzMzMzOzPkAnMQisHPo9QCcxCKwcOjlAoBov3SRmPkAX2c73UwM6QEJg5dAi2z1ArBxaZDs/PEAZBFYOLRI6QJMYBFYOTT1AJQaBlUMrOkCmm8QgsJI7QLbz/dR4aTtA16NwPQr3OkDJdr6fGo88QMUgsHJo0TtA/Knx0k3iPUBt5/up8dI4QD0K16NwvTdAEoPAyqElPEBoke18P/U7QF66SQwCaz5AO99PjZcOPUBCYOXQIhs6QBkEVg4tkjpA2c73U+NFOkAIrBxaZBs+QGiR7Xw/tTpAiUFg5dBiPUAMAiuHFlk5QM/3U+OlOzpAf2q8dJPYP0A/NV66SWw8QDEIrBxa5DxAbxKDwMphPUAOLbKd7yc6QJHtfD81Xj9AeekmMQhMOkD6fmq8dNM8QFK4HoXrETpAH4XrUbj+OUDLoUW28/08QGIQWDm0iDpAYOXQItuZOkDP91PjpVs7QDvfT42XLjlASOF6FK4XQED0/dR46eY7QDEIrBxa5DtAQmDl0CK7O0C+nxov3WQ8QAaBlUOLjEBA+n5qvHTTPUBWDi2ynY88QKjGSzeJIT5A/tR46SYxPkA1XrpJDEJAQArXo3A9aj9AkxgEVg4tP0Dn+6nx0n1AQAaBlUOLzDtAzczMzMxcQEAdWmQ73+89QMuhRbbz/TtAsp3vp8brPUBcj8L1KFw8QCcxCKwcikBAMQisHFpkPkCmm8QgsLI8QD81XrpJDD9AF9nO91OjOkDn+6nx0m09QLByaJHtHD5AtMh2vp/aOkAQWDm0yHY7QMdLN4lBwD1AqvHSTWJgQECmm8QgsJI7QPLSTWIQWD1AnMQgsHKIPUBaZDvfTw07QB1aZDvfP0BA2c73U+PFPUBxPQrXo/A9QARWDi2y/T1A+FPjpZsEPUAnMQisHPo/QOOlm8Qg0D9ALbKd76cmQEBI4XoUrkc9QFTjpZvEgDxAVOOlm8QAQUDFILByaJE/QIts5/up8T1A+FPjpZuEPEDy0k1iEFg+QGIQWDm0eEBAj8L1KFzPPkDhehSuR2E/QE5iEFg5VD1ABoGVQ4uMPUA730+Nl+49QPYoXI/CtT5A30+Nl25SP0DufD81Xpo8QI/C9ShcDztAYOXQItuJQECTGARWDn1AQI2XbhKDwD5A9ihcj8JVPkA1XrpJDMI9QPYoXI/CNUFANV66SQzCPEAEVg4tss1AQPCnxks3aT5AEFg5tMg2PkA9CtejcN0/QK5H4XoU7j1AHVpkO99PQEBYObTIdv47QH9qvHST2D5ATmIQWDk0QkAlBoGVQ0tAQH0/NV66SUBAsp3vp8YrP0C28/3UeIk+QKRwPQrXo0BA5/up8dJtPUBCYOXQIns/QJzEILBy6D9ArkfhehSOPUApXI/C9Qg/QO58PzVeSkBAAAAAAADAPkD+1HjpJhE/QA4tsp3vpz5A/Knx0k2yQUAnMQisHGpAQOF6FK5HgT1ACKwcWmS7P0CYbhKDwCo+QLByaJHtfEBApHA9CtcDPkBKDAIrh7Y/QPyp8dJNAkBAyXa+nxqPPEAQWDm0yAZBQMHKoUW2Uz5AUI2XbhKDPUAQWDm0yAZAQGDl0CLbmT9ArBxaZDufQUAQWDm0yFY+QESLbOf7aT9A0SLb+X7KPkAv3SQGgbVAQL6fGi/dNEJAxSCwcmhxP0CWQ4ts51tAQOf7qfHSLT5A4XoUrkcBPkAbL90kBsE+QHnpJjEIXEBAPzVeukksP0CBlUOLbAc/QPYoXI/CtT5AmG4Sg8AqQUBWDi2ynS8/QDm0yHa+Xz5AEFg5tMi2PUAxCKwcWuQ9QO58PzVeakFAWDm0yHY+QECWQ4ts52tBQI2XbhKDoEBAarx0kxjEPUDl0CLb+W5AQEoMAiuHVj9AjZduEoMgP0AX2c73U2M7QPT91HjpFkBAIbByaJENQkBU46WbxDBAQDeJQWDlYEFAtMh2vp+qQEA5tMh2vj89QKwcWmQ7P0JAj8L1KFyPQEDjpZvEIFBAQOkmMQisfD9Asp3vp8YrPUDjpZvEIFBAQM/3U+OlK0NAke18PzV+QEArhxbZzpc+QCuHFtnOZ0BAQmDl0CJLQkBOYhBYOTRAQLTIdr6fSkBA0SLb+X4KQEAbL90kBoE/QJqZmZmZmUJA1XjpJjHIQECTGARWDo0/QKabxCCwYkBASgwCK4d2QEBg5dAi2+lBQB1aZDvfT0BAIbByaJHNP0CBlUOLbOc+QJhuEoPAqj5AEoPAyqElQ0CiRbbz/bRAQOOlm8QgEEFASOF6FK53QEBvEoPAyvFAQAwCK4cW2UNAhetRuB6lQUD+1HjpJhFBQFK4HoXrkUBAXI/C9SjcPUCsHFpkOz9CQH0/NV66yUBAke18PzUOQUBvEoPAysE7QHWTGARWrkBAaJHtfD/VQkApXI/C9eg+QH0/NV66+UBA5dAi2/kOQUACK4cW2Q5AQMHKoUW2A0NAAAAAAACQQUBeukkMAptAQBsv3SQGoUFAke18PzXeP0Dn+6nx0j1DQBKDwMqhRUBA9ihcj8LlQEAj2/l+akxAQGIQWDm0KD9AsHJoke0MREDn+6nx0s0/QGDl0CLb+T9AMzMzMzPjQECiRbbz/TRCQBfZzvdTM0NA7nw/NV6KQUC0yHa+n7pBQBfZzvdTgz9A30+Nl26SPUAOLbKd7+dAQD0K16NwfT1Ax0s3iUFwQUCNl24Sg3BCQBSuR+F6REBA2c73U+O1Q0C0yHa+n/pAQHe+nxovjUBAAAAAAADwQUB3vp8aL21AQJqZmZmZSURA6SYxCKw8QEBkO99PjedBQN9PjZdu4kFAHVpkO99vQUAv3SQGgdVCQHe+nxovHT5A7FG4HoWbQECTGARWDh1BQNv5fmq8BEFAIbByaJH9Q0Av3SQGgeVBQN9PjZdu8j9Anu+nxkunQUCR7Xw/NQ5DQF66SQwCm0RA6SYxCKxsQUBSuB6F63FBQDeJQWDlgEFAAiuHFtnuQUACK4cW2T5CQPLSTWIQuEBAc2iR7XxfQUB9PzVeuklBQG8Sg8DKkUFAarx0kxhEQ0D+1HjpJjE/QP7UeOkmIUJAhxbZzvejQUDTTWIQWIlAQM3MzMzMXERA16NwPQonQkBeukkMAmtAQKAaL90k5kNAtvP91HipQkBiEFg5tAhDQDvfT42XLkJAGQRWDi2yQkCoxks3ieFAQMdLN4lBUEFAN4lBYOWgQ0Bt5/up8RJCQCGwcmiRvUFAWmQ7308tQUC0yHa+n3pCQH0/NV66iUNAUI2XbhKzQUCHFtnO9+NAQPyp8dJNEkFAtvP91HgpQkB1kxgEVj5CQOxRuB6Fy0NAxSCwcmiBQkCiRbbz/VRDQE5iEFg5FEFAoBov3SSGREB9PzVeunlDQAisHFpk20JA6SYxCKyMQUBYObTIdh5CQClcj8L1+ENA9P3UeOlmQUAxCKwcWoRCQNejcD0Kd0JAukkMAisHQ0B/arx0kwhDQIlBYOXQkkFAqMZLN4nRQUB/arx0kwhCQIGVQ4tsd0JAObTIdr7fQ0ApXI/C9VhCQLx0kxgENkNAFK5H4XpUQ0A9CtejcD1CQEw3iUFg9UVALbKd76cGQkDXo3A9CqdCQGZmZmZmlkFA7FG4HoWLQkB9PzVeuklDQMdLN4lBMENAlkOLbOeLQUDXo3A9CmdEQH9qvHSTaEJAN4lBYOWAQ0CamZmZmUlBQG8Sg8DKkUFAcT0K16MQQUDLoUW2841AQFpkO99PTUVAUrgehetxREACK4cW2d5BQBKDwMqh5UBAg8DKoUXmQUBoke18P0VDQD81XrpJ3EBAYhBYObRoQUAMAiuHFllDQIlBYOXQQkJAtvP91Hg5RUA730+Nl85DQK5H4XoU7kJA2/l+arzkQEBiEFg5tKhCQO58PzVemkRAAiuHFtkeQkCPwvUoXE9CQEJg5dAii0JAEoPAyqG1QUCLbOf7qVFDQMdLN4lBEENAIbByaJFdQ0A/NV66SSxCQOXQItv5HkNAEFg5tMiGREBeukkMAhtDQEa28/3USEJA8KfGSzdZQkCJQWDl0CJCQAwCK4cWuURAUI2XbhLjQkDwp8ZLN4lCQIGVQ4ts10NAppvEILDiQkCcxCCwcvhDQK5H4XoUHkNAPzVeuknsQUBWDi2ynS9BQNEi2/l+KkNAjZduEoPgREDNzMzMzCxCQHWTGARWzkFA46WbxCDwQUASg8DKodVBQNnO91PjdUVAqvHSTWJwQkCwcmiR7YxCQKjGSzeJAUJAyXa+nxqPQkBWDi2yna9DQHE9CtejAEJAfT81XrqJQUDVeOkmMVhCQI2XbhKDUENAUrgeheuxREBQjZduEtNDQGIQWDm0iEJAbef7qfECQkBiEFg5tNhDQBkEVg4tUkVAYOXQItsZQkDy0k1iEJhDQLbz/dR4qUFAppvEILDSQUBqvHSTGEREQEw3iUFg5UJAlkOLbOc7Q0BxPQrXowBDQArXo3A96kFADi2yne8nRUDByqFFtlNEQJqZmZmZeUFAukkMAisXQkDRItv5fqpCQMl2vp8a/0RAokW28/0kQ0Ce76fGSydEQHe+nxovLUFAmpmZmZnZQkCiRbbz/VRCQMl2vp8az0FA+FPjpZvkQ0CuR+F6FN5BQIXrUbgeRUFAdZMYBFZORUC28/3UeOlCQC/dJAaBdUJA46WbxCBQQUBxPQrXo+BBQNv5fmq85ERAI9v5fmpsQ0CamZmZmVlDQIPAyqFFpkJAaJHtfD/FQkDZzvdT45VDQCUGgZVDu0JAPQrXo3CtQkDHSzeJQYBCQF66SQwCu0FA8KfGSzfJRUCq8dJNYqBCQIts5/upMUNAdZMYBFZ+QUCkcD0K19NCQC2yne+nxkVABFYOLbK9QkCTGARWDq1DQEjhehSup0JAMQisHFoURECgGi/dJMZDQFpkO99PPUJAJzEIrBzqQkDwp8ZLN6lDQHsUrkfhWkJAH4XrUbgeREAv3SQGgSVCQB1aZDvf/0JAPQrXo3B9QkC6SQwCK5dEQJZDi2znK0RA8tJNYhAIRECoxks3iRFEQGDl0CLbqURA8KfGSzdJQ0CNl24Sg/BDQFCNl24S00JA6SYxCKy8QkAhsHJokQ1DQESLbOf7WUFAFK5H4XpkRECe76fGS9dBQHE9CtejcEFAMQisHFo0RUCHFtnO9zNCQEoMAiuHZkRAbxKDwMohQkBKDAIrh+ZCQG3n+6nx0kFAvHSTGARmQkBzaJHtfH9DQPLSTWIQWEJA2c73U+MVREBvEoPAyrFDQJ7vp8ZL50JADi2yne9nRUAnMQisHHpEQBKDwMqhBUNA001iEFjpQkAhsHJokU1DQI2XbhKDUERALbKd76dGQ0DP91PjpUtCQN9PjZduwkNAXI/C9SgMQ0Boke18PzVEQB1aZDvfD0RA9P3UeOlWQ0CWQ4ts57tCQC2yne+n5kNAppvEILAyRkBEi2zn+9lBQNV46SYxGENAfT81XroZREDP91PjpatCQJzEILBy6ERAMzMzMzOjQ0CWQ4ts5/tDQLbz/dR4yUNA2c73U+PVQ0BeukkMAttEQIXrUbgeFUJAke18PzUOREC+nxov3aRDQIlBYOXQAkJArkfhehQ+RUAnMQisHPpCQH0/NV662UJAf2q8dJNIREBaZDvfTz1DQE5iEFg5NEZAi2zn+6mRQ0BKDAIrhzZDQOOlm8QggEJAWDm0yHbORED6fmq8dANFQFg5tMh2jkNAvp8aL91UQ0BI4XoUrvdCQC/dJAaBhUNAcT0K16OAR0CuR+F6FO5EQGZmZmZmJkVAokW28/30REBKDAIrh3ZDQOxRuB6F20ZARrbz/dR4REArhxbZzsdDQClcj8L1SERA8tJNYhAIQ0B1kxgEVj5GQFpkO99PDURAkxgEVg5dRUDTTWIQWDlEQDMzMzMzw0ZA2c73U+OFR0D2KFyPwlVFQBBYObTIpkNA5dAi2/meREC8dJMYBNZDQJqZmZmZqUZAtMh2vp/aREBkO99PjTdGQIcW2c7300RAUrgeheshRECyne+nxptGQAaBlUOLbEZAiUFg5dDCRUDl0CLb+V5CQD0K16NwDUVAxSCwcmhRR0BaZDvfT31EQAAAAAAAQEJAH4XrUbg+REAOLbKd7zdDQPp+arx0U0dAiUFg5dACREA5tMh2vk9FQLbz/dR4iURAhxbZzvczRECR7Xw/NZ5FQIXrUbgexUJA/Knx0k3yRECcxCCwcmhEQBfZzvdTY0RAEoPAyqFlRkCgGi/dJCZDQJzEILByKERAVOOlm8RwREAIrBxaZOtDQHNoke18z0VAsHJoke1MRkD4U+Olm0REQOF6FK5H8URAN4lBYOWQREDHSzeJQTBFQF66SQwCu0RAVg4tsp1fRUA730+Nl25CQPLSTWIQ6ENA+n5qvHQjRkCBlUOLbNdEQL6fGi/dRERA/tR46SaRQ0CcxCCwcrhEQOf7qfHSzUVAObTIdr6/REAZBFYOLQJDQEoMAiuH9kJAZDvfT42nRECWQ4ts56tFQArXo3A92kRABFYOLbJtRUBoke18PzVDQEoMAiuH5kJAGQRWDi1CRkAnMQisHMpEQJZDi2zni0ZAhxbZzvdjRUB56SYxCFxCQMHKoUW200RARrbz/dQoRUCHFtnO9/NDQJzEILByiERAPzVeuknMQ0Dl0CLb+V5FQJqZmZmZaUJAy6FFtvMdRUAtsp3vp5ZDQKwcWmQ7L0NATDeJQWBFRUCNl24Sg/BEQGiR7Xw/FURA5dAi2/kuQ0A9CtejcE1FQHWTGARWfkVAXrpJDAL7QkD0/dR46bZCQDvfT42XnkNATDeJQWBVRUCq8dJNYuBEQA4tsp3vl0JAGy/dJAZhREDl0CLb+f5CQFTjpZvEwEBAtvP91Hh5RUDb+X5qvBRFQGQ730+N50RA+n5qvHSzREDHSzeJQWBEQJZDi2zna0VADi2yne8nRUBzaJHtfA9FQLpJDAIrh0RADAIrhxYpREDdJAaBlbNEQARWDi2yfURAUrgehesxREDVeOkmMYhFQPLSTWIQyEVAw/UoXI+iRUAQWDm0yNZEQKjGSzeJkURAnu+nxkt3REDFILByaLFCQDeJQWDloEZAGQRWDi1yRUAAAAAAAABEQDEIrBxalERAgZVDi2x3RECDwMqhRfZFQBKDwMqhxUdARrbz/dTYRUD0/dR46XZDQAIrhxbZrkVAnMQgsHLoREAAAAAAAABFQD0K16Nw/UJA8tJNYhDYQkA730+Nl55DQA4tsp3vV0VAHVpkO9/PRUCwcmiR7VxDQMUgsHJogUZAVOOlm8QgREB7FK5H4dpEQFTjpZvEQERAlkOLbOf7QkAK16NwPVpFQIGVQ4tsJ0VARrbz/dSYRkDfT42XbuJCQPT91Hjp9kNAbef7qfGiREC+nxov3QRFQIts5/upgUZAx0s3iUHwRECsHFpkO+9FQLKd76fGq0ZAtMh2vp+qREBGtvP91DhGQKRwPQrXs0VAtMh2vp86REA3iUFg5WBFQOXQItv5PkNAYOXQIttZRkD0/dR46SZCQLgehetRyEFANV66SQwyQ0DHSzeJQYBCQIlBYOXQckhAtMh2vp+qRUA1XrpJDBJCQP7UeOkmgUNAUI2XbhJjRECLbOf7qaFHQDeJQWDlUEJAJzEIrBzKRED8qfHSTTJDQG3n+6nxQkRAzczMzMwsSUDfT42XbrJDQI2XbhKDkERAf2q8dJOIQkBeukkMArtDQD81XrpJrElAZmZmZmbGQECcxCCwcihFQPhT46WbtEVAd76fGi9dRUB56SYxCKxGQJhuEoPASkRAJzEIrBzaRUAhsHJokQ1IQCuHFtnOF0ZAN4lBYOVwSUAK16NwPUpDQOf7qfHS7UNAukkMAisXR0CJQWDl0FJCQGZmZmZmBkZA2/l+aryEQkDl0CLb+R5GQKabxCCwkkFA+n5qvHSTRkDLoUW28y1HQO58PzVe2kNAf2q8dJNoRUAAAAAAAIBDQD0K16NwTURA/Knx0k2SRkBWDi2ynR9FQKJFtvP9dEVA5/up8dLNQUC8dJMYBMZEQPYoXI/CRUZASgwCK4dGREAAAAAAAMBCQPYoXI/CRURAJzEIrBxqQ0DjpZvEIOBDQGiR7Xw/FUJAhetRuB5FQ0AlBoGVQ4tAQDeJQWDlQENA30+Nl27CQ0BI4XoUridDQG8Sg8DK8UJA7nw/NV6KQEAEVg4tsp1BQOF6FK5HIUVADAIrhxYpQkCcxCCwcmhCQNNNYhBYaURAbxKDwMpxQ0BU46WbxLBDQA4tsp3vh0RAAAAAAAAARkBU46WbxGBDQIcW2c73w0NAN4lBYOWARUDD9Shcj0JDQDeJQWDl8ERAg8DKoUXGREBaZDvfT71DQIlBYOXQQkZAx0s3iUFwQUB3vp8aL81FQCGwcmiRfUVAf2q8dJMoQ0DHSzeJQeBDQP7UeOkm0UJAF9nO91PDQEAGgZVDi4xGQAAAAAAAAElAarx0kxhkQ0D0/dR46aZFQFTjpZvEEEZAukkMAiuXRkBWDi2ynW9BQOXQItv5nkNAdZMYBFYeREDhehSuRzFEQH9qvHST2EJAzczMzMysRUC+nxov3ZRDQNv5fmq8xEVAbef7qfGiR0C+nxov3URGQAIrhxbZPkRA30+Nl26CREDByqFFthNHQDm0yHa+T0VAwcqhRbajSkCwcmiR7TxEQGq8dJMYtEJAJQaBlUP7QkDpJjEIrHw9QD0K16NwDUVAAAAAAAAASUAMAiuHFilCQDvfT42XLkJAKVyPwvXYRkBt5/up8XJGQB+F61G4TkFAgZVDi2yXQ0BvEoPAynFDQMHKoUW2w0VA3SQGgZXjQkC8dJMYBKZCQGIQWDm0eERAPQrXo3ANRUBWDi2ynW9GQESLbOf7SUZA+FPjpZs0REBmZmZmZvZDQARWDi2ybUVAJzEIrBzaRUB/arx0k9hHQMl2vp8ar0JAgZVDi2yXREBQjZduEoNDQBKDwMqh9UVAzczMzMx8RUBU46WbxMBFQAAAAAAAAEJACtejcD1KREDTTWIQWJlIQPyp8dJNkkdAuB6F61FoRkA=",
          "dtype": "f8"
         },
         "yaxis": "y"
        },
        {
         "hovertemplate": "Delay Type=Arrival_Delay_Percentage<br>Scheduled Departure Time=%{x}<br>Delay Percentage (%)=%{y}<extra></extra>",
         "legendgroup": "Arrival_Delay_Percentage",
         "line": {
          "color": "#EF553B",
          "dash": "solid"
         },
         "marker": {
          "symbol": "circle"
         },
         "mode": "lines",
         "name": "Arrival_Delay_Percentage",
         "showlegend": true,
         "type": "scattergl",
         "x": {
          "bdata": "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",
          "dtype": "i2"
         },
         "xaxis": "x",
         "y": {
          "bdata": "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",
          "dtype": "f8"
         },
         "yaxis": "y"
        }
       ],
       "layout": {
        "legend": {
         "title": {
          "text": "Delay Type"
         },
         "tracegroupgap": 0
        },
        "template": {
         "data": {
          "bar": [
           {
            "error_x": {
             "color": "#2a3f5f"
            },
            "error_y": {
             "color": "#2a3f5f"
            },
            "marker": {
             "line": {
              "color": "#E5ECF6",
              "width": 0.5
             },
             "pattern": {
              "fillmode": "overlay",
              "size": 10,
              "solidity": 0.2
             }
            },
            "type": "bar"
           }
          ],
          "barpolar": [
           {
            "marker": {
             "line": {
              "color": "#E5ECF6",
              "width": 0.5
             },
             "pattern": {
              "fillmode": "overlay",
              "size": 10,
              "solidity": 0.2
             }
            },
            "type": "barpolar"
           }
          ],
          "carpet": [
           {
            "aaxis": {
             "endlinecolor": "#2a3f5f",
             "gridcolor": "white",
             "linecolor": "white",
             "minorgridcolor": "white",
             "startlinecolor": "#2a3f5f"
            },
            "baxis": {
             "endlinecolor": "#2a3f5f",
             "gridcolor": "white",
             "linecolor": "white",
             "minorgridcolor": "white",
             "startlinecolor": "#2a3f5f"
            },
            "type": "carpet"
           }
          ],
          "choropleth": [
           {
            "colorbar": {
             "outlinewidth": 0,
             "ticks": ""
            },
            "type": "choropleth"
           }
          ],
          "contour": [
           {
            "colorbar": {
             "outlinewidth": 0,
             "ticks": ""
            },
            "colorscale": [
             [
              0,
              "#0d0887"
             ],
             [
              0.1111111111111111,
              "#46039f"
             ],
             [
              0.2222222222222222,
              "#7201a8"
             ],
             [
              0.3333333333333333,
              "#9c179e"
             ],
             [
              0.4444444444444444,
              "#bd3786"
             ],
             [
              0.5555555555555556,
              "#d8576b"
             ],
             [
              0.6666666666666666,
              "#ed7953"
             ],
             [
              0.7777777777777778,
              "#fb9f3a"
             ],
             [
              0.8888888888888888,
              "#fdca26"
             ],
             [
              1,
              "#f0f921"
             ]
            ],
            "type": "contour"
           }
          ],
          "contourcarpet": [
           {
            "colorbar": {
             "outlinewidth": 0,
             "ticks": ""
            },
            "type": "contourcarpet"
           }
          ],
          "heatmap": [
           {
            "colorbar": {
             "outlinewidth": 0,
             "ticks": ""
            },
            "colorscale": [
             [
              0,
              "#0d0887"
             ],
             [
              0.1111111111111111,
              "#46039f"
             ],
             [
              0.2222222222222222,
              "#7201a8"
             ],
             [
              0.3333333333333333,
              "#9c179e"
             ],
             [
              0.4444444444444444,
              "#bd3786"
             ],
             [
              0.5555555555555556,
              "#d8576b"
             ],
             [
              0.6666666666666666,
              "#ed7953"
             ],
             [
              0.7777777777777778,
              "#fb9f3a"
             ],
             [
              0.8888888888888888,
              "#fdca26"
             ],
             [
              1,
              "#f0f921"
             ]
            ],
            "type": "heatmap"
           }
          ],
          "histogram": [
           {
            "marker": {
             "pattern": {
              "fillmode": "overlay",
              "size": 10,
              "solidity": 0.2
             }
            },
            "type": "histogram"
           }
          ],
          "histogram2d": [
           {
            "colorbar": {
             "outlinewidth": 0,
             "ticks": ""
            },
            "colorscale": [
             [
              0,
              "#0d0887"
             ],
             [
              0.1111111111111111,
              "#46039f"
             ],
             [
              0.2222222222222222,
              "#7201a8"
             ],
             [
              0.3333333333333333,
              "#9c179e"
             ],
             [
              0.4444444444444444,
              "#bd3786"
             ],
             [
              0.5555555555555556,
              "#d8576b"
             ],
             [
              0.6666666666666666,
              "#ed7953"
             ],
             [
              0.7777777777777778,
              "#fb9f3a"
             ],
             [
              0.8888888888888888,
              "#fdca26"
             ],
             [
              1,
              "#f0f921"
             ]
            ],
            "type": "histogram2d"
           }
          ],
          "histogram2dcontour": [
           {
            "colorbar": {
             "outlinewidth": 0,
             "ticks": ""
            },
            "colorscale": [
             [
              0,
              "#0d0887"
             ],
             [
              0.1111111111111111,
              "#46039f"
             ],
             [
              0.2222222222222222,
              "#7201a8"
             ],
             [
              0.3333333333333333,
              "#9c179e"
             ],
             [
              0.4444444444444444,
              "#bd3786"
             ],
             [
              0.5555555555555556,
              "#d8576b"
             ],
             [
              0.6666666666666666,
              "#ed7953"
             ],
             [
              0.7777777777777778,
              "#fb9f3a"
             ],
             [
              0.8888888888888888,
              "#fdca26"
             ],
             [
              1,
              "#f0f921"
             ]
            ],
            "type": "histogram2dcontour"
           }
          ],
          "mesh3d": [
           {
            "colorbar": {
             "outlinewidth": 0,
             "ticks": ""
            },
            "type": "mesh3d"
           }
          ],
          "parcoords": [
           {
            "line": {
             "colorbar": {
              "outlinewidth": 0,
              "ticks": ""
             }
            },
            "type": "parcoords"
           }
          ],
          "pie": [
           {
            "automargin": true,
            "type": "pie"
           }
          ],
          "scatter": [
           {
            "fillpattern": {
             "fillmode": "overlay",
             "size": 10,
             "solidity": 0.2
            },
            "type": "scatter"
           }
          ],
          "scatter3d": [
           {
            "line": {
             "colorbar": {
              "outlinewidth": 0,
              "ticks": ""
             }
            },
            "marker": {
             "colorbar": {
              "outlinewidth": 0,
              "ticks": ""
             }
            },
            "type": "scatter3d"
           }
          ],
          "scattercarpet": [
           {
            "marker": {
             "colorbar": {
              "outlinewidth": 0,
              "ticks": ""
             }
            },
            "type": "scattercarpet"
           }
          ],
          "scattergeo": [
           {
            "marker": {
             "colorbar": {
              "outlinewidth": 0,
              "ticks": ""
             }
            },
            "type": "scattergeo"
           }
          ],
          "scattergl": [
           {
            "marker": {
             "colorbar": {
              "outlinewidth": 0,
              "ticks": ""
             }
            },
            "type": "scattergl"
           }
          ],
          "scattermap": [
           {
            "marker": {
             "colorbar": {
              "outlinewidth": 0,
              "ticks": ""
             }
            },
            "type": "scattermap"
           }
          ],
          "scattermapbox": [
           {
            "marker": {
             "colorbar": {
              "outlinewidth": 0,
              "ticks": ""
             }
            },
            "type": "scattermapbox"
           }
          ],
          "scatterpolar": [
           {
            "marker": {
             "colorbar": {
              "outlinewidth": 0,
              "ticks": ""
             }
            },
            "type": "scatterpolar"
           }
          ],
          "scatterpolargl": [
           {
            "marker": {
             "colorbar": {
              "outlinewidth": 0,
              "ticks": ""
             }
            },
            "type": "scatterpolargl"
           }
          ],
          "scatterternary": [
           {
            "marker": {
             "colorbar": {
              "outlinewidth": 0,
              "ticks": ""
             }
            },
            "type": "scatterternary"
           }
          ],
          "surface": [
           {
            "colorbar": {
             "outlinewidth": 0,
             "ticks": ""
            },
            "colorscale": [
             [
              0,
              "#0d0887"
             ],
             [
              0.1111111111111111,
              "#46039f"
             ],
             [
              0.2222222222222222,
              "#7201a8"
             ],
             [
              0.3333333333333333,
              "#9c179e"
             ],
             [
              0.4444444444444444,
              "#bd3786"
             ],
             [
              0.5555555555555556,
              "#d8576b"
             ],
             [
              0.6666666666666666,
              "#ed7953"
             ],
             [
              0.7777777777777778,
              "#fb9f3a"
             ],
             [
              0.8888888888888888,
              "#fdca26"
             ],
             [
              1,
              "#f0f921"
             ]
            ],
            "type": "surface"
           }
          ],
          "table": [
           {
            "cells": {
             "fill": {
              "color": "#EBF0F8"
             },
             "line": {
              "color": "white"
             }
            },
            "header": {
             "fill": {
              "color": "#C8D4E3"
             },
             "line": {
              "color": "white"
             }
            },
            "type": "table"
           }
          ]
         },
         "layout": {
          "annotationdefaults": {
           "arrowcolor": "#2a3f5f",
           "arrowhead": 0,
           "arrowwidth": 1
          },
          "autotypenumbers": "strict",
          "coloraxis": {
           "colorbar": {
            "outlinewidth": 0,
            "ticks": ""
           }
          },
          "colorscale": {
           "diverging": [
            [
             0,
             "#8e0152"
            ],
            [
             0.1,
             "#c51b7d"
            ],
            [
             0.2,
             "#de77ae"
            ],
            [
             0.3,
             "#f1b6da"
            ],
            [
             0.4,
             "#fde0ef"
            ],
            [
             0.5,
             "#f7f7f7"
            ],
            [
             0.6,
             "#e6f5d0"
            ],
            [
             0.7,
             "#b8e186"
            ],
            [
             0.8,
             "#7fbc41"
            ],
            [
             0.9,
             "#4d9221"
            ],
            [
             1,
             "#276419"
            ]
           ],
           "sequential": [
            [
             0,
             "#0d0887"
            ],
            [
             0.1111111111111111,
             "#46039f"
            ],
            [
             0.2222222222222222,
             "#7201a8"
            ],
            [
             0.3333333333333333,
             "#9c179e"
            ],
            [
             0.4444444444444444,
             "#bd3786"
            ],
            [
             0.5555555555555556,
             "#d8576b"
            ],
            [
             0.6666666666666666,
             "#ed7953"
            ],
            [
             0.7777777777777778,
             "#fb9f3a"
            ],
            [
             0.8888888888888888,
             "#fdca26"
            ],
            [
             1,
             "#f0f921"
            ]
           ],
           "sequentialminus": [
            [
             0,
             "#0d0887"
            ],
            [
             0.1111111111111111,
             "#46039f"
            ],
            [
             0.2222222222222222,
             "#7201a8"
            ],
            [
             0.3333333333333333,
             "#9c179e"
            ],
            [
             0.4444444444444444,
             "#bd3786"
            ],
            [
             0.5555555555555556,
             "#d8576b"
            ],
            [
             0.6666666666666666,
             "#ed7953"
            ],
            [
             0.7777777777777778,
             "#fb9f3a"
            ],
            [
             0.8888888888888888,
             "#fdca26"
            ],
            [
             1,
             "#f0f921"
            ]
           ]
          },
          "colorway": [
           "#636efa",
           "#EF553B",
           "#00cc96",
           "#ab63fa",
           "#FFA15A",
           "#19d3f3",
           "#FF6692",
           "#B6E880",
           "#FF97FF",
           "#FECB52"
          ],
          "font": {
           "color": "#2a3f5f"
          },
          "geo": {
           "bgcolor": "white",
           "lakecolor": "white",
           "landcolor": "#E5ECF6",
           "showlakes": true,
           "showland": true,
           "subunitcolor": "white"
          },
          "hoverlabel": {
           "align": "left"
          },
          "hovermode": "closest",
          "mapbox": {
           "style": "light"
          },
          "paper_bgcolor": "white",
          "plot_bgcolor": "#E5ECF6",
          "polar": {
           "angularaxis": {
            "gridcolor": "white",
            "linecolor": "white",
            "ticks": ""
           },
           "bgcolor": "#E5ECF6",
           "radialaxis": {
            "gridcolor": "white",
            "linecolor": "white",
            "ticks": ""
           }
          },
          "scene": {
           "xaxis": {
            "backgroundcolor": "#E5ECF6",
            "gridcolor": "white",
            "gridwidth": 2,
            "linecolor": "white",
            "showbackground": true,
            "ticks": "",
            "zerolinecolor": "white"
           },
           "yaxis": {
            "backgroundcolor": "#E5ECF6",
            "gridcolor": "white",
            "gridwidth": 2,
            "linecolor": "white",
            "showbackground": true,
            "ticks": "",
            "zerolinecolor": "white"
           },
           "zaxis": {
            "backgroundcolor": "#E5ECF6",
            "gridcolor": "white",
            "gridwidth": 2,
            "linecolor": "white",
            "showbackground": true,
            "ticks": "",
            "zerolinecolor": "white"
           }
          },
          "shapedefaults": {
           "line": {
            "color": "#2a3f5f"
           }
          },
          "ternary": {
           "aaxis": {
            "gridcolor": "white",
            "linecolor": "white",
            "ticks": ""
           },
           "baxis": {
            "gridcolor": "white",
            "linecolor": "white",
            "ticks": ""
           },
           "bgcolor": "#E5ECF6",
           "caxis": {
            "gridcolor": "white",
            "linecolor": "white",
            "ticks": ""
           }
          },
          "title": {
           "x": 0.05
          },
          "xaxis": {
           "automargin": true,
           "gridcolor": "white",
           "linecolor": "white",
           "ticks": "",
           "title": {
            "standoff": 15
           },
           "zerolinecolor": "white",
           "zerolinewidth": 2
          },
          "yaxis": {
           "automargin": true,
           "gridcolor": "white",
           "linecolor": "white",
           "ticks": "",
           "title": {
            "standoff": 15
           },
           "zerolinecolor": "white",
           "zerolinewidth": 2
          }
         }
        },
        "title": {
         "text": "Impact of Scheduled Departure Time on Delay Percentages"
        },
        "xaxis": {
         "anchor": "y",
         "domain": [
          0,
          1
         ],
         "title": {
          "text": "Scheduled Departure Time"
         }
        },
        "yaxis": {
         "anchor": "x",
         "domain": [
          0,
          1
         ],
         "title": {
          "text": "Delay Percentage (%)"
         }
        }
       }
      }
     },
     "metadata": {},
     "output_type": "display_data"
    }
   ],
   "source": [
    "fig_time_delay = px.line(\n",
    "    result10,\n",
    "    x = 'CRS_DEP_TIME',\n",
    "    y = ['Departure_Delay_Percentage', 'Arrival_Delay_Percentage'],\n",
    "    title = 'Impact of Scheduled Departure Time on Delay Percentages',\n",
    "    labels = {\n",
    "        'CRS_DEP_TIME': 'Scheduled Departure Time',\n",
    "        'value': 'Delay Percentage (%)',\n",
    "        'variable': 'Delay Type'\n",
    "    }\n",
    ")\n",
    "fig_time_delay.show()\n"
   ]
  },
  {
   "cell_type": "markdown",
   "metadata": {},
   "source": [
    "* Across **1384 unique scheduled departure times**, delays show a spike during certain hours.\n",
    "* Time slots like **3 AM, 4 AM, 11 PM–midnight** show high delay percentages (>50%).\n",
    "* However, most extreme delay windows are **small-volume slots**, suggesting noise in some time ranges."
   ]
  },
  {
   "cell_type": "markdown",
   "metadata": {},
   "source": [
    "**Insight**: Departure delays are **not uniformly distributed across the day** — targeted slot analysis could help optimize scheduling and staffing."
   ]
  }
 ],
 "metadata": {
  "colab": {
   "collapsed_sections": [
    "iufYVKIvD_nt",
    "o1TE_8eNEDEJ",
    "GQw8PRTKEHxC",
    "Q2Rip0IH2U4R",
    "5tux_SLREKV7",
    "IhblEDkU1JXu",
    "e23hB2CrwSYM",
    "vJRo-JpV1Idp",
    "9JP_CybM1ybx",
    "BipNtxyC2KgZ",
    "7EuaJ7651kYr",
    "Qo-paxgF4mID",
    "aU34J9Hq4lf_",
    "rjXqRBKV4lGv"
   ],
   "provenance": []
  },
  "kernelspec": {
   "display_name": "tf-2.10",
   "language": "python",
   "name": "python3"
  },
  "language_info": {
   "codemirror_mode": {
    "name": "ipython",
    "version": 3
   },
   "file_extension": ".py",
   "mimetype": "text/x-python",
   "name": "python",
   "nbconvert_exporter": "python",
   "pygments_lexer": "ipython3",
   "version": "3.10.18"
  }
 },
 "nbformat": 4,
 "nbformat_minor": 4
}
